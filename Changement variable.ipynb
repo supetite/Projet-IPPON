{
 "cells": [
  {
   "cell_type": "markdown",
   "id": "ac0bd96f",
   "metadata": {},
   "source": [
    "# Changement de variable sur simplex"
   ]
  },
  {
   "cell_type": "code",
   "execution_count": 1,
   "id": "f0bb00c0",
   "metadata": {
    "vscode": {
     "languageId": "r"
    }
   },
   "outputs": [
    {
     "name": "stderr",
     "output_type": "stream",
     "text": [
      "Warning message:\n",
      "\"package 'SphericalCubature' was built under R version 4.0.5\"\n",
      "Loading required package: cubature\n",
      "\n",
      "Warning message:\n",
      "\"package 'cubature' was built under R version 4.0.5\"\n",
      "Loading required package: SimplicialCubature\n",
      "\n",
      "Loading required package: mvmesh\n",
      "\n",
      "Warning message:\n",
      "\"package 'mvmesh' was built under R version 4.0.5\"\n",
      "Loading required package: rcdd\n",
      "\n",
      "Warning message:\n",
      "\"package 'rcdd' was built under R version 4.0.5\"\n",
      "If you want correct answers, use rational arithmetic.\n",
      "See the Warnings sections in help pages for\n",
      "    functions that do computational geometry.\n",
      "\n",
      "Loading required package: rgl\n",
      "\n",
      "Warning message:\n",
      "\"package 'rgl' was built under R version 4.0.5\"\n",
      "Loading required package: geometry\n",
      "\n",
      "Warning message:\n",
      "\"package 'geometry' was built under R version 4.0.5\"\n",
      "Loading required package: abind\n",
      "\n"
     ]
    },
    {
     "name": "stdout",
     "output_type": "stream",
     "text": [
      "rect2polar          package:SphericalCubature          R Documentation\n",
      "\n",
      "_\bn-_\bd_\bi_\bm_\be_\bn_\bs_\bi_\bo_\bn_\ba_\bl _\bp_\bo_\bl_\ba_\br _\bc_\bo_\bo_\br_\bd_\bi_\bn_\ba_\bt_\be _\bt_\br_\ba_\bn_\bs_\bf_\bo_\br_\bm_\ba_\bt_\bi_\bo_\bn_\bs\n",
      "\n",
      "_\bD_\be_\bs_\bc_\br_\bi_\bp_\bt_\bi_\bo_\bn:\n",
      "\n",
      "     Convert between polar and rectangular coordinates in n-dimensions.\n",
      "     The point (x[1],...,x[n]) in rectangular coordinates corresponds\n",
      "     to the point (r,phi[1],...,phi[n-1]) in polar coordinates.\n",
      "\n",
      "_\bU_\bs_\ba_\bg_\be:\n",
      "\n",
      "     polar2rect(r, phi)\n",
      "     rect2polar(x)\n",
      "     \n",
      "_\bA_\br_\bg_\bu_\bm_\be_\bn_\bt_\bs:\n",
      "\n",
      "       r: a vector of radii of length m.\n",
      "\n",
      "     phi: angles, a matrix of size (n-1) x m.\n",
      "\n",
      "       x: (n x m) matrix, with column j being the point in\n",
      "          n-dimensional space.\n",
      "\n",
      "_\bD_\be_\bt_\ba_\bi_\bl_\bs:\n",
      "\n",
      "     n dimensional polar coordinates are given by the following:\n",
      "     rectangular x=(x[1],...,x[n]) corresponds to polar\n",
      "     (r,phi[1],...,phi[n-1]) by\n",
      "     x[1] = r*cos(phi[1])\n",
      "     x[j] = r*prod(sin(phi[1:(j-1)]))*cos(phi[j]), 2 <= j <= n-1\n",
      "     ...\n",
      "     x[n] = r*sin(phi[1])*sin(phi[2])*...*sin(phi[n-2])*sin(phi[n-1])\n",
      "     This is the defintion used in Wikipedia under the topic\n",
      "     'n-sphere'.  There are variations of this definition in use.  Here\n",
      "     phi[1],...,phi[n-2] are in [0,pi), and phi[n-1] is in [0,2*pi).\n",
      "     For multivariate integration, the determinant of the Jacobian of\n",
      "     the above tranformation is J(r,phi) = r^(n-1) * prod(\n",
      "     sin(phi[1:(n-2)])^((n-2):1) ); note that phi[n-1] does not appear\n",
      "     in the Jacobian.\n",
      "\n",
      "_\bV_\ba_\bl_\bu_\be:\n",
      "\n",
      "     For polar2rect( ), an (n x m) matrix of rectangular coordinates.\n",
      "\n",
      "     For rect2polar( ), a list with fields:\n",
      "\n",
      "       r: a vector of length m containing the radii\n",
      "\n",
      "     phi: angles, a matrix of size (n x m)\n",
      "\n",
      "_\bE_\bx_\ba_\bm_\bp_\bl_\be_\bs:\n",
      "\n",
      "     x <- matrix( 1:9, nrow=3 )\n",
      "     x\n",
      "     a <- rect2polar( x )\n",
      "     a\n",
      "     polar2rect( a$r, a$phi )\n",
      "     "
     ]
    }
   ],
   "source": [
    "#install.packages(\"SphericalCubature\")\n",
    "library(\"SphericalCubature\")\n",
    "help(\"rect2polar\")"
   ]
  },
  {
   "cell_type": "code",
   "execution_count": 2,
   "id": "934d1521",
   "metadata": {
    "vscode": {
     "languageId": "r"
    }
   },
   "outputs": [],
   "source": [
    "data<-read.csv(\"data_visco.csv\")\n",
    "data_lasso <- read.csv(\"data_lasso.csv\")\n",
    "data_AIC <- read.csv(\"data_AIC.csv\")"
   ]
  },
  {
   "cell_type": "markdown",
   "id": "acbfac62",
   "metadata": {},
   "source": [
    "### Change of  variables from a simplex to a N-sphere with the N-sphere coordinates"
   ]
  },
  {
   "cell_type": "code",
   "execution_count": 3,
   "id": "35a8693f",
   "metadata": {
    "scrolled": false,
    "vscode": {
     "languageId": "r"
    }
   },
   "outputs": [],
   "source": [
    "change_in_phi_from_x = function(x){ #We put in argument a matrix or a vector that takes n values in a simplex\n",
    "    epsilon<-1e-9  # We had a little noise to insure that we can devide by 0\n",
    "    X<-as.matrix(x[, -1]/100)\n",
    "    X[which(X == NaN)] <- 0.\n",
    "    for (i in 1:dim(X)[1]){   #To ensure that we each row is equal to 1 to remove the noise in the column with the highest values in it\n",
    "        X[ i,23] <- X[ i,23] - (sum(X[i, ]==0.))*epsilon\n",
    "    }\n",
    "    X[which(X == 0.)] <- epsilon\n",
    "    Y<-sqrt(X) #We do a first change of variables y²=x eq y=sqrt(x)\n",
    "    Y[is.na(Y)] <- 0  #If we have some Nan in our matrix we replace them by zeros\n",
    "    return(t(as.matrix(rect2polar(t(Y))$phi)))\n",
    "}\n",
    "\n"
   ]
  },
  {
   "cell_type": "markdown",
   "id": "a0b549f1",
   "metadata": {},
   "source": [
    "### Change of  variables from a N-sphere to an simplex with the N-sphere coordinates"
   ]
  },
  {
   "cell_type": "code",
   "execution_count": 9,
   "id": "ab277b95",
   "metadata": {
    "vscode": {
     "languageId": "r"
    }
   },
   "outputs": [],
   "source": [
    "change_in_x_from_phi = function(phi){ #We put in argumennt a matrix or a vector that takes n-1 values of angles in [0, pi/2]\n",
    "    Phi<-as.matrix(phi)  \n",
    "    r=rep(1,dim(Phi)[1])  #To realize our change of variables considered in the function polar2rect in R it needs to take a radius equals to 1 \n",
    "    new<-(t(polar2rect(r, t(Phi))))**2  # We realize the change of variables such that f.e. x_1=cos²(theta_1)\n",
    "    new[which(new<1e-4)]<-0   #We obtain sometimes values of order 1e-5 we replace it by 0\n",
    "    return (new)\n",
    "}\n"
   ]
  },
  {
   "cell_type": "markdown",
   "id": "3c1a6899",
   "metadata": {},
   "source": [
    "### Change of  variables from an simplex to an hypercube with the length ratio variables"
   ]
  },
  {
   "cell_type": "code",
   "execution_count": 10,
   "id": "d58ed13c",
   "metadata": {
    "vscode": {
     "languageId": "r"
    }
   },
   "outputs": [],
   "source": [
    "change_in_lambda_from_x = function(x){  # We put in argument a matrix or a vector that takes n values in a simplex\n",
    "    X<-as.matrix(x)\n",
    "    Phi<-change_in_phi_from_x(X) #We change our variables from the simplex in angles in [0, pi/2 ]\n",
    "    lambda<-(cos(Phi))**2 # We change of varaible is the following : lambda=cos(theta)\n",
    "    return(lambda)\n",
    "}"
   ]
  },
  {
   "cell_type": "markdown",
   "id": "2ac3ed62",
   "metadata": {},
   "source": [
    "### Change of  variables from an hypercube to a simplex which the length ratio variables"
   ]
  },
  {
   "cell_type": "code",
   "execution_count": 11,
   "id": "3235ae58",
   "metadata": {
    "vscode": {
     "languageId": "r"
    }
   },
   "outputs": [],
   "source": [
    "change_in_x_from_lambda = function(lambda){ #We put in argument a matrix or a vector of n-1 variables in an hypercube\n",
    "    Lambda<-as.matrix(lambda) \n",
    "    Phi<-acos(sqrt(Lambda)) #We change our variables from the hypercube to the N-spheres so n-1 angles in [0, pi/2]\n",
    "    return(change_in_x_from_phi(Phi)) #We use the change of variables from a N-sphere to a simplex\n",
    "}"
   ]
  },
  {
   "cell_type": "markdown",
   "id": "3319578c",
   "metadata": {},
   "source": [
    "## TESTS OF THE FUNCTIONS"
   ]
  },
  {
   "cell_type": "markdown",
   "id": "626bdecc",
   "metadata": {},
   "source": [
    "### Test of the change of variables for the N-spheres coordinates"
   ]
  },
  {
   "cell_type": "code",
   "execution_count": 12,
   "id": "42a1df27",
   "metadata": {
    "vscode": {
     "languageId": "r"
    }
   },
   "outputs": [
    {
     "name": "stdout",
     "output_type": "stream",
     "text": [
      "[1] 7247   28\n",
      "  X__3   X__4   X__8 X__10 X__17 X__18 X__29 X__30 X__43 X__48 X__49 X__53\n",
      "1    0 0.0942 0.0852     0     0     0     0     0     0     0     0     0\n",
      "  X__57 X__59 X__64 X__67 X__71  X__74 X__84 X__86 X__106 X__109 X__113 X__115\n",
      "1     0     0     0     0     0 0.1367     0     0      0 0.6839      0      0\n",
      "  X__117 X__133 X__138 autres\n",
      "1      0      0      0      0\n"
     ]
    },
    {
     "name": "stderr",
     "output_type": "stream",
     "text": [
      "Warning message in sqrt(X):\n",
      "\"NaNs produced\"\n"
     ]
    },
    {
     "name": "stdout",
     "output_type": "stream",
     "text": [
      "         [,1]     [,2]    [,3]     [,4]     [,5]     [,6]     [,7]     [,8]\n",
      "[1,] 1.570765 1.258841 1.25908 1.570761 1.570761 1.570761 1.570761 1.570761\n",
      "         [,9]    [,10]    [,11]    [,12]    [,13]    [,14]    [,15]    [,16]\n",
      "[1,] 1.570761 1.570761 1.570761 1.570761 1.570761 1.570761 1.570761 1.570761\n",
      "        [,17]    [,18]    [,19]    [,20]    [,21]        [,22]    [,23]\n",
      "[1,] 1.570761 1.150371 1.570758 1.570758 1.570758 8.550445e-05 1.570796\n",
      "        [,24]    [,25]     [,26]     [,27]\n",
      "[1,] 1.107149 1.047198 0.9553166 0.7853982\n"
     ]
    },
    {
     "name": "stderr",
     "output_type": "stream",
     "text": [
      "Warning message in sqrt(X):\n",
      "\"NaNs produced\"\n"
     ]
    },
    {
     "name": "stdout",
     "output_type": "stream",
     "text": [
      "     [,1]   [,2]   [,3] [,4] [,5] [,6] [,7] [,8] [,9] [,10] [,11] [,12] [,13]\n",
      "[1,]    0 0.0942 0.0852    0    0    0    0    0    0     0     0     0     0\n",
      "     [,14] [,15] [,16] [,17]  [,18] [,19] [,20] [,21]  [,22] [,23] [,24] [,25]\n",
      "[1,]     0     0     0     0 0.1367     0     0     0 0.6839     0     0     0\n",
      "     [,26] [,27] [,28]\n",
      "[1,]     0     0     0\n"
     ]
    },
    {
     "name": "stderr",
     "output_type": "stream",
     "text": [
      "Warning message in sqrt(X):\n",
      "\"NaNs produced\"\n"
     ]
    },
    {
     "name": "stdout",
     "output_type": "stream",
     "text": [
      "[1] 1\n"
     ]
    }
   ],
   "source": [
    "print(dim(data_lasso[, -1]))\n",
    "print(data_lasso[1,-1 ]/100)\n",
    "print(change_in_phi_from_x(data_lasso[1, ]))\n",
    "print(change_in_x_from_phi(change_in_phi_from_x(data_lasso[1, ])))\n",
    "print(sum(change_in_x_from_phi(change_in_phi_from_x(data_lasso[2, ]))))"
   ]
  },
  {
   "cell_type": "markdown",
   "id": "a3f30bf4",
   "metadata": {},
   "source": [
    "### Test of the change of variables for the length ratio"
   ]
  },
  {
   "cell_type": "code",
   "execution_count": 13,
   "id": "bcad658d",
   "metadata": {
    "vscode": {
     "languageId": "r"
    }
   },
   "outputs": [
    {
     "name": "stdout",
     "output_type": "stream",
     "text": [
      "  X__3   X__4   X__8 X__10 X__17 X__18 X__29 X__30 X__43 X__48 X__49 X__53\n",
      "1    0 0.0942 0.0852     0     0     0     0     0     0     0     0     0\n",
      "2    0 0.0942 0.0853     0     0     0     0     0     0     0     0     0\n",
      "  X__57 X__59 X__64 X__67 X__71  X__74 X__84 X__86 X__106 X__109 X__113 X__115\n",
      "1     0     0     0     0     0 0.1367     0     0      0 0.6839      0      0\n",
      "2     0     0     0     0     0 0.1173     0     0      0 0.7032      0      0\n",
      "  X__117 X__133 X__138 autres\n",
      "1      0      0      0      0\n",
      "2      0      0      0      0\n"
     ]
    },
    {
     "name": "stderr",
     "output_type": "stream",
     "text": [
      "Warning message in sqrt(X):\n",
      "\"NaNs produced\"\n"
     ]
    },
    {
     "name": "stdout",
     "output_type": "stream",
     "text": [
      "      [,1]   [,2]      [,3]         [,4]         [,5]         [,6]         [,7]\n",
      "[1,] 1e-09 0.0942 0.0940605 1.218620e-09 1.218620e-09 1.218620e-09 1.218620e-09\n",
      "[2,] 1e-09 0.0942 0.0941709 1.218769e-09 1.218769e-09 1.218769e-09 1.218769e-09\n",
      "             [,8]         [,9]        [,10]        [,11]        [,12]\n",
      "[1,] 1.218620e-09 1.218620e-09 1.218620e-09 1.218620e-09 1.218621e-09\n",
      "[2,] 1.218769e-09 1.218769e-09 1.218769e-09 1.218769e-09 1.218769e-09\n",
      "            [,13]        [,14]        [,15]        [,16]        [,17]     [,18]\n",
      "[1,] 1.218621e-09 1.218621e-09 1.218621e-09 1.218621e-09 1.218621e-09 0.1665854\n",
      "[2,] 1.218769e-09 1.218769e-09 1.218769e-09 1.218769e-09 1.218769e-09 0.1429616\n",
      "            [,19]        [,20]        [,21] [,22]        [,23] [,24] [,25]\n",
      "[1,] 1.462202e-09 1.462202e-09 1.462202e-09     1 3.749152e-33   0.2  0.25\n",
      "[2,] 1.422071e-09 1.422071e-09 1.422071e-09     1 3.749152e-33   0.2  0.25\n",
      "         [,26] [,27]\n",
      "[1,] 0.3333333   0.5\n",
      "[2,] 0.3333333   0.5\n"
     ]
    },
    {
     "name": "stderr",
     "output_type": "stream",
     "text": [
      "Warning message in sqrt(X):\n",
      "\"NaNs produced\"\n"
     ]
    },
    {
     "name": "stdout",
     "output_type": "stream",
     "text": [
      "     [,1]   [,2]   [,3] [,4] [,5] [,6] [,7] [,8] [,9] [,10] [,11] [,12] [,13]\n",
      "[1,]    0 0.0942 0.0852    0    0    0    0    0    0     0     0     0     0\n",
      "[2,]    0 0.0942 0.0853    0    0    0    0    0    0     0     0     0     0\n",
      "     [,14] [,15] [,16] [,17]  [,18] [,19] [,20] [,21]  [,22] [,23] [,24] [,25]\n",
      "[1,]     0     0     0     0 0.1367     0     0     0 0.6839     0     0     0\n",
      "[2,]     0     0     0     0 0.1173     0     0     0 0.7032     0     0     0\n",
      "     [,26] [,27] [,28]\n",
      "[1,]     0     0     0\n",
      "[2,]     0     0     0\n"
     ]
    },
    {
     "name": "stderr",
     "output_type": "stream",
     "text": [
      "Warning message in sqrt(X):\n",
      "\"NaNs produced\"\n"
     ]
    },
    {
     "name": "stdout",
     "output_type": "stream",
     "text": [
      "[1] 2\n"
     ]
    }
   ],
   "source": [
    "print(data_lasso[1:2,-1 ]/100)\n",
    "print(change_in_lambda_from_x(data_lasso[1:2, ]))\n",
    "print(change_in_x_from_lambda(change_in_lambda_from_x(data_lasso[1:2, ])))\n",
    "print(sum(change_in_x_from_lambda(change_in_lambda_from_x(data_lasso[1:2, ]))))                             "
   ]
  },
  {
   "cell_type": "code",
   "execution_count": null,
   "id": "b7eac3e3",
   "metadata": {
    "vscode": {
     "languageId": "r"
    }
   },
   "outputs": [],
   "source": []
  }
 ],
 "metadata": {
  "kernelspec": {
   "display_name": "R",
   "language": "R",
   "name": "ir"
  },
  "language_info": {
   "codemirror_mode": "r",
   "file_extension": ".r",
   "mimetype": "text/x-r-source",
   "name": "R",
   "pygments_lexer": "r",
   "version": "4.0.3"
  }
 },
 "nbformat": 4,
 "nbformat_minor": 5
}
