{
 "cells": [
  {
   "cell_type": "markdown",
   "id": "5b423049",
   "metadata": {},
   "source": [
    "## Importation de donnnes"
   ]
  },
  {
   "cell_type": "code",
   "execution_count": 40,
   "id": "b858cac7",
   "metadata": {
    "vscode": {
     "languageId": "r"
    }
   },
   "outputs": [],
   "source": [
    "data<-read.csv(\"data_visco.csv\")\n",
    "data_lasso <- read.csv(\"data_lasso.csv\")\n",
    "data_AIC <- read.csv(\"data_AIC.csv\")\n"
   ]
  },
  {
   "cell_type": "code",
   "execution_count": 5,
   "id": "707fdcdd",
   "metadata": {
    "vscode": {
     "languageId": "r"
    }
   },
   "outputs": [
    {
     "data": {
      "text/html": [
       "<style>\n",
       ".list-inline {list-style: none; margin:0; padding: 0}\n",
       ".list-inline>li {display: inline-block}\n",
       ".list-inline>li:not(:last-child)::after {content: \"\\00b7\"; padding: 0 .5ex}\n",
       "</style>\n",
       "<ol class=list-inline><li>7247</li><li>29</li></ol>\n"
      ],
      "text/latex": [
       "\\begin{enumerate*}\n",
       "\\item 7247\n",
       "\\item 29\n",
       "\\end{enumerate*}\n"
      ],
      "text/markdown": [
       "1. 7247\n",
       "2. 29\n",
       "\n",
       "\n"
      ],
      "text/plain": [
       "[1] 7247   29"
      ]
     },
     "metadata": {},
     "output_type": "display_data"
    },
    {
     "data": {
      "text/html": [
       "<style>\n",
       ".list-inline {list-style: none; margin:0; padding: 0}\n",
       ".list-inline>li {display: inline-block}\n",
       ".list-inline>li:not(:last-child)::after {content: \"\\00b7\"; padding: 0 .5ex}\n",
       "</style>\n",
       "<ol class=list-inline><li>7247</li><li>20</li></ol>\n"
      ],
      "text/latex": [
       "\\begin{enumerate*}\n",
       "\\item 7247\n",
       "\\item 20\n",
       "\\end{enumerate*}\n"
      ],
      "text/markdown": [
       "1. 7247\n",
       "2. 20\n",
       "\n",
       "\n"
      ],
      "text/plain": [
       "[1] 7247   20"
      ]
     },
     "metadata": {},
     "output_type": "display_data"
    }
   ],
   "source": [
    "dim(data_lasso)\n",
    "dim(data_AIC)"
   ]
  },
  {
   "cell_type": "markdown",
   "id": "df75296e",
   "metadata": {},
   "source": [
    "## t-IMSE standard"
   ]
  },
  {
   "cell_type": "code",
   "execution_count": 41,
   "id": "45b213b2",
   "metadata": {
    "vscode": {
     "languageId": "r"
    }
   },
   "outputs": [],
   "source": [
    "# Charger la librairie\n",
    "library(\"KrigInv\") #Pour t-IMSE\n",
    "library(\"nloptr\") #Pour la fonction d'optimisation Cobyla"
   ]
  },
  {
   "cell_type": "code",
   "execution_count": 6,
   "id": "7a973b60",
   "metadata": {
    "vscode": {
     "languageId": "r"
    }
   },
   "outputs": [
    {
     "name": "stdout",
     "output_type": "stream",
     "text": [
      "\n",
      "optimisation start\n",
      "------------------\n",
      "* estimation method   : MLE \n",
      "* optimisation method : BFGS \n",
      "* analytical gradient : used\n",
      "* trend model : ~1\n",
      "* covariance model : \n",
      "  - type :  matern5_2 \n",
      "  - nugget : NO\n",
      "  - parameters lower bounds :  1e-10 1e-10 1e-10 1e-10 1e-10 1e-10 1e-10 1e-10 1e-10 1e-10 1e-10 1e-10 1e-10 1e-10 1e-10 1e-10 1e-10 1e-10 1e-10 1e-10 1e-10 1e-10 1e-10 1e-10 1e-10 1e-10 1e-10 1e-10 1e-10 1e-10 1e-10 1e-10 1e-10 1e-10 1e-10 1e-10 1e-10 1e-10 1e-10 1e-10 1e-10 1e-10 1e-10 1e-10 1e-10 1e-10 1e-10 1e-10 1e-10 1e-10 1e-10 1e-10 1e-10 1e-10 1e-10 1e-10 1e-10 1e-10 1e-10 1e-10 1e-10 1e-10 1e-10 1e-10 1e-10 1e-10 1e-10 1e-10 1e-10 1e-10 1e-10 1e-10 1e-10 1e-10 1e-10 1e-10 1e-10 1e-10 1e-10 1e-10 1e-10 1e-10 1e-10 1e-10 1e-10 1e-10 1e-10 1e-10 1e-10 1e-10 1e-10 1e-10 1e-10 1e-10 1e-10 1e-10 1e-10 1e-10 1e-10 1e-10 1e-10 1e-10 1e-10 1e-10 1e-10 1e-10 1e-10 1e-10 1e-10 1e-10 1e-10 1e-10 1e-10 1e-10 1e-10 1e-10 \n",
      "  - parameters upper bounds :  12076 0.78 1.976293e-08 44.86 1.95768e-08 1.965503e-08 1.953967e-08 43.4 1.985609e-08 0.92 1.97492e-08 1.994255e-08 1.963952e-08 1.967024e-08 1.966101e-08 21.2 1.940579e-08 7.3 1.96085e-08 4.88 1.961367e-08 1.14 1.992448e-08 1 1.915913e-08 0.6 1.975446e-08 1.98858e-08 1.991416e-08 1.947255e-08 1.948256e-08 1.974141e-08 6 1.980451e-08 1.974727e-08 25 1.936839e-08 1.985075e-08 1.996412e-08 1.884103e-08 4 0.8 1.980576e-08 1.982025e-08 1.968101e-08 1.98282e-08 24.16 1.985847e-08 1.979057e-08 1.968168e-08 1.917941e-08 1.964783e-08 8 16.82 1.966953e-08 1.980066e-08 3 3 1.990254e-08 11.36 1.955262e-08 1.937203e-08 1.96984e-08 110.54 1.981314e-08 4 1.971577e-08 1 1.956286e-08 1.985957e-08 1.965638e-08 2 1.908241e-08 62.98 1.967444e-08 1.944803e-08 1.974053e-08 1.962257e-08 1.998644e-08 1.975165e-08 1.960249e-08 1.986315e-08 1.2 1.966508e-08 1.990736e-08 1.885519e-08 1.965844e-08 1.946215e-08 1.97543e-08 1.980681e-08 86.38 1.988441e-08 1.992059e-08 1.978732e-08 1.968113e-08 1.97873e-08 0.62 1.95289e-08 1.960343e-08 1.949232e-08 1.961222e-08 1.938719e-08 1.972362e-08 0.08000001 1.932484e-08 1.991055e-08 1.991523e-08 1.987152e-08 1.996299e-08 1.987262e-08 1.954092e-08 1.966945e-08 1.952636e-08 1.89323e-08 7.28 10 \n",
      "  - best initial criterion value(s) :  -987.9143 \n",
      "\n",
      "N = 116, M = 5 machine precision = 2.22045e-16\n",
      "At X0, 0 variables are exactly at the bounds\n",
      "At iterate     0  f=       987.91  |proj g|=    1.966e-08\n",
      "At iterate     1  f =        986.9  |proj g|=      0.039105\n",
      "ys=-7.878e-02  -gs= 6.759e-07, BFGS update SKIPPED\n",
      "At iterate     2  f =       980.55  |proj g|=       0.27483\n",
      "At iterate     3  f =       980.55  |proj g|=       0.27483\n",
      "At iterate     4  f =       980.36  |proj g|=       0.27219\n",
      "At iterate     5  f =       980.31  |proj g|=       0.27161\n",
      "At iterate     6  f =       980.31  |proj g|=       0.27159\n",
      "At iterate     7  f =       980.17  |proj g|=        0.2072\n",
      "Nonpositive definiteness in Cholesky factorization in formt();\n",
      "   refresh the lbfgs memory and restart the iteration.\n",
      "At iterate     8  f =       980.08  |proj g|=       0.20072\n",
      "At iterate     9  f =       980.08  |proj g|=       0.20072\n",
      "Bad direction in the line search;\n",
      "   refresh the lbfgs memory and restart the iteration.\n",
      "At iterate    10  f =       979.98  |proj g|=       0.19288\n",
      "At iterate    11  f =       979.98  |proj g|=       0.19288\n",
      "At iterate    12  f =       979.81  |proj g|=       0.17668\n",
      "Nonpositive definiteness in Cholesky factorization in formt();\n",
      "   refresh the lbfgs memory and restart the iteration.\n",
      "At iterate    13  f =       979.56  |proj g|=       0.47803\n",
      "At iterate    14  f =       979.56  |proj g|=       0.48965\n",
      "Nonpositive definiteness in Cholesky factorization in formt();\n",
      "   refresh the lbfgs memory and restart the iteration.\n",
      "At iterate    15  f =       979.49  |proj g|=       0.14566\n",
      "At iterate    16  f =       979.49  |proj g|=       0.14566\n",
      "At iterate    17  f =       979.49  |proj g|=       0.14565\n",
      "At iterate    18  f =       979.49  |proj g|=       0.14564\n",
      "At iterate    19  f =       979.49  |proj g|=       0.14564\n",
      "At iterate    20  f =       979.49  |proj g|=       0.14563\n",
      "At iterate    21  f =       979.38  |proj g|=       0.13595\n",
      "Nonpositive definiteness in Cholesky factorization in formk;\n",
      "   refresh the lbfgs memory and restart the iteration.\n",
      "At iterate    22  f =       979.34  |proj g|=       0.13275\n",
      "Bad direction in the line search;\n",
      "   refresh the lbfgs memory and restart the iteration.\n",
      "At iterate    23  f =       979.17  |proj g|=       0.11927\n",
      "Bad direction in the line search;\n",
      "   refresh the lbfgs memory and restart the iteration.\n",
      "At iterate    24  f =       979.08  |proj g|=       0.11157\n",
      "At iterate    25  f =       979.08  |proj g|=       0.11156\n",
      "At iterate    26  f =       979.06  |proj g|=       0.10979\n",
      "Nonpositive definiteness in Cholesky factorization in formt();\n",
      "   refresh the lbfgs memory and restart the iteration.\n",
      "At iterate    27  f =       979.03  |proj g|=       0.10773\n",
      "At iterate    28  f =       979.03  |proj g|=       0.10727\n",
      "At iterate    29  f =          979  |proj g|=       0.10498\n",
      "Nonpositive definiteness in Cholesky factorization in formt();\n",
      "   refresh the lbfgs memory and restart the iteration.\n",
      "At iterate    30  f =       978.98  |proj g|=       0.10308\n",
      "At iterate    31  f =       978.98  |proj g|=       0.10307\n",
      "Bad direction in the line search;\n",
      "   refresh the lbfgs memory and restart the iteration.\n",
      "At iterate    32  f =       978.65  |proj g|=       0.12785\n",
      "At iterate    33  f =       978.52  |proj g|=       0.24606\n",
      "Nonpositive definiteness in Cholesky factorization in formt();\n",
      "   refresh the lbfgs memory and restart the iteration.\n",
      "At iterate    34  f =       978.49  |proj g|=      0.063734\n",
      "At iterate    35  f =       978.49  |proj g|=      0.058713\n",
      "At iterate    36  f =       978.49  |proj g|=      0.058759\n",
      "Bad direction in the line search;\n",
      "   refresh the lbfgs memory and restart the iteration.\n",
      "At iterate    37  f =       978.49  |proj g|=      0.058244\n",
      "At iterate    38  f =       978.48  |proj g|=      0.058175\n",
      "At iterate    39  f =       978.47  |proj g|=       0.34523\n",
      "At iterate    40  f =       978.47  |proj g|=       0.17371\n",
      "At iterate    41  f =       978.47  |proj g|=       0.21439\n",
      "At iterate    42  f =       978.47  |proj g|=       0.21135\n",
      "Bad direction in the line search;\n",
      "   refresh the lbfgs memory and restart the iteration.\n",
      "At iterate    43  f =       978.45  |proj g|=       0.05488\n",
      "At iterate    44  f =       978.45  |proj g|=      0.054919\n",
      "At iterate    45  f =       978.45  |proj g|=      0.054942\n",
      "At iterate    46  f =       978.45  |proj g|=      0.054947\n",
      "Bad direction in the line search;\n",
      "   refresh the lbfgs memory and restart the iteration.\n",
      "At iterate    47  f =       978.44  |proj g|=      0.054507\n",
      "At iterate    48  f =       978.43  |proj g|=        0.2037\n",
      "At iterate    49  f =       978.43  |proj g|=       0.18442\n",
      "Bad direction in the line search;\n",
      "   refresh the lbfgs memory and restart the iteration.\n",
      "At iterate    50  f =       978.41  |proj g|=       0.05184\n",
      "At iterate    51  f =       978.41  |proj g|=      0.051861\n",
      "At iterate    52  f =       978.41  |proj g|=      0.051877\n",
      "Bad direction in the line search;\n",
      "   refresh the lbfgs memory and restart the iteration.\n",
      "At iterate    53  f =       978.41  |proj g|=      0.051492\n",
      "At iterate    54  f =        978.4  |proj g|=        0.2381\n",
      "At iterate    55  f =        978.4  |proj g|=       0.15064\n",
      "At iterate    56  f =        978.4  |proj g|=       0.17518\n",
      "Bad direction in the line search;\n",
      "   refresh the lbfgs memory and restart the iteration.\n",
      "At iterate    57  f =       978.38  |proj g|=       0.04921\n",
      "At iterate    58  f =       978.38  |proj g|=      0.049229\n",
      "At iterate    59  f =       978.38  |proj g|=      0.049235\n",
      "At iterate    60  f =       978.38  |proj g|=      0.049238\n",
      "\n",
      "iterations 60\n",
      "function evaluations 295\n",
      "segments explored during Cauchy searches 245\n",
      "BFGS updates skipped 1\n",
      "active bounds at final generalized Cauchy point 99\n",
      "norm of the final projected gradient 0.0492385\n",
      "final function value 978.38\n",
      "\n",
      "F = 978.38\n",
      "final  value 978.380250 \n",
      "converged\n"
     ]
    },
    {
     "data": {
      "text/html": [
       "<style>\n",
       ".list-inline {list-style: none; margin:0; padding: 0}\n",
       ".list-inline>li {display: inline-block}\n",
       ".list-inline>li:not(:last-child)::after {content: \"\\00b7\"; padding: 0 .5ex}\n",
       "</style>\n",
       "<ol class=list-inline><li>341.803072967813</li><li>341.803072967813</li><li>341.803072967813</li><li>341.803072967813</li><li>341.803072967813</li><li>341.803072967813</li><li>341.803072967813</li><li>341.803072967813</li><li>341.803072967813</li><li>341.803072967813</li><li>341.803072967813</li><li>341.803072967813</li><li>341.803072967813</li><li>341.803072967813</li><li>341.803072967813</li><li>341.803072967813</li><li>341.803072967813</li><li>341.803072967813</li><li>341.803072967813</li><li>341.803072967813</li><li>341.803072967813</li><li>341.803072967813</li><li>341.803072967813</li><li>341.803072967813</li><li>341.803072967813</li><li>341.803072967813</li><li>341.803072967813</li><li>341.803072967813</li><li>341.803072967813</li><li>341.803072967813</li><li>341.803072967813</li><li>341.803072967813</li><li>341.803072967813</li><li>341.803072967813</li><li>341.803072967813</li><li>341.803072967813</li><li>341.803072967813</li><li>341.803072967813</li><li>341.803072967813</li><li>341.803072967813</li><li>341.803072967813</li><li>341.803072967813</li><li>341.803072967813</li><li>341.803072967813</li><li>341.803072967814</li><li>341.803072967813</li><li>341.803072967813</li><li>341.803072967813</li><li>341.803072967813</li><li>341.803072967813</li><li>341.803072967813</li><li>341.803072967813</li><li>341.803072967813</li><li>341.803072967813</li><li>341.803072967813</li><li>341.803072967813</li><li>341.803072967813</li><li>341.803072967813</li><li>341.803072967813</li><li>341.803072967813</li></ol>\n"
      ],
      "text/latex": [
       "\\begin{enumerate*}\n",
       "\\item 341.803072967813\n",
       "\\item 341.803072967813\n",
       "\\item 341.803072967813\n",
       "\\item 341.803072967813\n",
       "\\item 341.803072967813\n",
       "\\item 341.803072967813\n",
       "\\item 341.803072967813\n",
       "\\item 341.803072967813\n",
       "\\item 341.803072967813\n",
       "\\item 341.803072967813\n",
       "\\item 341.803072967813\n",
       "\\item 341.803072967813\n",
       "\\item 341.803072967813\n",
       "\\item 341.803072967813\n",
       "\\item 341.803072967813\n",
       "\\item 341.803072967813\n",
       "\\item 341.803072967813\n",
       "\\item 341.803072967813\n",
       "\\item 341.803072967813\n",
       "\\item 341.803072967813\n",
       "\\item 341.803072967813\n",
       "\\item 341.803072967813\n",
       "\\item 341.803072967813\n",
       "\\item 341.803072967813\n",
       "\\item 341.803072967813\n",
       "\\item 341.803072967813\n",
       "\\item 341.803072967813\n",
       "\\item 341.803072967813\n",
       "\\item 341.803072967813\n",
       "\\item 341.803072967813\n",
       "\\item 341.803072967813\n",
       "\\item 341.803072967813\n",
       "\\item 341.803072967813\n",
       "\\item 341.803072967813\n",
       "\\item 341.803072967813\n",
       "\\item 341.803072967813\n",
       "\\item 341.803072967813\n",
       "\\item 341.803072967813\n",
       "\\item 341.803072967813\n",
       "\\item 341.803072967813\n",
       "\\item 341.803072967813\n",
       "\\item 341.803072967813\n",
       "\\item 341.803072967813\n",
       "\\item 341.803072967813\n",
       "\\item 341.803072967814\n",
       "\\item 341.803072967813\n",
       "\\item 341.803072967813\n",
       "\\item 341.803072967813\n",
       "\\item 341.803072967813\n",
       "\\item 341.803072967813\n",
       "\\item 341.803072967813\n",
       "\\item 341.803072967813\n",
       "\\item 341.803072967813\n",
       "\\item 341.803072967813\n",
       "\\item 341.803072967813\n",
       "\\item 341.803072967813\n",
       "\\item 341.803072967813\n",
       "\\item 341.803072967813\n",
       "\\item 341.803072967813\n",
       "\\item 341.803072967813\n",
       "\\end{enumerate*}\n"
      ],
      "text/markdown": [
       "1. 341.803072967813\n",
       "2. 341.803072967813\n",
       "3. 341.803072967813\n",
       "4. 341.803072967813\n",
       "5. 341.803072967813\n",
       "6. 341.803072967813\n",
       "7. 341.803072967813\n",
       "8. 341.803072967813\n",
       "9. 341.803072967813\n",
       "10. 341.803072967813\n",
       "11. 341.803072967813\n",
       "12. 341.803072967813\n",
       "13. 341.803072967813\n",
       "14. 341.803072967813\n",
       "15. 341.803072967813\n",
       "16. 341.803072967813\n",
       "17. 341.803072967813\n",
       "18. 341.803072967813\n",
       "19. 341.803072967813\n",
       "20. 341.803072967813\n",
       "21. 341.803072967813\n",
       "22. 341.803072967813\n",
       "23. 341.803072967813\n",
       "24. 341.803072967813\n",
       "25. 341.803072967813\n",
       "26. 341.803072967813\n",
       "27. 341.803072967813\n",
       "28. 341.803072967813\n",
       "29. 341.803072967813\n",
       "30. 341.803072967813\n",
       "31. 341.803072967813\n",
       "32. 341.803072967813\n",
       "33. 341.803072967813\n",
       "34. 341.803072967813\n",
       "35. 341.803072967813\n",
       "36. 341.803072967813\n",
       "37. 341.803072967813\n",
       "38. 341.803072967813\n",
       "39. 341.803072967813\n",
       "40. 341.803072967813\n",
       "41. 341.803072967813\n",
       "42. 341.803072967813\n",
       "43. 341.803072967813\n",
       "44. 341.803072967813\n",
       "45. 341.803072967814\n",
       "46. 341.803072967813\n",
       "47. 341.803072967813\n",
       "48. 341.803072967813\n",
       "49. 341.803072967813\n",
       "50. 341.803072967813\n",
       "51. 341.803072967813\n",
       "52. 341.803072967813\n",
       "53. 341.803072967813\n",
       "54. 341.803072967813\n",
       "55. 341.803072967813\n",
       "56. 341.803072967813\n",
       "57. 341.803072967813\n",
       "58. 341.803072967813\n",
       "59. 341.803072967813\n",
       "60. 341.803072967813\n",
       "\n",
       "\n"
      ],
      "text/plain": [
       " [1] 341.8031 341.8031 341.8031 341.8031 341.8031 341.8031 341.8031 341.8031\n",
       " [9] 341.8031 341.8031 341.8031 341.8031 341.8031 341.8031 341.8031 341.8031\n",
       "[17] 341.8031 341.8031 341.8031 341.8031 341.8031 341.8031 341.8031 341.8031\n",
       "[25] 341.8031 341.8031 341.8031 341.8031 341.8031 341.8031 341.8031 341.8031\n",
       "[33] 341.8031 341.8031 341.8031 341.8031 341.8031 341.8031 341.8031 341.8031\n",
       "[41] 341.8031 341.8031 341.8031 341.8031 341.8031 341.8031 341.8031 341.8031\n",
       "[49] 341.8031 341.8031 341.8031 341.8031 341.8031 341.8031 341.8031 341.8031\n",
       "[57] 341.8031 341.8031 341.8031 341.8031"
      ]
     },
     "metadata": {},
     "output_type": "display_data"
    }
   ],
   "source": [
    "#t-IMSE STANDARD APPLIQUEE AUX DONNEES \n",
    "\n",
    "x = data[1:60,1:116]\n",
    "#x = matrix(sample(5:500, 116*30, replace=TRUE),nrow = 30)\n",
    "data_reduced = data[1:120,1:116]\n",
    "#des = data_reduced[c(-1)]\n",
    "shape = c(dim(data_reduced))\n",
    "noise = matrix(runif(prod(shape),min = 0.00000001,max = 0.00000002), nrow = 120)\n",
    "mod = km(formula = ~1, design = data_reduced + noise, response = data_reduced[1])\n",
    "tmse_optim(x, model = mod, T = 400)"
   ]
  },
  {
   "cell_type": "markdown",
   "id": "b97b1f3b",
   "metadata": {},
   "source": [
    "## Adaptation t-IMSE à nos contraintes"
   ]
  },
  {
   "cell_type": "markdown",
   "id": "ab395923",
   "metadata": {},
   "source": [
    "Au lieu d'utiliser la fonction **tmse_optim** standard, il nous faut considerer les contraintes du simplex"
   ]
  },
  {
   "cell_type": "code",
   "execution_count": 42,
   "id": "644c1a2d",
   "metadata": {
    "vscode": {
     "languageId": "r"
    }
   },
   "outputs": [],
   "source": [
    "# Initialize randomly data by index\n",
    "d = 29\n",
    "n_init = d*10\n",
    "index = sample(1:nrow(data_lasso),n_init)\n",
    "data_lasso_reduced = data_lasso[index, ]\n",
    "\n",
    "X = data_lasso_reduced[,c(-1)]"
   ]
  },
  {
   "cell_type": "code",
   "execution_count": 43,
   "id": "572d2041",
   "metadata": {
    "vscode": {
     "languageId": "r"
    }
   },
   "outputs": [],
   "source": [
    "#simulation de x unifome sur [0,1] et la somme egale à 1\n",
    "simul <- function(d)\n",
    "{\n",
    "  # set.seed(18)\n",
    "  u = runif(n=d-1, min=0,max=1)\n",
    "  #replicate(n=5,u) si on doit tester avec plusieurs vecteurs diff\n",
    "  u = c(0,u,1)\n",
    "  u = sort(u)\n",
    "  x = u[2:(d+1)] - u[1:d]  \n",
    "  return(x)\n",
    "}"
   ]
  },
  {
   "cell_type": "code",
   "execution_count": 44,
   "id": "be225fc1",
   "metadata": {
    "vscode": {
     "languageId": "r"
    }
   },
   "outputs": [],
   "source": [
    "g = function (x, model, T, method.param = NULL) \n",
    "{\n",
    "    y <- t(x)\n",
    "    if (ncol(y) == model@d) \n",
    "        z <- y\n",
    "    if (ncol(y) != model@d) \n",
    "        z <- x\n",
    "    krig <- predict_nobias_km(object = model, newdata = as.data.frame(z), \n",
    "        type = \"UK\", se.compute = TRUE)\n",
    "    mk <- krig$mean\n",
    "    sk <- krig$sd\n",
    "    if (is.null(method.param)) \n",
    "        method.param <- 0\n",
    "    epsilon <- method.param\n",
    "    if (length(T) == 1) {\n",
    "        W <- 1/sqrt(2 * pi * (sk^2 + epsilon^2)) * exp(-0.5 * \n",
    "            ((mk - T)/sqrt(sk^2 + epsilon^2))^2)\n",
    "    }\n",
    "    else {\n",
    "        W0 <- 1/sqrt(2 * pi * (sk^2 + epsilon^2))\n",
    "        W <- 0\n",
    "        for (i in 1:length(T)) {\n",
    "            Ti <- T[i]\n",
    "            W <- W + W0 * exp(-0.5 * ((mk - Ti)/sqrt(sk^2 + epsilon^2))^2)\n",
    "        }\n",
    "    }\n",
    "    g <- W * sk^2\n",
    "    return(g)\n",
    "}"
   ]
  },
  {
   "cell_type": "code",
   "execution_count": 45,
   "id": "f494862d",
   "metadata": {
    "vscode": {
     "languageId": "r"
    }
   },
   "outputs": [],
   "source": [
    "g_new = function (x, m0, model, T, method.param = NULL) \n",
    "{\n",
    "    y <- t(x)\n",
    "    if (ncol(y) == model@d) \n",
    "        z <- y\n",
    "    if (ncol(y) != model@d) \n",
    "        z <- x\n",
    "    krig0 <- predict_nobias_km(object = m0, newdata = as.data.frame(z), \n",
    "        type = \"UK\", se.compute = TRUE)\n",
    "    krig <- predict_nobias_km(object = model, newdata = as.data.frame(z), \n",
    "        type = \"UK\", se.compute = TRUE)\n",
    "    mk0 <- krig0$mean\n",
    "    sk0 <- krig0$sd\n",
    "    if (is.null(method.param)) \n",
    "        method.param <- 0\n",
    "    epsilon <- method.param\n",
    "    if (length(T) == 1) {\n",
    "        W <- 1/sqrt(2 * pi * (sk0^2 + epsilon^2)) * exp(-0.5 * \n",
    "            ((mk0 - T)/sqrt(sk0^2 + epsilon^2))^2)\n",
    "    }\n",
    "    else {\n",
    "        W0 <- 1/sqrt(2 * pi * (sk0^2 + epsilon^2))\n",
    "        W <- 0\n",
    "        for (i in 1:length(T)) {\n",
    "            Ti <- T[i]\n",
    "            W <- W + W0 * exp(-0.5 * ((mk0 - Ti)/sqrt(sk0^2 + epsilon^2))^2)\n",
    "        }\n",
    "    }\n",
    "    sk <- krig$sd\n",
    "    g <- W * sk^2\n",
    "    return(g)\n",
    "}"
   ]
  },
  {
   "cell_type": "code",
   "execution_count": 46,
   "id": "54a97174",
   "metadata": {
    "vscode": {
     "languageId": "r"
    }
   },
   "outputs": [],
   "source": [
    "tmse <- function(d,mod, T)\n",
    "{\n",
    "    s = 0\n",
    "    for(i in 1:1000){\n",
    "    x = simul(d) \n",
    "    s = s + g(x, model = mod,T)\n",
    "    }\n",
    "    tmse = s/1000\n",
    "    return(tmse)\n",
    "}\n",
    "    "
   ]
  },
  {
   "cell_type": "code",
   "execution_count": 47,
   "id": "d85e50ef",
   "metadata": {
    "vscode": {
     "languageId": "r"
    }
   },
   "outputs": [
    {
     "name": "stdout",
     "output_type": "stream",
     "text": [
      "\n",
      "optimisation start\n",
      "------------------\n",
      "* estimation method   : MLE \n",
      "* optimisation method : BFGS \n",
      "* analytical gradient : used\n",
      "* trend model : ~1\n",
      "* covariance model : \n",
      "  - type :  matern5_2 \n",
      "  - nugget : NO\n",
      "  - parameters lower bounds :  1e-10 1e-10 1e-10 1e-10 1e-10 1e-10 1e-10 1e-10 1e-10 1e-10 1e-10 1e-10 1e-10 1e-10 1e-10 1e-10 1e-10 1e-10 1e-10 1e-10 1e-10 1e-10 1e-10 1e-10 1e-10 1e-10 1e-10 1e-10 1e-10 \n",
      "  - parameters upper bounds :  476715169234 0.0001993814 44.86005 149.5402 0.9201835 0.0001985878 22.92014 0.6001868 0.00019927 0.0001993187 0.0001978581 0.08002992 105.1001 0.0001991955 57.84017 16.82009 3.000166 0.0001991671 110.7202 0.0001996859 2.000174 0.0001989328 141.6 0.0001988699 0.6201993 0.0001996406 0.0001997634 10.0002 157.6199 \n",
      "  - best initial criterion value(s) :  -7132.313 \n",
      "\n",
      "N = 29, M = 5 machine precision = 2.22045e-16\n",
      "At X0, 0 variables are exactly at the bounds\n",
      "At iterate     0  f=       7132.3  |proj g|=       2.7067\n",
      "At iterate     1  f =       6920.4  |proj g|=         2.812\n",
      "At iterate     2  f =       6920.3  |proj g|=        2.7998\n",
      "At iterate     3  f =         6918  |proj g|=        2.2898\n",
      "At iterate     4  f =       6909.8  |proj g|=        1.0368\n",
      "At iterate     5  f =       6904.1  |proj g|=       0.77246\n",
      "At iterate     6  f =       6900.3  |proj g|=       0.70764\n",
      "At iterate     7  f =       6895.3  |proj g|=       0.63371\n",
      "At iterate     8  f =       6890.6  |proj g|=       0.58606\n",
      "At iterate     9  f =       6887.7  |proj g|=        0.5464\n",
      "At iterate    10  f =       6882.1  |proj g|=       0.49556\n",
      "At iterate    11  f =       6881.1  |proj g|=       0.49166\n",
      "At iterate    12  f =       6874.2  |proj g|=       0.44986\n",
      "At iterate    13  f =       6867.7  |proj g|=       0.40313\n",
      "At iterate    14  f =       6856.1  |proj g|=       0.31993\n",
      "At iterate    15  f =       6844.4  |proj g|=       0.23019\n",
      "At iterate    16  f =       6830.2  |proj g|=       0.13873\n",
      "At iterate    17  f =       6829.9  |proj g|=       0.12201\n",
      "At iterate    18  f =       6827.3  |proj g|=      0.093081\n",
      "At iterate    19  f =       6826.1  |proj g|=      0.050589\n",
      "At iterate    20  f =       6825.6  |proj g|=      0.043318\n",
      "At iterate    21  f =       6825.3  |proj g|=      0.040228\n",
      "At iterate    22  f =       6824.7  |proj g|=      0.029834\n",
      "At iterate    23  f =       6824.6  |proj g|=    3.0967e-10\n",
      "Bad direction in the line search;\n",
      "   refresh the lbfgs memory and restart the iteration.\n",
      "Derivative >= 0, backtracking line search impossible.final  value 6824.606160 \n",
      "stopped after 23 iterations\n"
     ]
    },
    {
     "data": {
      "text/html": [
       "<style>\n",
       ".list-inline {list-style: none; margin:0; padding: 0}\n",
       ".list-inline>li {display: inline-block}\n",
       ".list-inline>li:not(:last-child)::after {content: \"\\00b7\"; padding: 0 .5ex}\n",
       "</style>\n",
       "<ol class=list-inline><li>538173506.908954</li><li>538063483.634141</li><li>536998160.726253</li><li>528407485.442817</li><li>537240893.18097</li><li>539723641.924732</li><li>537392230.718379</li><li>537968330.902731</li><li>533084283.855134</li><li>540040633.579292</li><li>539482300.678609</li><li>537537888.312005</li><li>538714848.094434</li><li>526245683.240523</li><li>519543741.226802</li><li>535969176.988131</li><li>533581173.419739</li><li>539147783.340951</li><li>537242808.949722</li><li>535008516.525322</li><li>535008516.525322</li><li>532670628.429564</li><li>532670628.429564</li><li>532886633.659804</li><li>534142109.913797</li><li>534154120.514648</li><li>533072852.379929</li><li>535256344.551436</li><li>533784475.277774</li><li>533273879.225763</li><li>533273879.225763</li><li>536520157.640676</li><li>521963793.377579</li><li>526515095.09018</li><li>519749036.747614</li><li>520250385.504504</li><li>526456330.972603</li><li>522878581.925935</li><li>528684946.772129</li><li>521595749.45458</li><li>532141245.854504</li><li>520896931.282366</li><li>532991925.151822</li><li>529930787.148622</li><li>532314648.54641</li><li>534154120.5108</li><li>532384990.0991</li><li>534176088.595933</li><li>533671683.458574</li><li>533671683.458646</li></ol>\n"
      ],
      "text/latex": [
       "\\begin{enumerate*}\n",
       "\\item 538173506.908954\n",
       "\\item 538063483.634141\n",
       "\\item 536998160.726253\n",
       "\\item 528407485.442817\n",
       "\\item 537240893.18097\n",
       "\\item 539723641.924732\n",
       "\\item 537392230.718379\n",
       "\\item 537968330.902731\n",
       "\\item 533084283.855134\n",
       "\\item 540040633.579292\n",
       "\\item 539482300.678609\n",
       "\\item 537537888.312005\n",
       "\\item 538714848.094434\n",
       "\\item 526245683.240523\n",
       "\\item 519543741.226802\n",
       "\\item 535969176.988131\n",
       "\\item 533581173.419739\n",
       "\\item 539147783.340951\n",
       "\\item 537242808.949722\n",
       "\\item 535008516.525322\n",
       "\\item 535008516.525322\n",
       "\\item 532670628.429564\n",
       "\\item 532670628.429564\n",
       "\\item 532886633.659804\n",
       "\\item 534142109.913797\n",
       "\\item 534154120.514648\n",
       "\\item 533072852.379929\n",
       "\\item 535256344.551436\n",
       "\\item 533784475.277774\n",
       "\\item 533273879.225763\n",
       "\\item 533273879.225763\n",
       "\\item 536520157.640676\n",
       "\\item 521963793.377579\n",
       "\\item 526515095.09018\n",
       "\\item 519749036.747614\n",
       "\\item 520250385.504504\n",
       "\\item 526456330.972603\n",
       "\\item 522878581.925935\n",
       "\\item 528684946.772129\n",
       "\\item 521595749.45458\n",
       "\\item 532141245.854504\n",
       "\\item 520896931.282366\n",
       "\\item 532991925.151822\n",
       "\\item 529930787.148622\n",
       "\\item 532314648.54641\n",
       "\\item 534154120.5108\n",
       "\\item 532384990.0991\n",
       "\\item 534176088.595933\n",
       "\\item 533671683.458574\n",
       "\\item 533671683.458646\n",
       "\\end{enumerate*}\n"
      ],
      "text/markdown": [
       "1. 538173506.908954\n",
       "2. 538063483.634141\n",
       "3. 536998160.726253\n",
       "4. 528407485.442817\n",
       "5. 537240893.18097\n",
       "6. 539723641.924732\n",
       "7. 537392230.718379\n",
       "8. 537968330.902731\n",
       "9. 533084283.855134\n",
       "10. 540040633.579292\n",
       "11. 539482300.678609\n",
       "12. 537537888.312005\n",
       "13. 538714848.094434\n",
       "14. 526245683.240523\n",
       "15. 519543741.226802\n",
       "16. 535969176.988131\n",
       "17. 533581173.419739\n",
       "18. 539147783.340951\n",
       "19. 537242808.949722\n",
       "20. 535008516.525322\n",
       "21. 535008516.525322\n",
       "22. 532670628.429564\n",
       "23. 532670628.429564\n",
       "24. 532886633.659804\n",
       "25. 534142109.913797\n",
       "26. 534154120.514648\n",
       "27. 533072852.379929\n",
       "28. 535256344.551436\n",
       "29. 533784475.277774\n",
       "30. 533273879.225763\n",
       "31. 533273879.225763\n",
       "32. 536520157.640676\n",
       "33. 521963793.377579\n",
       "34. 526515095.09018\n",
       "35. 519749036.747614\n",
       "36. 520250385.504504\n",
       "37. 526456330.972603\n",
       "38. 522878581.925935\n",
       "39. 528684946.772129\n",
       "40. 521595749.45458\n",
       "41. 532141245.854504\n",
       "42. 520896931.282366\n",
       "43. 532991925.151822\n",
       "44. 529930787.148622\n",
       "45. 532314648.54641\n",
       "46. 534154120.5108\n",
       "47. 532384990.0991\n",
       "48. 534176088.595933\n",
       "49. 533671683.458574\n",
       "50. 533671683.458646\n",
       "\n",
       "\n"
      ],
      "text/plain": [
       " [1] 538173507 538063484 536998161 528407485 537240893 539723642 537392231\n",
       " [8] 537968331 533084284 540040634 539482301 537537888 538714848 526245683\n",
       "[15] 519543741 535969177 533581173 539147783 537242809 535008517 535008517\n",
       "[22] 532670628 532670628 532886634 534142110 534154121 533072852 535256345\n",
       "[29] 533784475 533273879 533273879 536520158 521963793 526515095 519749037\n",
       "[36] 520250386 526456331 522878582 528684947 521595749 532141246 520896931\n",
       "[43] 532991925 529930787 532314649 534154121 532384990 534176089 533671683\n",
       "[50] 533671683"
      ]
     },
     "metadata": {},
     "output_type": "display_data"
    }
   ],
   "source": [
    "#Pour comparer avec la methode de Monte Carlo\n",
    "#Calculer les resultats par t-IMSE standard\n",
    "d = 29\n",
    "N = 10*d\n",
    "s = 0\n",
    "data_Lasso_reduced = data_lasso[1:N,]\n",
    "shape = c(dim(data_Lasso_reduced))\n",
    "noise = matrix(runif(prod(shape),min = 0.0001,max = 0.0002), nrow = N)\n",
    "mod = km(formula = ~1, design = data_Lasso_reduced+noise, response = data_Lasso_reduced$vis)\n",
    "x = data_Lasso_reduced[1:50,]\n",
    "tmse_optim(x, model = mod, T = 400)\n"
   ]
  },
  {
   "cell_type": "code",
   "execution_count": 48,
   "id": "ec41281d",
   "metadata": {
    "vscode": {
     "languageId": "r"
    }
   },
   "outputs": [
    {
     "name": "stdout",
     "output_type": "stream",
     "text": [
      "[1] 461468117\n"
     ]
    }
   ],
   "source": [
    "#Resultats par la methode Monte Carlo \n",
    "print(tmse(d,mod,T=400))"
   ]
  },
  {
   "cell_type": "markdown",
   "id": "5fa28870",
   "metadata": {},
   "source": [
    "### Optimisation"
   ]
  },
  {
   "cell_type": "code",
   "execution_count": 49,
   "id": "d83fade9",
   "metadata": {
    "vscode": {
     "languageId": "r"
    }
   },
   "outputs": [
    {
     "name": "stdout",
     "output_type": "stream",
     "text": [
      "\n",
      "optimisation start\n",
      "------------------\n",
      "* estimation method   : MLE \n",
      "* optimisation method : BFGS \n",
      "* analytical gradient : used\n",
      "* trend model : ~1\n",
      "* covariance model : \n",
      "  - type :  matern5_2 \n",
      "  - nugget : NO\n",
      "  - parameters lower bounds :  1e-10 1e-10 1e-10 1e-10 1e-10 1e-10 1e-10 1e-10 1e-10 1e-10 1e-10 1e-10 1e-10 1e-10 1e-10 1e-10 1e-10 1e-10 1e-10 1e-10 1e-10 1e-10 1e-10 1e-10 1e-10 1e-10 1e-10 1e-10 \n",
      "  - parameters upper bounds :  0.0001985707 69.72006 54.06018 91.60009 50.00018 100.0001 21.7201 4.25018 119.7201 0.02011788 0.160183 68.64017 59.08 43.64002 36.40012 95.7001 0.0001977153 82.90007 0.0001989361 12.28005 9.380183 160 1.000041 1.100138 29.24016 5.880081 20.00001 155.54 \n",
      "  - best initial criterion value(s) :  -7447.801 \n",
      "\n",
      "N = 28, M = 5 machine precision = 2.22045e-16\n",
      "At X0, 0 variables are exactly at the bounds\n",
      "At iterate     0  f=       7447.8  |proj g|=       4.0758\n",
      "At iterate     1  f =       7362.8  |proj g|=        2.5342\n",
      "At iterate     2  f =       7359.5  |proj g|=        2.4988\n",
      "At iterate     3  f =       7352.3  |proj g|=        5.9658\n",
      "At iterate     4  f =       7351.1  |proj g|=        3.2803\n",
      "At iterate     5  f =         7351  |proj g|=        3.7005\n",
      "At iterate     6  f =         7351  |proj g|=        3.7302\n",
      "At iterate     7  f =         7351  |proj g|=        3.7255\n",
      "At iterate     8  f =         7351  |proj g|=        3.6988\n",
      "At iterate     9  f =         7351  |proj g|=        3.6621\n",
      "At iterate    10  f =         7351  |proj g|=        3.5987\n",
      "At iterate    11  f =         7351  |proj g|=        3.4989\n",
      "At iterate    12  f =         7351  |proj g|=        3.3363\n",
      "At iterate    13  f =       7350.9  |proj g|=        3.0816\n",
      "At iterate    14  f =       7350.7  |proj g|=        2.6751\n",
      "At iterate    15  f =       7350.2  |proj g|=        2.3002\n",
      "At iterate    16  f =         7349  |proj g|=        2.2949\n",
      "At iterate    17  f =       7346.2  |proj g|=        2.2362\n",
      "At iterate    18  f =         7340  |proj g|=        2.0544\n",
      "At iterate    19  f =       7333.9  |proj g|=        2.8981\n",
      "At iterate    20  f =       7331.8  |proj g|=        2.2298\n",
      "At iterate    21  f =       7329.3  |proj g|=        1.8847\n",
      "At iterate    22  f =       7328.9  |proj g|=        1.8919\n",
      "At iterate    23  f =       7328.9  |proj g|=        1.8911\n",
      "At iterate    24  f =       7328.9  |proj g|=         1.891\n",
      "At iterate    25  f =       7328.9  |proj g|=         1.891\n",
      "At iterate    26  f =       7328.9  |proj g|=         1.891\n",
      "At iterate    27  f =       7328.9  |proj g|=        1.8909\n",
      "At iterate    28  f =       7328.9  |proj g|=        1.8908\n",
      "At iterate    29  f =       7328.9  |proj g|=        1.8906\n",
      "At iterate    30  f =       7328.9  |proj g|=        1.8903\n",
      "At iterate    31  f =       7328.9  |proj g|=        1.8895\n",
      "At iterate    32  f =       7328.9  |proj g|=         1.888\n",
      "At iterate    33  f =       7328.8  |proj g|=        1.8847\n",
      "At iterate    34  f =       7328.7  |proj g|=        1.8769\n",
      "At iterate    35  f =       7328.3  |proj g|=        1.8584\n",
      "At iterate    36  f =       7327.4  |proj g|=         2.575\n",
      "At iterate    37  f =       7324.9  |proj g|=        3.9604\n",
      "At iterate    38  f =       7318.6  |proj g|=        5.9832\n",
      "At iterate    39  f =       7306.2  |proj g|=        7.6639\n",
      "At iterate    40  f =       7299.3  |proj g|=        5.1065\n",
      "At iterate    41  f =       7292.7  |proj g|=        1.2362\n",
      "At iterate    42  f =       7292.4  |proj g|=        1.2388\n",
      "At iterate    43  f =       7292.4  |proj g|=        1.2393\n",
      "At iterate    44  f =       7292.4  |proj g|=        1.2393\n",
      "At iterate    45  f =       7292.4  |proj g|=        1.2393\n",
      "\n",
      "iterations 45\n",
      "function evaluations 58\n",
      "segments explored during Cauchy searches 53\n",
      "BFGS updates skipped 0\n",
      "active bounds at final generalized Cauchy point 10\n",
      "norm of the final projected gradient 1.2393\n",
      "final function value 7292.37\n",
      "\n",
      "F = 7292.37\n",
      "final  value 7292.374896 \n",
      "converged\n"
     ]
    }
   ],
   "source": [
    "#Modele initial\n",
    "noise = matrix(runif(prod(dim(X)),min = 0.0001,max = 0.0002), nrow = nrow(X))\n",
    "m0 = km(formula = ~1, design = X + noise, response = data_lasso_reduced[1],)"
   ]
  },
  {
   "cell_type": "code",
   "execution_count": 50,
   "id": "bbcdbdd2",
   "metadata": {
    "vscode": {
     "languageId": "r"
    }
   },
   "outputs": [],
   "source": [
    "#TROUVER LE POINT LE PLUS PROCHE D'UN NOUVEAU POINT\n",
    "\n",
    "#input: nouveau point: 'x_new' ; donnees dans lesquelles on cherche: 'data'\n",
    "#output: la valeur y du point le plus proche\n",
    "pointProche = function(x_new, data){\n",
    "    X_cher = data[,c(-1)]\n",
    "    argmin = NULL \n",
    "    min = norm(x_new- X_cher[1,], type = \"2\") \n",
    "    n_points = nrow(data) #longeur da la base de données\n",
    "\n",
    "    for (i in range(n_points)){\n",
    "        mse = norm(x_new- X_cher[i,], type = \"2\")\n",
    "        if (mse < min){\n",
    "            min = mse \n",
    "            argmin = i\n",
    "        }\n",
    "    }\n",
    "    return (data[i,1])\n",
    "}\n"
   ]
  },
  {
   "cell_type": "code",
   "execution_count": 14,
   "id": "1d93fb6c",
   "metadata": {
    "vscode": {
     "languageId": "r"
    }
   },
   "outputs": [],
   "source": [
    "library(\"KrigInv\")"
   ]
  },
  {
   "cell_type": "code",
   "execution_count": 51,
   "id": "1ab03eac",
   "metadata": {
    "vscode": {
     "languageId": "r"
    }
   },
   "outputs": [],
   "source": [
    "\n",
    "new_tmse = function(x_new){\n",
    "    # d: dimension, d = 29\n",
    "    data = data_updated\n",
    "    d = 29\n",
    "    niter = 1000\n",
    "    s = 0\n",
    "    \n",
    "    y_new = pointProche(x_new, data)\n",
    "    vis = y_new\n",
    "    newpoint = c(vis,x_new)\n",
    "    data_new = data.frame(data)\n",
    "    data_new[nrow(data_new) + 1, ] = newpoint\n",
    "    # data_new = rbind(data_new, as.numeric(newpoint))\n",
    "    noise = matrix(runif(prod(dim(data_new)),min = 0.0001,max = 0.0002), nrow = nrow(data_new))\n",
    "    #mod = km(formula = ~1, design = data_new + noise, response = data_new[1],)\n",
    "    mod = update(m0, newX = data_new[,c(-1)]+noise, newy = data_new[,1],newX.alreadyExist = FALSE, cov.reestim = FALSE, trend.reestim = FALSE)\n",
    "    for(i in 1:niter){\n",
    "        x = simul(d-1)\n",
    "        s = s + g_new(x, m0 = m0, model = mod, T = 400)\n",
    "    }\n",
    "    tmse = s/niter\n",
    "    return(tmse)    \n",
    "}"
   ]
  },
  {
   "cell_type": "code",
   "execution_count": 55,
   "id": "21e97b3f",
   "metadata": {
    "vscode": {
     "languageId": "r"
    }
   },
   "outputs": [],
   "source": [
    "contraintes = function(x){\n",
    "  n = length(x)\n",
    "  h<-numeric(n+2)\n",
    "  h[1]<- 100 - sum(x) #somme = 1\n",
    "  h[2]<- sum(x) - 100\n",
    "  #h[3:n+2] = as.numeric(x)\n",
    "  for (i in range(3,n+2)){\n",
    "    h[i] = x[i-2]\n",
    "  }\n",
    "  return(h)\n",
    "}"
   ]
  },
  {
   "cell_type": "code",
   "execution_count": 56,
   "id": "e406646f",
   "metadata": {
    "vscode": {
     "languageId": "r"
    }
   },
   "outputs": [
    {
     "data": {
      "text/html": [
       "<style>\n",
       ".list-inline {list-style: none; margin:0; padding: 0}\n",
       ".list-inline>li {display: inline-block}\n",
       ".list-inline>li:not(:last-child)::after {content: \"\\00b7\"; padding: 0 .5ex}\n",
       "</style>\n",
       "<ol class=list-inline><li>0</li><li>0</li><li>0</li><li>0</li><li>0</li><li>0</li><li>0</li><li>0</li><li>0</li><li>0</li><li>0</li><li>0</li><li>0</li><li>0</li><li>0</li><li>0</li><li>0</li><li>0</li><li>0</li><li>0</li><li>0</li><li>0</li><li>0</li><li>0</li><li>0</li><li>0</li><li>0</li><li>0</li><li>0</li><li>3</li></ol>\n"
      ],
      "text/latex": [
       "\\begin{enumerate*}\n",
       "\\item 0\n",
       "\\item 0\n",
       "\\item 0\n",
       "\\item 0\n",
       "\\item 0\n",
       "\\item 0\n",
       "\\item 0\n",
       "\\item 0\n",
       "\\item 0\n",
       "\\item 0\n",
       "\\item 0\n",
       "\\item 0\n",
       "\\item 0\n",
       "\\item 0\n",
       "\\item 0\n",
       "\\item 0\n",
       "\\item 0\n",
       "\\item 0\n",
       "\\item 0\n",
       "\\item 0\n",
       "\\item 0\n",
       "\\item 0\n",
       "\\item 0\n",
       "\\item 0\n",
       "\\item 0\n",
       "\\item 0\n",
       "\\item 0\n",
       "\\item 0\n",
       "\\item 0\n",
       "\\item 3\n",
       "\\end{enumerate*}\n"
      ],
      "text/markdown": [
       "1. 0\n",
       "2. 0\n",
       "3. 0\n",
       "4. 0\n",
       "5. 0\n",
       "6. 0\n",
       "7. 0\n",
       "8. 0\n",
       "9. 0\n",
       "10. 0\n",
       "11. 0\n",
       "12. 0\n",
       "13. 0\n",
       "14. 0\n",
       "15. 0\n",
       "16. 0\n",
       "17. 0\n",
       "18. 0\n",
       "19. 0\n",
       "20. 0\n",
       "21. 0\n",
       "22. 0\n",
       "23. 0\n",
       "24. 0\n",
       "25. 0\n",
       "26. 0\n",
       "27. 0\n",
       "28. 0\n",
       "29. 0\n",
       "30. 3\n",
       "\n",
       "\n"
      ],
      "text/plain": [
       " [1] 0 0 0 0 0 0 0 0 0 0 0 0 0 0 0 0 0 0 0 0 0 0 0 0 0 0 0 0 0 3"
      ]
     },
     "metadata": {},
     "output_type": "display_data"
    }
   ],
   "source": [
    "contraintes(as.numeric(X[1,]))"
   ]
  },
  {
   "cell_type": "code",
   "execution_count": 45,
   "id": "4984a661",
   "metadata": {
    "vscode": {
     "languageId": "r"
    }
   },
   "outputs": [
    {
     "data": {
      "text/html": [
       "39374.8469562748"
      ],
      "text/latex": [
       "39374.8469562748"
      ],
      "text/markdown": [
       "39374.8469562748"
      ],
      "text/plain": [
       "[1] 39374.85"
      ]
     },
     "metadata": {},
     "output_type": "display_data"
    }
   ],
   "source": [
    "new_tmse(x_new = as.numeric(X[1,]))"
   ]
  },
  {
   "cell_type": "code",
   "execution_count": 54,
   "id": "dbae1df1",
   "metadata": {
    "vscode": {
     "languageId": "r"
    }
   },
   "outputs": [
    {
     "name": "stderr",
     "output_type": "stream",
     "text": [
      "For consistency with the rest of the package the inequality sign may be switched from >= to <= in a future nloptr version.\n",
      "\n"
     ]
    },
    {
     "ename": "ERROR",
     "evalue": "Error in is.nloptr(ret): inequality constraints in x0 returns NA\n",
     "output_type": "error",
     "traceback": [
      "Error in is.nloptr(ret): inequality constraints in x0 returns NA\nTraceback:\n",
      "1. cobyla(x0 = as.numeric(X[1, ]), fn = new_tmse, hin = contraintes)",
      "2. nloptr(x0, eval_f = fn, lb = lower, ub = upper, eval_g_ineq = hin, \n .     opts = opts)",
      "3. is.nloptr(ret)",
      "4. stop(\"inequality constraints in x0 returns NA\")"
     ]
    }
   ],
   "source": [
    "data_updated = data_lasso_reduced\n",
    "cobyla(x0 = as.numeric(X[1,]),fn = new_tmse, hin = contraintes)"
   ]
  },
  {
   "cell_type": "code",
   "execution_count": 57,
   "id": "ae6534e7",
   "metadata": {
    "vscode": {
     "languageId": "r"
    }
   },
   "outputs": [
    {
     "name": "stdout",
     "output_type": "stream",
     "text": [
      "[1] \"Starting...\"\n",
      "[1] \"Adding point... \"\n"
     ]
    },
    {
     "name": "stderr",
     "output_type": "stream",
     "text": [
      "For consistency with the rest of the package the inequality sign may be switched from >= to <= in a future nloptr version.\n",
      "\n",
      "Warning message in matrix(value, n, p):\n",
      "\"data length [56] is not a sub-multiple or multiple of the number of columns [29]\"\n"
     ]
    },
    {
     "name": "stdout",
     "output_type": "stream",
     "text": [
      "[1] \"Adding point... \"\n"
     ]
    },
    {
     "name": "stderr",
     "output_type": "stream",
     "text": [
      "For consistency with the rest of the package the inequality sign may be switched from >= to <= in a future nloptr version.\n",
      "\n",
      "Warning message in matrix(value, n, p):\n",
      "\"data length [56] is not a sub-multiple or multiple of the number of columns [29]\"\n"
     ]
    }
   ],
   "source": [
    "# OPTIMISATION TMSE PROCESS USING COBYLA\n",
    "\n",
    "# Some parameters\n",
    "d = 29  # data dimension\n",
    "n_init = 10*d   # initial number of data points\n",
    "n_points = nrow(data_lasso) # total number of data points\n",
    "n_adds = 2 # number of additional data points\n",
    "\n",
    "data_updated = data_lasso_reduced\n",
    "\n",
    "print(\"Starting...\")\n",
    "# Loop over additional data points\n",
    "for (i in 1:n_adds){\n",
    "\n",
    "    print(\"Adding point... \")\n",
    "    x_new = cobyla(x0 = as.numeric(X[i,]), fn = new_tmse, hin = contraintes, control = list(xtol_rel = 1e-3))$par\n",
    "    y_new = pointProche(x_new,data_lasso)\n",
    "    vis = y_new\n",
    "    newpoint = cbind(vis,x_new)\n",
    "    data_updated[nrow(data_updated) + 1, ] = newpoint\n",
    "    #data_updated = rbind(data_updated,newpoint)\n",
    "    X = data_updated[,c(-1)]\n",
    "}"
   ]
  },
  {
   "cell_type": "code",
   "execution_count": 58,
   "id": "20da383e",
   "metadata": {
    "vscode": {
     "languageId": "r"
    }
   },
   "outputs": [
    {
     "data": {
      "text/html": [
       "<table class=\"dataframe\">\n",
       "<caption>A data.frame: 292 × 28</caption>\n",
       "<thead>\n",
       "\t<tr><th></th><th scope=col>X__3</th><th scope=col>X__4</th><th scope=col>X__8</th><th scope=col>X__10</th><th scope=col>X__17</th><th scope=col>X__18</th><th scope=col>X__29</th><th scope=col>X__30</th><th scope=col>X__43</th><th scope=col>X__48</th><th scope=col>...</th><th scope=col>X__84</th><th scope=col>X__86</th><th scope=col>X__106</th><th scope=col>X__109</th><th scope=col>X__113</th><th scope=col>X__115</th><th scope=col>X__117</th><th scope=col>X__133</th><th scope=col>X__138</th><th scope=col>autres</th></tr>\n",
       "\t<tr><th></th><th scope=col>&lt;dbl&gt;</th><th scope=col>&lt;dbl&gt;</th><th scope=col>&lt;dbl&gt;</th><th scope=col>&lt;dbl&gt;</th><th scope=col>&lt;dbl&gt;</th><th scope=col>&lt;dbl&gt;</th><th scope=col>&lt;dbl&gt;</th><th scope=col>&lt;dbl&gt;</th><th scope=col>&lt;dbl&gt;</th><th scope=col>&lt;dbl&gt;</th><th scope=col>...</th><th scope=col>&lt;dbl&gt;</th><th scope=col>&lt;dbl&gt;</th><th scope=col>&lt;dbl&gt;</th><th scope=col>&lt;dbl&gt;</th><th scope=col>&lt;dbl&gt;</th><th scope=col>&lt;dbl&gt;</th><th scope=col>&lt;dbl&gt;</th><th scope=col>&lt;dbl&gt;</th><th scope=col>&lt;dbl&gt;</th><th scope=col>&lt;dbl&gt;</th></tr>\n",
       "</thead>\n",
       "<tbody>\n",
       "\t<tr><th scope=row>1561</th><td>0</td><td>12.000000</td><td> 2.000000</td><td> 0.0000000</td><td>0</td><td>12.0000000</td><td>0.0000000</td><td>0.00000000</td><td> 0.00</td><td>0.00000</td><td>...</td><td>0</td><td>0.0000000</td><td>0</td><td>61.00000</td><td>0.00</td><td>0.0000000</td><td>10.000000</td><td>0.00</td><td>0.000000</td><td> 3.00000</td></tr>\n",
       "\t<tr><th scope=row>5446</th><td>0</td><td>16.980000</td><td>10.990000</td><td> 5.4900000</td><td>0</td><td> 4.9900000</td><td>0.0000000</td><td>0.00000000</td><td> 0.00</td><td>0.00999</td><td>...</td><td>0</td><td>0.0000000</td><td>0</td><td>57.46000</td><td>0.00</td><td>0.0000000</td><td> 1.990000</td><td>0.00</td><td>0.000000</td><td> 1.10001</td></tr>\n",
       "\t<tr><th scope=row>5206</th><td>0</td><td>13.300000</td><td> 0.000000</td><td> 0.0000000</td><td>0</td><td> 0.0000000</td><td>0.0000000</td><td>0.00000000</td><td> 0.00</td><td>0.00000</td><td>...</td><td>0</td><td>0.0000000</td><td>0</td><td>68.60000</td><td>0.00</td><td>0.0000000</td><td> 0.000000</td><td>0.00</td><td>0.000000</td><td> 2.60000</td></tr>\n",
       "\t<tr><th scope=row>6035</th><td>0</td><td> 9.500000</td><td> 3.000000</td><td> 0.0000000</td><td>0</td><td> 0.0000000</td><td>0.0000000</td><td>0.00000000</td><td> 0.00</td><td>0.00000</td><td>...</td><td>0</td><td>1.0000000</td><td>0</td><td>58.10000</td><td>0.00</td><td>0.0000000</td><td> 0.000000</td><td>0.00</td><td>2.000000</td><td> 2.40000</td></tr>\n",
       "\t<tr><th scope=row>2179</th><td>0</td><td>10.860000</td><td> 0.000000</td><td> 2.3000000</td><td>0</td><td>12.7800000</td><td>0.0000000</td><td>0.00000000</td><td>23.38</td><td>0.00000</td><td>...</td><td>0</td><td>0.0000000</td><td>0</td><td>50.17000</td><td>0.00</td><td>0.0000000</td><td> 0.000000</td><td>0.00</td><td>0.000000</td><td> 0.51000</td></tr>\n",
       "\t<tr><th scope=row>6790</th><td>0</td><td>10.700000</td><td> 0.000000</td><td> 0.0000000</td><td>0</td><td> 6.5000000</td><td>0.0000000</td><td>0.00000000</td><td> 0.00</td><td>0.00000</td><td>...</td><td>0</td><td>0.0000000</td><td>0</td><td>65.60000</td><td>0.00</td><td>0.0000000</td><td> 0.000000</td><td>0.00</td><td>0.300000</td><td> 0.00000</td></tr>\n",
       "\t<tr><th scope=row>3247</th><td>0</td><td> 0.500000</td><td> 0.000000</td><td> 0.0000000</td><td>0</td><td>11.0000000</td><td>0.0000000</td><td>0.00000000</td><td> 0.00</td><td>0.00000</td><td>...</td><td>0</td><td>0.0000000</td><td>0</td><td>70.00000</td><td>0.00</td><td>0.0000000</td><td> 4.000000</td><td>0.00</td><td>3.000000</td><td> 0.00000</td></tr>\n",
       "\t<tr><th scope=row>4991</th><td>0</td><td> 5.600000</td><td> 0.000000</td><td>11.4000000</td><td>0</td><td> 1.4000000</td><td>0.0000000</td><td>0.00000000</td><td> 0.00</td><td>0.00000</td><td>...</td><td>0</td><td>0.0000000</td><td>0</td><td>53.80000</td><td>0.00</td><td>0.0000000</td><td> 4.300000</td><td>0.00</td><td>0.000000</td><td>10.20000</td></tr>\n",
       "\t<tr><th scope=row>6484</th><td>0</td><td> 6.090000</td><td> 5.870000</td><td> 0.0000000</td><td>0</td><td> 7.1900000</td><td>0.0000000</td><td>0.00000000</td><td> 0.00</td><td>0.00000</td><td>...</td><td>0</td><td>0.0000000</td><td>0</td><td>64.05000</td><td>0.03</td><td>0.2900000</td><td> 0.160000</td><td>0.00</td><td>0.000000</td><td> 0.04000</td></tr>\n",
       "\t<tr><th scope=row>7180</th><td>0</td><td> 1.926872</td><td> 4.809666</td><td> 0.0559236</td><td>0</td><td> 0.5206918</td><td>0.4147065</td><td>0.00000000</td><td> 0.00</td><td>0.00000</td><td>...</td><td>0</td><td>0.1514831</td><td>0</td><td>46.19666</td><td>0.00</td><td>0.0795146</td><td> 9.891461</td><td>0.00</td><td>0.000000</td><td>15.31776</td></tr>\n",
       "\t<tr><th scope=row>3130</th><td>0</td><td> 0.000000</td><td> 0.000000</td><td> 0.0000000</td><td>0</td><td> 0.0000000</td><td>0.0000000</td><td>0.00000000</td><td> 0.00</td><td>0.00000</td><td>...</td><td>0</td><td>0.0000000</td><td>0</td><td>25.06000</td><td>0.00</td><td>0.0000000</td><td> 0.000000</td><td>0.00</td><td>0.000000</td><td>67.97000</td></tr>\n",
       "\t<tr><th scope=row>574</th><td>0</td><td> 0.000000</td><td> 0.000000</td><td> 0.0000000</td><td>0</td><td> 0.0000000</td><td>0.0000000</td><td>0.00000000</td><td> 0.00</td><td>0.00000</td><td>...</td><td>0</td><td>0.0000000</td><td>0</td><td>20.92000</td><td>0.00</td><td>0.0000000</td><td> 0.000000</td><td>0.00</td><td>0.000000</td><td>77.76000</td></tr>\n",
       "\t<tr><th scope=row>3581</th><td>0</td><td> 0.000000</td><td> 0.000000</td><td> 0.0000000</td><td>0</td><td>10.5000000</td><td>0.0000000</td><td>0.00000000</td><td> 0.00</td><td>0.00000</td><td>...</td><td>0</td><td>0.0000000</td><td>0</td><td>73.50000</td><td>0.00</td><td>0.0000000</td><td> 3.000000</td><td>0.00</td><td>0.000000</td><td> 0.00000</td></tr>\n",
       "\t<tr><th scope=row>1356</th><td>0</td><td>16.000000</td><td> 2.000000</td><td>14.0000000</td><td>0</td><td> 0.0000000</td><td>0.0000000</td><td>0.00000000</td><td> 0.00</td><td>0.00000</td><td>...</td><td>0</td><td>0.0000000</td><td>0</td><td>54.00000</td><td>0.00</td><td>0.0000000</td><td> 0.000000</td><td>0.00</td><td>0.000000</td><td> 0.00000</td></tr>\n",
       "\t<tr><th scope=row>3431</th><td>0</td><td> 0.000000</td><td>27.030000</td><td> 0.0000000</td><td>0</td><td> 0.0000000</td><td>0.0000000</td><td>0.00000000</td><td> 0.00</td><td>0.00000</td><td>...</td><td>0</td><td>0.0000000</td><td>0</td><td>58.32000</td><td>0.00</td><td>0.0000000</td><td> 0.000000</td><td>0.00</td><td>0.000000</td><td> 0.02000</td></tr>\n",
       "\t<tr><th scope=row>1390</th><td>0</td><td> 0.000000</td><td> 0.000000</td><td>37.1900000</td><td>0</td><td>10.2000000</td><td>0.0000000</td><td>0.00000000</td><td> 0.00</td><td>0.00000</td><td>...</td><td>0</td><td>0.0000000</td><td>0</td><td>36.44000</td><td>0.00</td><td>0.0000000</td><td> 6.280000</td><td>0.00</td><td>0.000000</td><td> 9.89000</td></tr>\n",
       "\t<tr><th scope=row>4512</th><td>0</td><td> 0.110000</td><td> 1.990000</td><td> 0.0000000</td><td>0</td><td> 6.4900000</td><td>0.0000000</td><td>0.00000000</td><td> 0.00</td><td>0.00000</td><td>...</td><td>0</td><td>0.0000000</td><td>0</td><td>64.36000</td><td>0.00</td><td>0.0000000</td><td> 0.000000</td><td>0.00</td><td>5.080000</td><td> 5.88000</td></tr>\n",
       "\t<tr><th scope=row>3556</th><td>0</td><td> 9.670000</td><td> 0.000000</td><td> 0.0000000</td><td>0</td><td>24.6400000</td><td>0.0000000</td><td>0.00000000</td><td> 7.94</td><td>0.00000</td><td>...</td><td>0</td><td>0.0000000</td><td>0</td><td>57.73000</td><td>0.00</td><td>0.0000000</td><td> 0.000000</td><td>0.00</td><td>0.000000</td><td> 0.02000</td></tr>\n",
       "\t<tr><th scope=row>228</th><td>0</td><td> 0.000000</td><td> 0.000000</td><td> 0.0000000</td><td>0</td><td> 0.0000000</td><td>0.0000000</td><td>0.00000000</td><td> 0.00</td><td>0.00000</td><td>...</td><td>0</td><td>0.0000000</td><td>0</td><td>33.33000</td><td>0.00</td><td>0.0000000</td><td> 0.000000</td><td>0.00</td><td>0.000000</td><td>66.67000</td></tr>\n",
       "\t<tr><th scope=row>1708</th><td>0</td><td> 1.500000</td><td> 0.000000</td><td> 0.2000000</td><td>0</td><td> 7.0000000</td><td>0.0000000</td><td>0.00000000</td><td> 0.00</td><td>0.00000</td><td>...</td><td>0</td><td>0.0000000</td><td>0</td><td>72.50000</td><td>0.00</td><td>0.0000000</td><td> 0.000000</td><td>0.00</td><td>0.000000</td><td> 0.00000</td></tr>\n",
       "\t<tr><th scope=row>7048</th><td>0</td><td> 4.958186</td><td> 6.940861</td><td> 0.0599297</td><td>0</td><td> 0.4994144</td><td>0.0789075</td><td>0.00998829</td><td> 0.00</td><td>0.00000</td><td>...</td><td>0</td><td>0.4994144</td><td>0</td><td>48.58703</td><td>0.00</td><td>0.0998829</td><td> 1.487256</td><td>0.00</td><td>5.949024</td><td>12.58151</td></tr>\n",
       "\t<tr><th scope=row>4969</th><td>0</td><td> 5.600000</td><td> 0.000000</td><td>12.8000000</td><td>0</td><td> 3.4000000</td><td>0.0000000</td><td>0.00000000</td><td> 0.00</td><td>0.00000</td><td>...</td><td>0</td><td>0.0000000</td><td>0</td><td>55.40000</td><td>0.00</td><td>0.2000000</td><td> 5.000000</td><td>0.00</td><td>2.000000</td><td> 0.00000</td></tr>\n",
       "\t<tr><th scope=row>3294</th><td>0</td><td> 9.900000</td><td> 0.000000</td><td> 0.0000000</td><td>0</td><td> 4.8000000</td><td>0.0000000</td><td>0.00000000</td><td> 0.00</td><td>0.00000</td><td>...</td><td>0</td><td>0.0000000</td><td>0</td><td>69.60000</td><td>0.00</td><td>0.0000000</td><td> 0.000000</td><td>0.00</td><td>0.000000</td><td> 0.00000</td></tr>\n",
       "\t<tr><th scope=row>487</th><td>0</td><td> 8.470000</td><td>16.500000</td><td> 0.0000000</td><td>0</td><td> 3.1000000</td><td>0.0300000</td><td>0.00000000</td><td> 0.00</td><td>0.00000</td><td>...</td><td>0</td><td>0.0000000</td><td>0</td><td>48.99000</td><td>0.00</td><td>0.0000000</td><td> 0.000000</td><td>0.00</td><td>0.700000</td><td> 5.01000</td></tr>\n",
       "\t<tr><th scope=row>2875</th><td>0</td><td> 0.000000</td><td> 0.000000</td><td> 0.0000000</td><td>0</td><td> 0.0000000</td><td>0.0000000</td><td>0.00000000</td><td> 0.00</td><td>0.00000</td><td>...</td><td>0</td><td>0.0000000</td><td>0</td><td>51.90000</td><td>0.00</td><td>0.0000000</td><td> 0.000000</td><td>0.00</td><td>0.000000</td><td>32.81000</td></tr>\n",
       "\t<tr><th scope=row>6067</th><td>0</td><td> 0.000000</td><td> 1.990000</td><td> 0.0000000</td><td>0</td><td> 0.9900000</td><td>0.0000000</td><td>0.00000000</td><td> 0.00</td><td>0.00000</td><td>...</td><td>0</td><td>0.0000000</td><td>0</td><td>56.48000</td><td>0.09</td><td>0.0000000</td><td> 0.000000</td><td>0.00</td><td>3.990000</td><td> 0.10000</td></tr>\n",
       "\t<tr><th scope=row>1145</th><td>0</td><td> 0.000000</td><td> 0.000000</td><td> 0.0000000</td><td>0</td><td> 0.0000000</td><td>0.0000000</td><td>0.00000000</td><td> 0.00</td><td>0.00000</td><td>...</td><td>0</td><td>0.0000000</td><td>0</td><td>61.50000</td><td>0.00</td><td>0.0000000</td><td> 0.000000</td><td>0.00</td><td>0.000000</td><td>25.04000</td></tr>\n",
       "\t<tr><th scope=row>6876</th><td>0</td><td> 0.000000</td><td>20.000000</td><td> 0.1790000</td><td>0</td><td> 8.0000000</td><td>0.2240000</td><td>0.26900000</td><td> 0.00</td><td>0.00000</td><td>...</td><td>0</td><td>0.1790000</td><td>0</td><td>43.91000</td><td>0.00</td><td>0.4930000</td><td> 0.179000</td><td>0.09</td><td>8.340000</td><td> 9.26800</td></tr>\n",
       "\t<tr><th scope=row>6678</th><td>0</td><td>17.030000</td><td> 0.000000</td><td> 9.3000000</td><td>0</td><td> 4.7200000</td><td>0.0000000</td><td>0.00000000</td><td> 0.00</td><td>0.00000</td><td>...</td><td>0</td><td>0.0000000</td><td>0</td><td>64.33000</td><td>0.24</td><td>0.0000000</td><td> 1.400000</td><td>0.00</td><td>0.030000</td><td> 0.08000</td></tr>\n",
       "\t<tr><th scope=row>6437</th><td>0</td><td> 8.810000</td><td> 0.000000</td><td> 0.0000000</td><td>0</td><td> 0.0000000</td><td>0.0000000</td><td>0.00000000</td><td> 0.00</td><td>0.00000</td><td>...</td><td>0</td><td>0.0000000</td><td>0</td><td>69.89000</td><td>0.00</td><td>0.0000000</td><td> 0.000000</td><td>0.00</td><td>0.000000</td><td> 0.02000</td></tr>\n",
       "\t<tr><th scope=row>...</th><td>...</td><td>...</td><td>...</td><td>...</td><td>...</td><td>...</td><td>...</td><td>...</td><td>...</td><td>...</td><td></td><td>...</td><td>...</td><td>...</td><td>...</td><td>...</td><td>...</td><td>...</td><td>...</td><td>...</td><td>...</td></tr>\n",
       "\t<tr><th scope=row>1951</th><td> 0</td><td> 0.000000</td><td> 4.900000</td><td>21.54000000</td><td> 0.00</td><td> 0.0000000</td><td> 0.00000000</td><td> 0.00000000</td><td> 0.00</td><td> 0</td><td>...</td><td> 0</td><td> 0.0000000</td><td> 0</td><td>49.80000</td><td> 0.00</td><td> 0.0000000</td><td> 0.00000000</td><td> 0</td><td> 0.00000</td><td>15.410000</td></tr>\n",
       "\t<tr><th scope=row>6506</th><td> 0</td><td>18.360000</td><td> 9.970000</td><td> 0.00000000</td><td> 0.00</td><td> 0.0300000</td><td> 0.00000000</td><td> 0.00000000</td><td> 0.00</td><td> 0</td><td>...</td><td> 0</td><td> 6.1400000</td><td> 0</td><td>50.46000</td><td> 0.21</td><td> 0.0000000</td><td> 0.00000000</td><td> 0</td><td> 0.00000</td><td> 0.040000</td></tr>\n",
       "\t<tr><th scope=row>7038</th><td> 0</td><td> 1.983987</td><td> 4.961462</td><td> 0.02989430</td><td> 0.00</td><td> 0.4982388</td><td> 0.01992960</td><td> 0.00996478</td><td> 0.00</td><td> 0</td><td>...</td><td> 0</td><td> 0.4982388</td><td> 0</td><td>52.58612</td><td> 0.00</td><td> 0.0996478</td><td> 0.00000000</td><td> 0</td><td> 0.00000</td><td>21.966837</td></tr>\n",
       "\t<tr><th scope=row>5146</th><td> 0</td><td>15.000000</td><td> 9.000000</td><td> 0.00000000</td><td> 0.00</td><td>18.0000000</td><td> 0.00000000</td><td> 0.00000000</td><td> 0.00</td><td> 0</td><td>...</td><td> 0</td><td> 0.0000000</td><td> 0</td><td>52.00000</td><td> 0.00</td><td> 0.0000000</td><td> 5.00000000</td><td> 0</td><td> 0.00000</td><td> 1.000000</td></tr>\n",
       "\t<tr><th scope=row>782</th><td> 0</td><td> 1.000000</td><td> 0.000000</td><td> 0.00000000</td><td> 0.00</td><td> 7.0000000</td><td> 0.00000000</td><td> 0.00000000</td><td> 0.00</td><td> 0</td><td>...</td><td> 0</td><td> 0.0000000</td><td> 0</td><td>75.00000</td><td> 0.00</td><td> 0.0000000</td><td> 0.00000000</td><td> 0</td><td> 0.00000</td><td> 0.000000</td></tr>\n",
       "\t<tr><th scope=row>5072</th><td> 0</td><td> 1.700000</td><td> 0.000000</td><td> 0.00000000</td><td> 0.00</td><td> 1.8000000</td><td> 0.00000000</td><td> 0.00000000</td><td> 0.00</td><td> 0</td><td>...</td><td> 0</td><td> 0.0000000</td><td> 0</td><td>66.80000</td><td> 0.00</td><td> 0.0000000</td><td> 1.30000000</td><td> 0</td><td> 2.00000</td><td> 0.000000</td></tr>\n",
       "\t<tr><th scope=row>3277</th><td> 0</td><td> 1.000000</td><td> 0.000000</td><td> 0.00000000</td><td> 0.00</td><td> 0.0000000</td><td> 0.00000000</td><td> 0.00000000</td><td> 0.00</td><td> 0</td><td>...</td><td> 0</td><td> 0.0000000</td><td> 0</td><td>78.50000</td><td> 0.00</td><td> 0.0000000</td><td> 0.00000000</td><td> 0</td><td> 0.00000</td><td> 0.000000</td></tr>\n",
       "\t<tr><th scope=row>6589</th><td> 0</td><td> 1.970000</td><td> 0.000000</td><td> 0.00000000</td><td> 0.00</td><td> 8.4100000</td><td> 0.00000000</td><td> 0.00000000</td><td> 0.00</td><td> 0</td><td>...</td><td> 0</td><td> 0.0000000</td><td> 0</td><td>71.91000</td><td> 0.00</td><td> 0.0000000</td><td> 0.00000000</td><td> 0</td><td> 0.00000</td><td> 0.010000</td></tr>\n",
       "\t<tr><th scope=row>4693</th><td> 0</td><td> 1.330000</td><td> 0.000000</td><td> 2.06000000</td><td> 0.00</td><td> 0.0400000</td><td> 0.00000000</td><td> 0.00000000</td><td> 0.00</td><td> 0</td><td>...</td><td> 0</td><td> 0.0000000</td><td> 0</td><td>59.49000</td><td> 0.00</td><td> 0.0000000</td><td>10.16000000</td><td> 0</td><td> 3.03000</td><td> 4.630000</td></tr>\n",
       "\t<tr><th scope=row>3726</th><td> 0</td><td> 8.500000</td><td> 4.400000</td><td> 0.00000000</td><td> 0.00</td><td> 8.1000000</td><td> 0.00000000</td><td> 0.00000000</td><td> 0.00</td><td> 0</td><td>...</td><td> 0</td><td> 0.0000000</td><td> 0</td><td>55.40000</td><td> 0.00</td><td> 0.0000000</td><td> 3.10000000</td><td> 0</td><td> 3.70000</td><td> 0.000000</td></tr>\n",
       "\t<tr><th scope=row>4695</th><td> 0</td><td> 1.380000</td><td> 0.000000</td><td> 1.94000000</td><td> 0.00</td><td> 0.0000000</td><td> 0.00000000</td><td> 0.00000000</td><td> 0.00</td><td> 0</td><td>...</td><td> 0</td><td> 0.0000000</td><td> 0</td><td>69.91000</td><td> 0.00</td><td> 0.0000000</td><td>10.10000000</td><td> 0</td><td> 0.00000</td><td> 4.630000</td></tr>\n",
       "\t<tr><th scope=row>6722</th><td> 0</td><td>17.890000</td><td> 2.070000</td><td> 5.14000000</td><td> 0.00</td><td> 4.9300000</td><td> 0.00000000</td><td> 0.00000000</td><td> 0.00</td><td> 0</td><td>...</td><td> 0</td><td> 0.0000000</td><td> 0</td><td>63.46000</td><td> 0.26</td><td> 0.0000000</td><td> 3.46000000</td><td> 0</td><td> 0.03000</td><td> 0.100000</td></tr>\n",
       "\t<tr><th scope=row>12</th><td> 0</td><td> 0.220000</td><td> 0.000000</td><td> 0.00000000</td><td> 0.00</td><td> 0.1500000</td><td> 0.00000000</td><td> 0.00000000</td><td> 0.00</td><td> 0</td><td>...</td><td> 0</td><td> 0.0000000</td><td> 0</td><td>55.91000</td><td> 0.00</td><td> 0.0000000</td><td> 0.00000000</td><td> 0</td><td> 0.00000</td><td>31.550000</td></tr>\n",
       "\t<tr><th scope=row>7175</th><td> 0</td><td> 4.000000</td><td>12.500000</td><td> 1.13000000</td><td> 0.00</td><td> 0.0000000</td><td> 0.00000000</td><td> 0.20000000</td><td> 0.00</td><td> 0</td><td>...</td><td> 0</td><td> 0.0000000</td><td> 0</td><td>39.50000</td><td> 0.00</td><td> 0.0000000</td><td> 0.20000000</td><td> 0</td><td>10.00000</td><td> 9.710000</td></tr>\n",
       "\t<tr><th scope=row>1814</th><td> 0</td><td> 9.970000</td><td>10.260000</td><td> 1.99000000</td><td> 0.00</td><td> 2.2900000</td><td> 0.00000000</td><td> 0.00000000</td><td> 0.00</td><td> 0</td><td>...</td><td> 0</td><td> 0.0000000</td><td> 0</td><td>66.50000</td><td> 0.00</td><td> 0.0000000</td><td> 0.00000000</td><td> 0</td><td> 0.00000</td><td> 2.820000</td></tr>\n",
       "\t<tr><th scope=row>3599</th><td> 0</td><td>19.600000</td><td> 0.000000</td><td> 0.00000000</td><td> 0.00</td><td> 0.0000000</td><td> 0.00000000</td><td> 0.00000000</td><td> 0.00</td><td> 0</td><td>...</td><td> 0</td><td> 1.9200000</td><td> 0</td><td>60.87000</td><td> 0.00</td><td> 0.0000000</td><td> 0.00000000</td><td> 0</td><td> 0.00000</td><td> 0.010000</td></tr>\n",
       "\t<tr><th scope=row>3399</th><td> 0</td><td>13.920000</td><td> 0.000000</td><td> 0.00000000</td><td> 2.94</td><td>28.9900000</td><td> 0.00000000</td><td> 0.00000000</td><td> 8.73</td><td> 0</td><td>...</td><td> 0</td><td> 0.0000000</td><td> 0</td><td>41.19000</td><td> 0.00</td><td> 0.0000000</td><td> 0.00000000</td><td> 0</td><td> 0.00000</td><td> 1.450000</td></tr>\n",
       "\t<tr><th scope=row>5160</th><td> 0</td><td>14.000000</td><td> 9.000000</td><td> 0.00000000</td><td> 0.00</td><td>15.0000000</td><td> 0.00000000</td><td> 0.00000000</td><td> 0.00</td><td> 0</td><td>...</td><td> 0</td><td> 0.0000000</td><td> 0</td><td>55.80000</td><td> 0.20</td><td> 0.0000000</td><td> 5.00000000</td><td> 0</td><td> 0.00000</td><td> 1.000000</td></tr>\n",
       "\t<tr><th scope=row>1553</th><td> 0</td><td>13.640000</td><td> 2.250000</td><td> 0.00000000</td><td> 0.00</td><td>16.6000000</td><td> 0.00000000</td><td> 0.00000000</td><td> 0.00</td><td> 0</td><td>...</td><td> 0</td><td> 0.0000000</td><td> 0</td><td>57.85000</td><td> 0.00</td><td> 0.0000000</td><td> 9.64000000</td><td> 0</td><td> 0.00000</td><td> 0.020000</td></tr>\n",
       "\t<tr><th scope=row>5098</th><td> 0</td><td>20.830000</td><td> 0.000000</td><td> 0.00000000</td><td> 0.00</td><td> 0.0000000</td><td> 0.00000000</td><td> 0.00000000</td><td> 0.00</td><td> 0</td><td>...</td><td> 0</td><td> 0.0000000</td><td> 0</td><td>63.74000</td><td> 0.00</td><td> 0.0000000</td><td> 0.00000000</td><td> 0</td><td> 0.00000</td><td> 0.520000</td></tr>\n",
       "\t<tr><th scope=row>5194</th><td> 0</td><td> 8.660000</td><td> 3.140000</td><td> 0.00000000</td><td> 0.00</td><td> 0.0000000</td><td> 0.00000000</td><td> 0.00000000</td><td> 0.00</td><td> 0</td><td>...</td><td> 0</td><td> 0.0000000</td><td> 0</td><td>66.06000</td><td> 0.00</td><td> 0.0000000</td><td> 0.00000000</td><td> 0</td><td> 0.00000</td><td> 8.900000</td></tr>\n",
       "\t<tr><th scope=row>7169</th><td> 0</td><td> 9.754339</td><td>11.050234</td><td> 0.06809288</td><td> 0.00</td><td> 0.2517743</td><td> 0.02750285</td><td> 0.06407003</td><td> 0.00</td><td> 0</td><td>...</td><td> 0</td><td> 0.0000000</td><td> 0</td><td>43.00174</td><td> 0.00</td><td> 0.1347415</td><td> 0.02903782</td><td> 0</td><td> 3.36557</td><td>15.188103</td></tr>\n",
       "\t<tr><th scope=row>490</th><td> 0</td><td> 0.000000</td><td> 0.000000</td><td> 0.00000000</td><td> 0.00</td><td> 0.0000000</td><td> 0.00000000</td><td> 0.00000000</td><td> 0.00</td><td> 0</td><td>...</td><td> 0</td><td> 0.0000000</td><td> 0</td><td>65.67000</td><td> 0.00</td><td> 0.0000000</td><td> 0.00000000</td><td> 0</td><td> 0.00000</td><td> 0.010000</td></tr>\n",
       "\t<tr><th scope=row>6990</th><td> 0</td><td> 4.000045</td><td>14.000063</td><td> 0.03000470</td><td> 0.00</td><td> 0.5000015</td><td> 0.01995310</td><td> 0.01000000</td><td> 0.00</td><td> 0</td><td>...</td><td> 0</td><td> 0.5000015</td><td> 0</td><td>51.73427</td><td> 0.00</td><td> 0.1000003</td><td> 3.25251580</td><td> 0</td><td> 0.00000</td><td>16.919728</td></tr>\n",
       "\t<tr><th scope=row>2028</th><td> 0</td><td> 0.000000</td><td> 2.980000</td><td> 0.00000000</td><td> 0.00</td><td> 0.0000000</td><td> 0.00000000</td><td> 0.00000000</td><td> 0.00</td><td> 0</td><td>...</td><td> 0</td><td> 0.0000000</td><td> 0</td><td>63.56000</td><td> 0.00</td><td> 0.0000000</td><td> 0.00000000</td><td> 0</td><td> 0.00000</td><td>13.610000</td></tr>\n",
       "\t<tr><th scope=row>3837</th><td> 0</td><td>12.300000</td><td> 3.100000</td><td> 5.00000000</td><td> 0.00</td><td> 7.5000000</td><td> 0.00000000</td><td> 0.00000000</td><td> 0.00</td><td> 0</td><td>...</td><td> 0</td><td> 0.0000000</td><td> 0</td><td>66.10000</td><td> 0.00</td><td> 0.0000000</td><td> 2.30000000</td><td> 0</td><td> 0.10000</td><td> 0.000000</td></tr>\n",
       "\t<tr><th scope=row>2800</th><td> 0</td><td> 5.430000</td><td>12.730000</td><td> 0.00000000</td><td> 0.00</td><td> 2.7200000</td><td> 0.00000000</td><td> 0.00000000</td><td> 0.00</td><td> 0</td><td>...</td><td> 0</td><td> 0.0000000</td><td> 0</td><td>64.26000</td><td> 0.00</td><td> 0.0000000</td><td> 0.00000000</td><td> 0</td><td> 0.00000</td><td> 0.010000</td></tr>\n",
       "\t<tr><th scope=row>6476</th><td> 0</td><td>26.400000</td><td> 5.090000</td><td> 0.00000000</td><td> 0.00</td><td> 0.0000000</td><td> 0.00000000</td><td> 0.00000000</td><td> 0.00</td><td> 0</td><td>...</td><td> 0</td><td> 0.0000000</td><td> 0</td><td>54.03000</td><td> 0.00</td><td> 0.0000000</td><td> 0.00000000</td><td> 0</td><td> 0.00000</td><td> 2.180000</td></tr>\n",
       "\t<tr><th scope=row>291</th><td>38</td><td>38.000000</td><td>38.000000</td><td>38.00000000</td><td>38.00</td><td>38.0000000</td><td>38.00000000</td><td>38.00000000</td><td>38.00</td><td>38</td><td>...</td><td>38</td><td>38.0000000</td><td>38</td><td>38.00000</td><td>38.00</td><td>38.0000000</td><td>38.00000000</td><td>38</td><td>38.00000</td><td> 1.026722</td></tr>\n",
       "\t<tr><th scope=row>292</th><td>38</td><td>38.000000</td><td>38.000000</td><td>38.00000000</td><td>38.00</td><td>38.0000000</td><td>38.00000000</td><td>38.00000000</td><td>38.00</td><td>38</td><td>...</td><td>38</td><td>38.0000000</td><td>38</td><td>38.00000</td><td>38.00</td><td>38.0000000</td><td>38.00000000</td><td>38</td><td>38.00000</td><td> 1.001066</td></tr>\n",
       "</tbody>\n",
       "</table>\n"
      ],
      "text/latex": [
       "A data.frame: 292 × 28\n",
       "\\begin{tabular}{r|lllllllllllllllllllll}\n",
       "  & X\\_\\_3 & X\\_\\_4 & X\\_\\_8 & X\\_\\_10 & X\\_\\_17 & X\\_\\_18 & X\\_\\_29 & X\\_\\_30 & X\\_\\_43 & X\\_\\_48 & ... & X\\_\\_84 & X\\_\\_86 & X\\_\\_106 & X\\_\\_109 & X\\_\\_113 & X\\_\\_115 & X\\_\\_117 & X\\_\\_133 & X\\_\\_138 & autres\\\\\n",
       "  & <dbl> & <dbl> & <dbl> & <dbl> & <dbl> & <dbl> & <dbl> & <dbl> & <dbl> & <dbl> & ... & <dbl> & <dbl> & <dbl> & <dbl> & <dbl> & <dbl> & <dbl> & <dbl> & <dbl> & <dbl>\\\\\n",
       "\\hline\n",
       "\t1561 & 0 & 12.000000 &  2.000000 &  0.0000000 & 0 & 12.0000000 & 0.0000000 & 0.00000000 &  0.00 & 0.00000 & ... & 0 & 0.0000000 & 0 & 61.00000 & 0.00 & 0.0000000 & 10.000000 & 0.00 & 0.000000 &  3.00000\\\\\n",
       "\t5446 & 0 & 16.980000 & 10.990000 &  5.4900000 & 0 &  4.9900000 & 0.0000000 & 0.00000000 &  0.00 & 0.00999 & ... & 0 & 0.0000000 & 0 & 57.46000 & 0.00 & 0.0000000 &  1.990000 & 0.00 & 0.000000 &  1.10001\\\\\n",
       "\t5206 & 0 & 13.300000 &  0.000000 &  0.0000000 & 0 &  0.0000000 & 0.0000000 & 0.00000000 &  0.00 & 0.00000 & ... & 0 & 0.0000000 & 0 & 68.60000 & 0.00 & 0.0000000 &  0.000000 & 0.00 & 0.000000 &  2.60000\\\\\n",
       "\t6035 & 0 &  9.500000 &  3.000000 &  0.0000000 & 0 &  0.0000000 & 0.0000000 & 0.00000000 &  0.00 & 0.00000 & ... & 0 & 1.0000000 & 0 & 58.10000 & 0.00 & 0.0000000 &  0.000000 & 0.00 & 2.000000 &  2.40000\\\\\n",
       "\t2179 & 0 & 10.860000 &  0.000000 &  2.3000000 & 0 & 12.7800000 & 0.0000000 & 0.00000000 & 23.38 & 0.00000 & ... & 0 & 0.0000000 & 0 & 50.17000 & 0.00 & 0.0000000 &  0.000000 & 0.00 & 0.000000 &  0.51000\\\\\n",
       "\t6790 & 0 & 10.700000 &  0.000000 &  0.0000000 & 0 &  6.5000000 & 0.0000000 & 0.00000000 &  0.00 & 0.00000 & ... & 0 & 0.0000000 & 0 & 65.60000 & 0.00 & 0.0000000 &  0.000000 & 0.00 & 0.300000 &  0.00000\\\\\n",
       "\t3247 & 0 &  0.500000 &  0.000000 &  0.0000000 & 0 & 11.0000000 & 0.0000000 & 0.00000000 &  0.00 & 0.00000 & ... & 0 & 0.0000000 & 0 & 70.00000 & 0.00 & 0.0000000 &  4.000000 & 0.00 & 3.000000 &  0.00000\\\\\n",
       "\t4991 & 0 &  5.600000 &  0.000000 & 11.4000000 & 0 &  1.4000000 & 0.0000000 & 0.00000000 &  0.00 & 0.00000 & ... & 0 & 0.0000000 & 0 & 53.80000 & 0.00 & 0.0000000 &  4.300000 & 0.00 & 0.000000 & 10.20000\\\\\n",
       "\t6484 & 0 &  6.090000 &  5.870000 &  0.0000000 & 0 &  7.1900000 & 0.0000000 & 0.00000000 &  0.00 & 0.00000 & ... & 0 & 0.0000000 & 0 & 64.05000 & 0.03 & 0.2900000 &  0.160000 & 0.00 & 0.000000 &  0.04000\\\\\n",
       "\t7180 & 0 &  1.926872 &  4.809666 &  0.0559236 & 0 &  0.5206918 & 0.4147065 & 0.00000000 &  0.00 & 0.00000 & ... & 0 & 0.1514831 & 0 & 46.19666 & 0.00 & 0.0795146 &  9.891461 & 0.00 & 0.000000 & 15.31776\\\\\n",
       "\t3130 & 0 &  0.000000 &  0.000000 &  0.0000000 & 0 &  0.0000000 & 0.0000000 & 0.00000000 &  0.00 & 0.00000 & ... & 0 & 0.0000000 & 0 & 25.06000 & 0.00 & 0.0000000 &  0.000000 & 0.00 & 0.000000 & 67.97000\\\\\n",
       "\t574 & 0 &  0.000000 &  0.000000 &  0.0000000 & 0 &  0.0000000 & 0.0000000 & 0.00000000 &  0.00 & 0.00000 & ... & 0 & 0.0000000 & 0 & 20.92000 & 0.00 & 0.0000000 &  0.000000 & 0.00 & 0.000000 & 77.76000\\\\\n",
       "\t3581 & 0 &  0.000000 &  0.000000 &  0.0000000 & 0 & 10.5000000 & 0.0000000 & 0.00000000 &  0.00 & 0.00000 & ... & 0 & 0.0000000 & 0 & 73.50000 & 0.00 & 0.0000000 &  3.000000 & 0.00 & 0.000000 &  0.00000\\\\\n",
       "\t1356 & 0 & 16.000000 &  2.000000 & 14.0000000 & 0 &  0.0000000 & 0.0000000 & 0.00000000 &  0.00 & 0.00000 & ... & 0 & 0.0000000 & 0 & 54.00000 & 0.00 & 0.0000000 &  0.000000 & 0.00 & 0.000000 &  0.00000\\\\\n",
       "\t3431 & 0 &  0.000000 & 27.030000 &  0.0000000 & 0 &  0.0000000 & 0.0000000 & 0.00000000 &  0.00 & 0.00000 & ... & 0 & 0.0000000 & 0 & 58.32000 & 0.00 & 0.0000000 &  0.000000 & 0.00 & 0.000000 &  0.02000\\\\\n",
       "\t1390 & 0 &  0.000000 &  0.000000 & 37.1900000 & 0 & 10.2000000 & 0.0000000 & 0.00000000 &  0.00 & 0.00000 & ... & 0 & 0.0000000 & 0 & 36.44000 & 0.00 & 0.0000000 &  6.280000 & 0.00 & 0.000000 &  9.89000\\\\\n",
       "\t4512 & 0 &  0.110000 &  1.990000 &  0.0000000 & 0 &  6.4900000 & 0.0000000 & 0.00000000 &  0.00 & 0.00000 & ... & 0 & 0.0000000 & 0 & 64.36000 & 0.00 & 0.0000000 &  0.000000 & 0.00 & 5.080000 &  5.88000\\\\\n",
       "\t3556 & 0 &  9.670000 &  0.000000 &  0.0000000 & 0 & 24.6400000 & 0.0000000 & 0.00000000 &  7.94 & 0.00000 & ... & 0 & 0.0000000 & 0 & 57.73000 & 0.00 & 0.0000000 &  0.000000 & 0.00 & 0.000000 &  0.02000\\\\\n",
       "\t228 & 0 &  0.000000 &  0.000000 &  0.0000000 & 0 &  0.0000000 & 0.0000000 & 0.00000000 &  0.00 & 0.00000 & ... & 0 & 0.0000000 & 0 & 33.33000 & 0.00 & 0.0000000 &  0.000000 & 0.00 & 0.000000 & 66.67000\\\\\n",
       "\t1708 & 0 &  1.500000 &  0.000000 &  0.2000000 & 0 &  7.0000000 & 0.0000000 & 0.00000000 &  0.00 & 0.00000 & ... & 0 & 0.0000000 & 0 & 72.50000 & 0.00 & 0.0000000 &  0.000000 & 0.00 & 0.000000 &  0.00000\\\\\n",
       "\t7048 & 0 &  4.958186 &  6.940861 &  0.0599297 & 0 &  0.4994144 & 0.0789075 & 0.00998829 &  0.00 & 0.00000 & ... & 0 & 0.4994144 & 0 & 48.58703 & 0.00 & 0.0998829 &  1.487256 & 0.00 & 5.949024 & 12.58151\\\\\n",
       "\t4969 & 0 &  5.600000 &  0.000000 & 12.8000000 & 0 &  3.4000000 & 0.0000000 & 0.00000000 &  0.00 & 0.00000 & ... & 0 & 0.0000000 & 0 & 55.40000 & 0.00 & 0.2000000 &  5.000000 & 0.00 & 2.000000 &  0.00000\\\\\n",
       "\t3294 & 0 &  9.900000 &  0.000000 &  0.0000000 & 0 &  4.8000000 & 0.0000000 & 0.00000000 &  0.00 & 0.00000 & ... & 0 & 0.0000000 & 0 & 69.60000 & 0.00 & 0.0000000 &  0.000000 & 0.00 & 0.000000 &  0.00000\\\\\n",
       "\t487 & 0 &  8.470000 & 16.500000 &  0.0000000 & 0 &  3.1000000 & 0.0300000 & 0.00000000 &  0.00 & 0.00000 & ... & 0 & 0.0000000 & 0 & 48.99000 & 0.00 & 0.0000000 &  0.000000 & 0.00 & 0.700000 &  5.01000\\\\\n",
       "\t2875 & 0 &  0.000000 &  0.000000 &  0.0000000 & 0 &  0.0000000 & 0.0000000 & 0.00000000 &  0.00 & 0.00000 & ... & 0 & 0.0000000 & 0 & 51.90000 & 0.00 & 0.0000000 &  0.000000 & 0.00 & 0.000000 & 32.81000\\\\\n",
       "\t6067 & 0 &  0.000000 &  1.990000 &  0.0000000 & 0 &  0.9900000 & 0.0000000 & 0.00000000 &  0.00 & 0.00000 & ... & 0 & 0.0000000 & 0 & 56.48000 & 0.09 & 0.0000000 &  0.000000 & 0.00 & 3.990000 &  0.10000\\\\\n",
       "\t1145 & 0 &  0.000000 &  0.000000 &  0.0000000 & 0 &  0.0000000 & 0.0000000 & 0.00000000 &  0.00 & 0.00000 & ... & 0 & 0.0000000 & 0 & 61.50000 & 0.00 & 0.0000000 &  0.000000 & 0.00 & 0.000000 & 25.04000\\\\\n",
       "\t6876 & 0 &  0.000000 & 20.000000 &  0.1790000 & 0 &  8.0000000 & 0.2240000 & 0.26900000 &  0.00 & 0.00000 & ... & 0 & 0.1790000 & 0 & 43.91000 & 0.00 & 0.4930000 &  0.179000 & 0.09 & 8.340000 &  9.26800\\\\\n",
       "\t6678 & 0 & 17.030000 &  0.000000 &  9.3000000 & 0 &  4.7200000 & 0.0000000 & 0.00000000 &  0.00 & 0.00000 & ... & 0 & 0.0000000 & 0 & 64.33000 & 0.24 & 0.0000000 &  1.400000 & 0.00 & 0.030000 &  0.08000\\\\\n",
       "\t6437 & 0 &  8.810000 &  0.000000 &  0.0000000 & 0 &  0.0000000 & 0.0000000 & 0.00000000 &  0.00 & 0.00000 & ... & 0 & 0.0000000 & 0 & 69.89000 & 0.00 & 0.0000000 &  0.000000 & 0.00 & 0.000000 &  0.02000\\\\\n",
       "\t... & ... & ... & ... & ... & ... & ... & ... & ... & ... & ... &  & ... & ... & ... & ... & ... & ... & ... & ... & ... & ...\\\\\n",
       "\t1951 &  0 &  0.000000 &  4.900000 & 21.54000000 &  0.00 &  0.0000000 &  0.00000000 &  0.00000000 &  0.00 &  0 & ... &  0 &  0.0000000 &  0 & 49.80000 &  0.00 &  0.0000000 &  0.00000000 &  0 &  0.00000 & 15.410000\\\\\n",
       "\t6506 &  0 & 18.360000 &  9.970000 &  0.00000000 &  0.00 &  0.0300000 &  0.00000000 &  0.00000000 &  0.00 &  0 & ... &  0 &  6.1400000 &  0 & 50.46000 &  0.21 &  0.0000000 &  0.00000000 &  0 &  0.00000 &  0.040000\\\\\n",
       "\t7038 &  0 &  1.983987 &  4.961462 &  0.02989430 &  0.00 &  0.4982388 &  0.01992960 &  0.00996478 &  0.00 &  0 & ... &  0 &  0.4982388 &  0 & 52.58612 &  0.00 &  0.0996478 &  0.00000000 &  0 &  0.00000 & 21.966837\\\\\n",
       "\t5146 &  0 & 15.000000 &  9.000000 &  0.00000000 &  0.00 & 18.0000000 &  0.00000000 &  0.00000000 &  0.00 &  0 & ... &  0 &  0.0000000 &  0 & 52.00000 &  0.00 &  0.0000000 &  5.00000000 &  0 &  0.00000 &  1.000000\\\\\n",
       "\t782 &  0 &  1.000000 &  0.000000 &  0.00000000 &  0.00 &  7.0000000 &  0.00000000 &  0.00000000 &  0.00 &  0 & ... &  0 &  0.0000000 &  0 & 75.00000 &  0.00 &  0.0000000 &  0.00000000 &  0 &  0.00000 &  0.000000\\\\\n",
       "\t5072 &  0 &  1.700000 &  0.000000 &  0.00000000 &  0.00 &  1.8000000 &  0.00000000 &  0.00000000 &  0.00 &  0 & ... &  0 &  0.0000000 &  0 & 66.80000 &  0.00 &  0.0000000 &  1.30000000 &  0 &  2.00000 &  0.000000\\\\\n",
       "\t3277 &  0 &  1.000000 &  0.000000 &  0.00000000 &  0.00 &  0.0000000 &  0.00000000 &  0.00000000 &  0.00 &  0 & ... &  0 &  0.0000000 &  0 & 78.50000 &  0.00 &  0.0000000 &  0.00000000 &  0 &  0.00000 &  0.000000\\\\\n",
       "\t6589 &  0 &  1.970000 &  0.000000 &  0.00000000 &  0.00 &  8.4100000 &  0.00000000 &  0.00000000 &  0.00 &  0 & ... &  0 &  0.0000000 &  0 & 71.91000 &  0.00 &  0.0000000 &  0.00000000 &  0 &  0.00000 &  0.010000\\\\\n",
       "\t4693 &  0 &  1.330000 &  0.000000 &  2.06000000 &  0.00 &  0.0400000 &  0.00000000 &  0.00000000 &  0.00 &  0 & ... &  0 &  0.0000000 &  0 & 59.49000 &  0.00 &  0.0000000 & 10.16000000 &  0 &  3.03000 &  4.630000\\\\\n",
       "\t3726 &  0 &  8.500000 &  4.400000 &  0.00000000 &  0.00 &  8.1000000 &  0.00000000 &  0.00000000 &  0.00 &  0 & ... &  0 &  0.0000000 &  0 & 55.40000 &  0.00 &  0.0000000 &  3.10000000 &  0 &  3.70000 &  0.000000\\\\\n",
       "\t4695 &  0 &  1.380000 &  0.000000 &  1.94000000 &  0.00 &  0.0000000 &  0.00000000 &  0.00000000 &  0.00 &  0 & ... &  0 &  0.0000000 &  0 & 69.91000 &  0.00 &  0.0000000 & 10.10000000 &  0 &  0.00000 &  4.630000\\\\\n",
       "\t6722 &  0 & 17.890000 &  2.070000 &  5.14000000 &  0.00 &  4.9300000 &  0.00000000 &  0.00000000 &  0.00 &  0 & ... &  0 &  0.0000000 &  0 & 63.46000 &  0.26 &  0.0000000 &  3.46000000 &  0 &  0.03000 &  0.100000\\\\\n",
       "\t12 &  0 &  0.220000 &  0.000000 &  0.00000000 &  0.00 &  0.1500000 &  0.00000000 &  0.00000000 &  0.00 &  0 & ... &  0 &  0.0000000 &  0 & 55.91000 &  0.00 &  0.0000000 &  0.00000000 &  0 &  0.00000 & 31.550000\\\\\n",
       "\t7175 &  0 &  4.000000 & 12.500000 &  1.13000000 &  0.00 &  0.0000000 &  0.00000000 &  0.20000000 &  0.00 &  0 & ... &  0 &  0.0000000 &  0 & 39.50000 &  0.00 &  0.0000000 &  0.20000000 &  0 & 10.00000 &  9.710000\\\\\n",
       "\t1814 &  0 &  9.970000 & 10.260000 &  1.99000000 &  0.00 &  2.2900000 &  0.00000000 &  0.00000000 &  0.00 &  0 & ... &  0 &  0.0000000 &  0 & 66.50000 &  0.00 &  0.0000000 &  0.00000000 &  0 &  0.00000 &  2.820000\\\\\n",
       "\t3599 &  0 & 19.600000 &  0.000000 &  0.00000000 &  0.00 &  0.0000000 &  0.00000000 &  0.00000000 &  0.00 &  0 & ... &  0 &  1.9200000 &  0 & 60.87000 &  0.00 &  0.0000000 &  0.00000000 &  0 &  0.00000 &  0.010000\\\\\n",
       "\t3399 &  0 & 13.920000 &  0.000000 &  0.00000000 &  2.94 & 28.9900000 &  0.00000000 &  0.00000000 &  8.73 &  0 & ... &  0 &  0.0000000 &  0 & 41.19000 &  0.00 &  0.0000000 &  0.00000000 &  0 &  0.00000 &  1.450000\\\\\n",
       "\t5160 &  0 & 14.000000 &  9.000000 &  0.00000000 &  0.00 & 15.0000000 &  0.00000000 &  0.00000000 &  0.00 &  0 & ... &  0 &  0.0000000 &  0 & 55.80000 &  0.20 &  0.0000000 &  5.00000000 &  0 &  0.00000 &  1.000000\\\\\n",
       "\t1553 &  0 & 13.640000 &  2.250000 &  0.00000000 &  0.00 & 16.6000000 &  0.00000000 &  0.00000000 &  0.00 &  0 & ... &  0 &  0.0000000 &  0 & 57.85000 &  0.00 &  0.0000000 &  9.64000000 &  0 &  0.00000 &  0.020000\\\\\n",
       "\t5098 &  0 & 20.830000 &  0.000000 &  0.00000000 &  0.00 &  0.0000000 &  0.00000000 &  0.00000000 &  0.00 &  0 & ... &  0 &  0.0000000 &  0 & 63.74000 &  0.00 &  0.0000000 &  0.00000000 &  0 &  0.00000 &  0.520000\\\\\n",
       "\t5194 &  0 &  8.660000 &  3.140000 &  0.00000000 &  0.00 &  0.0000000 &  0.00000000 &  0.00000000 &  0.00 &  0 & ... &  0 &  0.0000000 &  0 & 66.06000 &  0.00 &  0.0000000 &  0.00000000 &  0 &  0.00000 &  8.900000\\\\\n",
       "\t7169 &  0 &  9.754339 & 11.050234 &  0.06809288 &  0.00 &  0.2517743 &  0.02750285 &  0.06407003 &  0.00 &  0 & ... &  0 &  0.0000000 &  0 & 43.00174 &  0.00 &  0.1347415 &  0.02903782 &  0 &  3.36557 & 15.188103\\\\\n",
       "\t490 &  0 &  0.000000 &  0.000000 &  0.00000000 &  0.00 &  0.0000000 &  0.00000000 &  0.00000000 &  0.00 &  0 & ... &  0 &  0.0000000 &  0 & 65.67000 &  0.00 &  0.0000000 &  0.00000000 &  0 &  0.00000 &  0.010000\\\\\n",
       "\t6990 &  0 &  4.000045 & 14.000063 &  0.03000470 &  0.00 &  0.5000015 &  0.01995310 &  0.01000000 &  0.00 &  0 & ... &  0 &  0.5000015 &  0 & 51.73427 &  0.00 &  0.1000003 &  3.25251580 &  0 &  0.00000 & 16.919728\\\\\n",
       "\t2028 &  0 &  0.000000 &  2.980000 &  0.00000000 &  0.00 &  0.0000000 &  0.00000000 &  0.00000000 &  0.00 &  0 & ... &  0 &  0.0000000 &  0 & 63.56000 &  0.00 &  0.0000000 &  0.00000000 &  0 &  0.00000 & 13.610000\\\\\n",
       "\t3837 &  0 & 12.300000 &  3.100000 &  5.00000000 &  0.00 &  7.5000000 &  0.00000000 &  0.00000000 &  0.00 &  0 & ... &  0 &  0.0000000 &  0 & 66.10000 &  0.00 &  0.0000000 &  2.30000000 &  0 &  0.10000 &  0.000000\\\\\n",
       "\t2800 &  0 &  5.430000 & 12.730000 &  0.00000000 &  0.00 &  2.7200000 &  0.00000000 &  0.00000000 &  0.00 &  0 & ... &  0 &  0.0000000 &  0 & 64.26000 &  0.00 &  0.0000000 &  0.00000000 &  0 &  0.00000 &  0.010000\\\\\n",
       "\t6476 &  0 & 26.400000 &  5.090000 &  0.00000000 &  0.00 &  0.0000000 &  0.00000000 &  0.00000000 &  0.00 &  0 & ... &  0 &  0.0000000 &  0 & 54.03000 &  0.00 &  0.0000000 &  0.00000000 &  0 &  0.00000 &  2.180000\\\\\n",
       "\t291 & 38 & 38.000000 & 38.000000 & 38.00000000 & 38.00 & 38.0000000 & 38.00000000 & 38.00000000 & 38.00 & 38 & ... & 38 & 38.0000000 & 38 & 38.00000 & 38.00 & 38.0000000 & 38.00000000 & 38 & 38.00000 &  1.026722\\\\\n",
       "\t292 & 38 & 38.000000 & 38.000000 & 38.00000000 & 38.00 & 38.0000000 & 38.00000000 & 38.00000000 & 38.00 & 38 & ... & 38 & 38.0000000 & 38 & 38.00000 & 38.00 & 38.0000000 & 38.00000000 & 38 & 38.00000 &  1.001066\\\\\n",
       "\\end{tabular}\n"
      ],
      "text/markdown": [
       "\n",
       "A data.frame: 292 × 28\n",
       "\n",
       "| <!--/--> | X__3 &lt;dbl&gt; | X__4 &lt;dbl&gt; | X__8 &lt;dbl&gt; | X__10 &lt;dbl&gt; | X__17 &lt;dbl&gt; | X__18 &lt;dbl&gt; | X__29 &lt;dbl&gt; | X__30 &lt;dbl&gt; | X__43 &lt;dbl&gt; | X__48 &lt;dbl&gt; | ... ... | X__84 &lt;dbl&gt; | X__86 &lt;dbl&gt; | X__106 &lt;dbl&gt; | X__109 &lt;dbl&gt; | X__113 &lt;dbl&gt; | X__115 &lt;dbl&gt; | X__117 &lt;dbl&gt; | X__133 &lt;dbl&gt; | X__138 &lt;dbl&gt; | autres &lt;dbl&gt; |\n",
       "|---|---|---|---|---|---|---|---|---|---|---|---|---|---|---|---|---|---|---|---|---|---|\n",
       "| 1561 | 0 | 12.000000 |  2.000000 |  0.0000000 | 0 | 12.0000000 | 0.0000000 | 0.00000000 |  0.00 | 0.00000 | ... | 0 | 0.0000000 | 0 | 61.00000 | 0.00 | 0.0000000 | 10.000000 | 0.00 | 0.000000 |  3.00000 |\n",
       "| 5446 | 0 | 16.980000 | 10.990000 |  5.4900000 | 0 |  4.9900000 | 0.0000000 | 0.00000000 |  0.00 | 0.00999 | ... | 0 | 0.0000000 | 0 | 57.46000 | 0.00 | 0.0000000 |  1.990000 | 0.00 | 0.000000 |  1.10001 |\n",
       "| 5206 | 0 | 13.300000 |  0.000000 |  0.0000000 | 0 |  0.0000000 | 0.0000000 | 0.00000000 |  0.00 | 0.00000 | ... | 0 | 0.0000000 | 0 | 68.60000 | 0.00 | 0.0000000 |  0.000000 | 0.00 | 0.000000 |  2.60000 |\n",
       "| 6035 | 0 |  9.500000 |  3.000000 |  0.0000000 | 0 |  0.0000000 | 0.0000000 | 0.00000000 |  0.00 | 0.00000 | ... | 0 | 1.0000000 | 0 | 58.10000 | 0.00 | 0.0000000 |  0.000000 | 0.00 | 2.000000 |  2.40000 |\n",
       "| 2179 | 0 | 10.860000 |  0.000000 |  2.3000000 | 0 | 12.7800000 | 0.0000000 | 0.00000000 | 23.38 | 0.00000 | ... | 0 | 0.0000000 | 0 | 50.17000 | 0.00 | 0.0000000 |  0.000000 | 0.00 | 0.000000 |  0.51000 |\n",
       "| 6790 | 0 | 10.700000 |  0.000000 |  0.0000000 | 0 |  6.5000000 | 0.0000000 | 0.00000000 |  0.00 | 0.00000 | ... | 0 | 0.0000000 | 0 | 65.60000 | 0.00 | 0.0000000 |  0.000000 | 0.00 | 0.300000 |  0.00000 |\n",
       "| 3247 | 0 |  0.500000 |  0.000000 |  0.0000000 | 0 | 11.0000000 | 0.0000000 | 0.00000000 |  0.00 | 0.00000 | ... | 0 | 0.0000000 | 0 | 70.00000 | 0.00 | 0.0000000 |  4.000000 | 0.00 | 3.000000 |  0.00000 |\n",
       "| 4991 | 0 |  5.600000 |  0.000000 | 11.4000000 | 0 |  1.4000000 | 0.0000000 | 0.00000000 |  0.00 | 0.00000 | ... | 0 | 0.0000000 | 0 | 53.80000 | 0.00 | 0.0000000 |  4.300000 | 0.00 | 0.000000 | 10.20000 |\n",
       "| 6484 | 0 |  6.090000 |  5.870000 |  0.0000000 | 0 |  7.1900000 | 0.0000000 | 0.00000000 |  0.00 | 0.00000 | ... | 0 | 0.0000000 | 0 | 64.05000 | 0.03 | 0.2900000 |  0.160000 | 0.00 | 0.000000 |  0.04000 |\n",
       "| 7180 | 0 |  1.926872 |  4.809666 |  0.0559236 | 0 |  0.5206918 | 0.4147065 | 0.00000000 |  0.00 | 0.00000 | ... | 0 | 0.1514831 | 0 | 46.19666 | 0.00 | 0.0795146 |  9.891461 | 0.00 | 0.000000 | 15.31776 |\n",
       "| 3130 | 0 |  0.000000 |  0.000000 |  0.0000000 | 0 |  0.0000000 | 0.0000000 | 0.00000000 |  0.00 | 0.00000 | ... | 0 | 0.0000000 | 0 | 25.06000 | 0.00 | 0.0000000 |  0.000000 | 0.00 | 0.000000 | 67.97000 |\n",
       "| 574 | 0 |  0.000000 |  0.000000 |  0.0000000 | 0 |  0.0000000 | 0.0000000 | 0.00000000 |  0.00 | 0.00000 | ... | 0 | 0.0000000 | 0 | 20.92000 | 0.00 | 0.0000000 |  0.000000 | 0.00 | 0.000000 | 77.76000 |\n",
       "| 3581 | 0 |  0.000000 |  0.000000 |  0.0000000 | 0 | 10.5000000 | 0.0000000 | 0.00000000 |  0.00 | 0.00000 | ... | 0 | 0.0000000 | 0 | 73.50000 | 0.00 | 0.0000000 |  3.000000 | 0.00 | 0.000000 |  0.00000 |\n",
       "| 1356 | 0 | 16.000000 |  2.000000 | 14.0000000 | 0 |  0.0000000 | 0.0000000 | 0.00000000 |  0.00 | 0.00000 | ... | 0 | 0.0000000 | 0 | 54.00000 | 0.00 | 0.0000000 |  0.000000 | 0.00 | 0.000000 |  0.00000 |\n",
       "| 3431 | 0 |  0.000000 | 27.030000 |  0.0000000 | 0 |  0.0000000 | 0.0000000 | 0.00000000 |  0.00 | 0.00000 | ... | 0 | 0.0000000 | 0 | 58.32000 | 0.00 | 0.0000000 |  0.000000 | 0.00 | 0.000000 |  0.02000 |\n",
       "| 1390 | 0 |  0.000000 |  0.000000 | 37.1900000 | 0 | 10.2000000 | 0.0000000 | 0.00000000 |  0.00 | 0.00000 | ... | 0 | 0.0000000 | 0 | 36.44000 | 0.00 | 0.0000000 |  6.280000 | 0.00 | 0.000000 |  9.89000 |\n",
       "| 4512 | 0 |  0.110000 |  1.990000 |  0.0000000 | 0 |  6.4900000 | 0.0000000 | 0.00000000 |  0.00 | 0.00000 | ... | 0 | 0.0000000 | 0 | 64.36000 | 0.00 | 0.0000000 |  0.000000 | 0.00 | 5.080000 |  5.88000 |\n",
       "| 3556 | 0 |  9.670000 |  0.000000 |  0.0000000 | 0 | 24.6400000 | 0.0000000 | 0.00000000 |  7.94 | 0.00000 | ... | 0 | 0.0000000 | 0 | 57.73000 | 0.00 | 0.0000000 |  0.000000 | 0.00 | 0.000000 |  0.02000 |\n",
       "| 228 | 0 |  0.000000 |  0.000000 |  0.0000000 | 0 |  0.0000000 | 0.0000000 | 0.00000000 |  0.00 | 0.00000 | ... | 0 | 0.0000000 | 0 | 33.33000 | 0.00 | 0.0000000 |  0.000000 | 0.00 | 0.000000 | 66.67000 |\n",
       "| 1708 | 0 |  1.500000 |  0.000000 |  0.2000000 | 0 |  7.0000000 | 0.0000000 | 0.00000000 |  0.00 | 0.00000 | ... | 0 | 0.0000000 | 0 | 72.50000 | 0.00 | 0.0000000 |  0.000000 | 0.00 | 0.000000 |  0.00000 |\n",
       "| 7048 | 0 |  4.958186 |  6.940861 |  0.0599297 | 0 |  0.4994144 | 0.0789075 | 0.00998829 |  0.00 | 0.00000 | ... | 0 | 0.4994144 | 0 | 48.58703 | 0.00 | 0.0998829 |  1.487256 | 0.00 | 5.949024 | 12.58151 |\n",
       "| 4969 | 0 |  5.600000 |  0.000000 | 12.8000000 | 0 |  3.4000000 | 0.0000000 | 0.00000000 |  0.00 | 0.00000 | ... | 0 | 0.0000000 | 0 | 55.40000 | 0.00 | 0.2000000 |  5.000000 | 0.00 | 2.000000 |  0.00000 |\n",
       "| 3294 | 0 |  9.900000 |  0.000000 |  0.0000000 | 0 |  4.8000000 | 0.0000000 | 0.00000000 |  0.00 | 0.00000 | ... | 0 | 0.0000000 | 0 | 69.60000 | 0.00 | 0.0000000 |  0.000000 | 0.00 | 0.000000 |  0.00000 |\n",
       "| 487 | 0 |  8.470000 | 16.500000 |  0.0000000 | 0 |  3.1000000 | 0.0300000 | 0.00000000 |  0.00 | 0.00000 | ... | 0 | 0.0000000 | 0 | 48.99000 | 0.00 | 0.0000000 |  0.000000 | 0.00 | 0.700000 |  5.01000 |\n",
       "| 2875 | 0 |  0.000000 |  0.000000 |  0.0000000 | 0 |  0.0000000 | 0.0000000 | 0.00000000 |  0.00 | 0.00000 | ... | 0 | 0.0000000 | 0 | 51.90000 | 0.00 | 0.0000000 |  0.000000 | 0.00 | 0.000000 | 32.81000 |\n",
       "| 6067 | 0 |  0.000000 |  1.990000 |  0.0000000 | 0 |  0.9900000 | 0.0000000 | 0.00000000 |  0.00 | 0.00000 | ... | 0 | 0.0000000 | 0 | 56.48000 | 0.09 | 0.0000000 |  0.000000 | 0.00 | 3.990000 |  0.10000 |\n",
       "| 1145 | 0 |  0.000000 |  0.000000 |  0.0000000 | 0 |  0.0000000 | 0.0000000 | 0.00000000 |  0.00 | 0.00000 | ... | 0 | 0.0000000 | 0 | 61.50000 | 0.00 | 0.0000000 |  0.000000 | 0.00 | 0.000000 | 25.04000 |\n",
       "| 6876 | 0 |  0.000000 | 20.000000 |  0.1790000 | 0 |  8.0000000 | 0.2240000 | 0.26900000 |  0.00 | 0.00000 | ... | 0 | 0.1790000 | 0 | 43.91000 | 0.00 | 0.4930000 |  0.179000 | 0.09 | 8.340000 |  9.26800 |\n",
       "| 6678 | 0 | 17.030000 |  0.000000 |  9.3000000 | 0 |  4.7200000 | 0.0000000 | 0.00000000 |  0.00 | 0.00000 | ... | 0 | 0.0000000 | 0 | 64.33000 | 0.24 | 0.0000000 |  1.400000 | 0.00 | 0.030000 |  0.08000 |\n",
       "| 6437 | 0 |  8.810000 |  0.000000 |  0.0000000 | 0 |  0.0000000 | 0.0000000 | 0.00000000 |  0.00 | 0.00000 | ... | 0 | 0.0000000 | 0 | 69.89000 | 0.00 | 0.0000000 |  0.000000 | 0.00 | 0.000000 |  0.02000 |\n",
       "| ... | ... | ... | ... | ... | ... | ... | ... | ... | ... | ... | <!----> | ... | ... | ... | ... | ... | ... | ... | ... | ... | ... |\n",
       "| 1951 |  0 |  0.000000 |  4.900000 | 21.54000000 |  0.00 |  0.0000000 |  0.00000000 |  0.00000000 |  0.00 |  0 | ... |  0 |  0.0000000 |  0 | 49.80000 |  0.00 |  0.0000000 |  0.00000000 |  0 |  0.00000 | 15.410000 |\n",
       "| 6506 |  0 | 18.360000 |  9.970000 |  0.00000000 |  0.00 |  0.0300000 |  0.00000000 |  0.00000000 |  0.00 |  0 | ... |  0 |  6.1400000 |  0 | 50.46000 |  0.21 |  0.0000000 |  0.00000000 |  0 |  0.00000 |  0.040000 |\n",
       "| 7038 |  0 |  1.983987 |  4.961462 |  0.02989430 |  0.00 |  0.4982388 |  0.01992960 |  0.00996478 |  0.00 |  0 | ... |  0 |  0.4982388 |  0 | 52.58612 |  0.00 |  0.0996478 |  0.00000000 |  0 |  0.00000 | 21.966837 |\n",
       "| 5146 |  0 | 15.000000 |  9.000000 |  0.00000000 |  0.00 | 18.0000000 |  0.00000000 |  0.00000000 |  0.00 |  0 | ... |  0 |  0.0000000 |  0 | 52.00000 |  0.00 |  0.0000000 |  5.00000000 |  0 |  0.00000 |  1.000000 |\n",
       "| 782 |  0 |  1.000000 |  0.000000 |  0.00000000 |  0.00 |  7.0000000 |  0.00000000 |  0.00000000 |  0.00 |  0 | ... |  0 |  0.0000000 |  0 | 75.00000 |  0.00 |  0.0000000 |  0.00000000 |  0 |  0.00000 |  0.000000 |\n",
       "| 5072 |  0 |  1.700000 |  0.000000 |  0.00000000 |  0.00 |  1.8000000 |  0.00000000 |  0.00000000 |  0.00 |  0 | ... |  0 |  0.0000000 |  0 | 66.80000 |  0.00 |  0.0000000 |  1.30000000 |  0 |  2.00000 |  0.000000 |\n",
       "| 3277 |  0 |  1.000000 |  0.000000 |  0.00000000 |  0.00 |  0.0000000 |  0.00000000 |  0.00000000 |  0.00 |  0 | ... |  0 |  0.0000000 |  0 | 78.50000 |  0.00 |  0.0000000 |  0.00000000 |  0 |  0.00000 |  0.000000 |\n",
       "| 6589 |  0 |  1.970000 |  0.000000 |  0.00000000 |  0.00 |  8.4100000 |  0.00000000 |  0.00000000 |  0.00 |  0 | ... |  0 |  0.0000000 |  0 | 71.91000 |  0.00 |  0.0000000 |  0.00000000 |  0 |  0.00000 |  0.010000 |\n",
       "| 4693 |  0 |  1.330000 |  0.000000 |  2.06000000 |  0.00 |  0.0400000 |  0.00000000 |  0.00000000 |  0.00 |  0 | ... |  0 |  0.0000000 |  0 | 59.49000 |  0.00 |  0.0000000 | 10.16000000 |  0 |  3.03000 |  4.630000 |\n",
       "| 3726 |  0 |  8.500000 |  4.400000 |  0.00000000 |  0.00 |  8.1000000 |  0.00000000 |  0.00000000 |  0.00 |  0 | ... |  0 |  0.0000000 |  0 | 55.40000 |  0.00 |  0.0000000 |  3.10000000 |  0 |  3.70000 |  0.000000 |\n",
       "| 4695 |  0 |  1.380000 |  0.000000 |  1.94000000 |  0.00 |  0.0000000 |  0.00000000 |  0.00000000 |  0.00 |  0 | ... |  0 |  0.0000000 |  0 | 69.91000 |  0.00 |  0.0000000 | 10.10000000 |  0 |  0.00000 |  4.630000 |\n",
       "| 6722 |  0 | 17.890000 |  2.070000 |  5.14000000 |  0.00 |  4.9300000 |  0.00000000 |  0.00000000 |  0.00 |  0 | ... |  0 |  0.0000000 |  0 | 63.46000 |  0.26 |  0.0000000 |  3.46000000 |  0 |  0.03000 |  0.100000 |\n",
       "| 12 |  0 |  0.220000 |  0.000000 |  0.00000000 |  0.00 |  0.1500000 |  0.00000000 |  0.00000000 |  0.00 |  0 | ... |  0 |  0.0000000 |  0 | 55.91000 |  0.00 |  0.0000000 |  0.00000000 |  0 |  0.00000 | 31.550000 |\n",
       "| 7175 |  0 |  4.000000 | 12.500000 |  1.13000000 |  0.00 |  0.0000000 |  0.00000000 |  0.20000000 |  0.00 |  0 | ... |  0 |  0.0000000 |  0 | 39.50000 |  0.00 |  0.0000000 |  0.20000000 |  0 | 10.00000 |  9.710000 |\n",
       "| 1814 |  0 |  9.970000 | 10.260000 |  1.99000000 |  0.00 |  2.2900000 |  0.00000000 |  0.00000000 |  0.00 |  0 | ... |  0 |  0.0000000 |  0 | 66.50000 |  0.00 |  0.0000000 |  0.00000000 |  0 |  0.00000 |  2.820000 |\n",
       "| 3599 |  0 | 19.600000 |  0.000000 |  0.00000000 |  0.00 |  0.0000000 |  0.00000000 |  0.00000000 |  0.00 |  0 | ... |  0 |  1.9200000 |  0 | 60.87000 |  0.00 |  0.0000000 |  0.00000000 |  0 |  0.00000 |  0.010000 |\n",
       "| 3399 |  0 | 13.920000 |  0.000000 |  0.00000000 |  2.94 | 28.9900000 |  0.00000000 |  0.00000000 |  8.73 |  0 | ... |  0 |  0.0000000 |  0 | 41.19000 |  0.00 |  0.0000000 |  0.00000000 |  0 |  0.00000 |  1.450000 |\n",
       "| 5160 |  0 | 14.000000 |  9.000000 |  0.00000000 |  0.00 | 15.0000000 |  0.00000000 |  0.00000000 |  0.00 |  0 | ... |  0 |  0.0000000 |  0 | 55.80000 |  0.20 |  0.0000000 |  5.00000000 |  0 |  0.00000 |  1.000000 |\n",
       "| 1553 |  0 | 13.640000 |  2.250000 |  0.00000000 |  0.00 | 16.6000000 |  0.00000000 |  0.00000000 |  0.00 |  0 | ... |  0 |  0.0000000 |  0 | 57.85000 |  0.00 |  0.0000000 |  9.64000000 |  0 |  0.00000 |  0.020000 |\n",
       "| 5098 |  0 | 20.830000 |  0.000000 |  0.00000000 |  0.00 |  0.0000000 |  0.00000000 |  0.00000000 |  0.00 |  0 | ... |  0 |  0.0000000 |  0 | 63.74000 |  0.00 |  0.0000000 |  0.00000000 |  0 |  0.00000 |  0.520000 |\n",
       "| 5194 |  0 |  8.660000 |  3.140000 |  0.00000000 |  0.00 |  0.0000000 |  0.00000000 |  0.00000000 |  0.00 |  0 | ... |  0 |  0.0000000 |  0 | 66.06000 |  0.00 |  0.0000000 |  0.00000000 |  0 |  0.00000 |  8.900000 |\n",
       "| 7169 |  0 |  9.754339 | 11.050234 |  0.06809288 |  0.00 |  0.2517743 |  0.02750285 |  0.06407003 |  0.00 |  0 | ... |  0 |  0.0000000 |  0 | 43.00174 |  0.00 |  0.1347415 |  0.02903782 |  0 |  3.36557 | 15.188103 |\n",
       "| 490 |  0 |  0.000000 |  0.000000 |  0.00000000 |  0.00 |  0.0000000 |  0.00000000 |  0.00000000 |  0.00 |  0 | ... |  0 |  0.0000000 |  0 | 65.67000 |  0.00 |  0.0000000 |  0.00000000 |  0 |  0.00000 |  0.010000 |\n",
       "| 6990 |  0 |  4.000045 | 14.000063 |  0.03000470 |  0.00 |  0.5000015 |  0.01995310 |  0.01000000 |  0.00 |  0 | ... |  0 |  0.5000015 |  0 | 51.73427 |  0.00 |  0.1000003 |  3.25251580 |  0 |  0.00000 | 16.919728 |\n",
       "| 2028 |  0 |  0.000000 |  2.980000 |  0.00000000 |  0.00 |  0.0000000 |  0.00000000 |  0.00000000 |  0.00 |  0 | ... |  0 |  0.0000000 |  0 | 63.56000 |  0.00 |  0.0000000 |  0.00000000 |  0 |  0.00000 | 13.610000 |\n",
       "| 3837 |  0 | 12.300000 |  3.100000 |  5.00000000 |  0.00 |  7.5000000 |  0.00000000 |  0.00000000 |  0.00 |  0 | ... |  0 |  0.0000000 |  0 | 66.10000 |  0.00 |  0.0000000 |  2.30000000 |  0 |  0.10000 |  0.000000 |\n",
       "| 2800 |  0 |  5.430000 | 12.730000 |  0.00000000 |  0.00 |  2.7200000 |  0.00000000 |  0.00000000 |  0.00 |  0 | ... |  0 |  0.0000000 |  0 | 64.26000 |  0.00 |  0.0000000 |  0.00000000 |  0 |  0.00000 |  0.010000 |\n",
       "| 6476 |  0 | 26.400000 |  5.090000 |  0.00000000 |  0.00 |  0.0000000 |  0.00000000 |  0.00000000 |  0.00 |  0 | ... |  0 |  0.0000000 |  0 | 54.03000 |  0.00 |  0.0000000 |  0.00000000 |  0 |  0.00000 |  2.180000 |\n",
       "| 291 | 38 | 38.000000 | 38.000000 | 38.00000000 | 38.00 | 38.0000000 | 38.00000000 | 38.00000000 | 38.00 | 38 | ... | 38 | 38.0000000 | 38 | 38.00000 | 38.00 | 38.0000000 | 38.00000000 | 38 | 38.00000 |  1.026722 |\n",
       "| 292 | 38 | 38.000000 | 38.000000 | 38.00000000 | 38.00 | 38.0000000 | 38.00000000 | 38.00000000 | 38.00 | 38 | ... | 38 | 38.0000000 | 38 | 38.00000 | 38.00 | 38.0000000 | 38.00000000 | 38 | 38.00000 |  1.001066 |\n",
       "\n"
      ],
      "text/plain": [
       "     X__3 X__4      X__8      X__10       X__17 X__18      X__29      \n",
       "1561 0    12.000000  2.000000  0.0000000  0     12.0000000 0.0000000  \n",
       "5446 0    16.980000 10.990000  5.4900000  0      4.9900000 0.0000000  \n",
       "5206 0    13.300000  0.000000  0.0000000  0      0.0000000 0.0000000  \n",
       "6035 0     9.500000  3.000000  0.0000000  0      0.0000000 0.0000000  \n",
       "2179 0    10.860000  0.000000  2.3000000  0     12.7800000 0.0000000  \n",
       "6790 0    10.700000  0.000000  0.0000000  0      6.5000000 0.0000000  \n",
       "3247 0     0.500000  0.000000  0.0000000  0     11.0000000 0.0000000  \n",
       "4991 0     5.600000  0.000000 11.4000000  0      1.4000000 0.0000000  \n",
       "6484 0     6.090000  5.870000  0.0000000  0      7.1900000 0.0000000  \n",
       "7180 0     1.926872  4.809666  0.0559236  0      0.5206918 0.4147065  \n",
       "3130 0     0.000000  0.000000  0.0000000  0      0.0000000 0.0000000  \n",
       "574  0     0.000000  0.000000  0.0000000  0      0.0000000 0.0000000  \n",
       "3581 0     0.000000  0.000000  0.0000000  0     10.5000000 0.0000000  \n",
       "1356 0    16.000000  2.000000 14.0000000  0      0.0000000 0.0000000  \n",
       "3431 0     0.000000 27.030000  0.0000000  0      0.0000000 0.0000000  \n",
       "1390 0     0.000000  0.000000 37.1900000  0     10.2000000 0.0000000  \n",
       "4512 0     0.110000  1.990000  0.0000000  0      6.4900000 0.0000000  \n",
       "3556 0     9.670000  0.000000  0.0000000  0     24.6400000 0.0000000  \n",
       "228  0     0.000000  0.000000  0.0000000  0      0.0000000 0.0000000  \n",
       "1708 0     1.500000  0.000000  0.2000000  0      7.0000000 0.0000000  \n",
       "7048 0     4.958186  6.940861  0.0599297  0      0.4994144 0.0789075  \n",
       "4969 0     5.600000  0.000000 12.8000000  0      3.4000000 0.0000000  \n",
       "3294 0     9.900000  0.000000  0.0000000  0      4.8000000 0.0000000  \n",
       "487  0     8.470000 16.500000  0.0000000  0      3.1000000 0.0300000  \n",
       "2875 0     0.000000  0.000000  0.0000000  0      0.0000000 0.0000000  \n",
       "6067 0     0.000000  1.990000  0.0000000  0      0.9900000 0.0000000  \n",
       "1145 0     0.000000  0.000000  0.0000000  0      0.0000000 0.0000000  \n",
       "6876 0     0.000000 20.000000  0.1790000  0      8.0000000 0.2240000  \n",
       "6678 0    17.030000  0.000000  9.3000000  0      4.7200000 0.0000000  \n",
       "6437 0     8.810000  0.000000  0.0000000  0      0.0000000 0.0000000  \n",
       "...  ...  ...       ...       ...         ...   ...        ...        \n",
       "1951  0    0.000000  4.900000 21.54000000  0.00  0.0000000  0.00000000\n",
       "6506  0   18.360000  9.970000  0.00000000  0.00  0.0300000  0.00000000\n",
       "7038  0    1.983987  4.961462  0.02989430  0.00  0.4982388  0.01992960\n",
       "5146  0   15.000000  9.000000  0.00000000  0.00 18.0000000  0.00000000\n",
       "782   0    1.000000  0.000000  0.00000000  0.00  7.0000000  0.00000000\n",
       "5072  0    1.700000  0.000000  0.00000000  0.00  1.8000000  0.00000000\n",
       "3277  0    1.000000  0.000000  0.00000000  0.00  0.0000000  0.00000000\n",
       "6589  0    1.970000  0.000000  0.00000000  0.00  8.4100000  0.00000000\n",
       "4693  0    1.330000  0.000000  2.06000000  0.00  0.0400000  0.00000000\n",
       "3726  0    8.500000  4.400000  0.00000000  0.00  8.1000000  0.00000000\n",
       "4695  0    1.380000  0.000000  1.94000000  0.00  0.0000000  0.00000000\n",
       "6722  0   17.890000  2.070000  5.14000000  0.00  4.9300000  0.00000000\n",
       "12    0    0.220000  0.000000  0.00000000  0.00  0.1500000  0.00000000\n",
       "7175  0    4.000000 12.500000  1.13000000  0.00  0.0000000  0.00000000\n",
       "1814  0    9.970000 10.260000  1.99000000  0.00  2.2900000  0.00000000\n",
       "3599  0   19.600000  0.000000  0.00000000  0.00  0.0000000  0.00000000\n",
       "3399  0   13.920000  0.000000  0.00000000  2.94 28.9900000  0.00000000\n",
       "5160  0   14.000000  9.000000  0.00000000  0.00 15.0000000  0.00000000\n",
       "1553  0   13.640000  2.250000  0.00000000  0.00 16.6000000  0.00000000\n",
       "5098  0   20.830000  0.000000  0.00000000  0.00  0.0000000  0.00000000\n",
       "5194  0    8.660000  3.140000  0.00000000  0.00  0.0000000  0.00000000\n",
       "7169  0    9.754339 11.050234  0.06809288  0.00  0.2517743  0.02750285\n",
       "490   0    0.000000  0.000000  0.00000000  0.00  0.0000000  0.00000000\n",
       "6990  0    4.000045 14.000063  0.03000470  0.00  0.5000015  0.01995310\n",
       "2028  0    0.000000  2.980000  0.00000000  0.00  0.0000000  0.00000000\n",
       "3837  0   12.300000  3.100000  5.00000000  0.00  7.5000000  0.00000000\n",
       "2800  0    5.430000 12.730000  0.00000000  0.00  2.7200000  0.00000000\n",
       "6476  0   26.400000  5.090000  0.00000000  0.00  0.0000000  0.00000000\n",
       "291  38   38.000000 38.000000 38.00000000 38.00 38.0000000 38.00000000\n",
       "292  38   38.000000 38.000000 38.00000000 38.00 38.0000000 38.00000000\n",
       "     X__30       X__43 X__48   ... X__84 X__86      X__106 X__109   X__113\n",
       "1561 0.00000000   0.00 0.00000 ... 0     0.0000000  0      61.00000 0.00  \n",
       "5446 0.00000000   0.00 0.00999 ... 0     0.0000000  0      57.46000 0.00  \n",
       "5206 0.00000000   0.00 0.00000 ... 0     0.0000000  0      68.60000 0.00  \n",
       "6035 0.00000000   0.00 0.00000 ... 0     1.0000000  0      58.10000 0.00  \n",
       "2179 0.00000000  23.38 0.00000 ... 0     0.0000000  0      50.17000 0.00  \n",
       "6790 0.00000000   0.00 0.00000 ... 0     0.0000000  0      65.60000 0.00  \n",
       "3247 0.00000000   0.00 0.00000 ... 0     0.0000000  0      70.00000 0.00  \n",
       "4991 0.00000000   0.00 0.00000 ... 0     0.0000000  0      53.80000 0.00  \n",
       "6484 0.00000000   0.00 0.00000 ... 0     0.0000000  0      64.05000 0.03  \n",
       "7180 0.00000000   0.00 0.00000 ... 0     0.1514831  0      46.19666 0.00  \n",
       "3130 0.00000000   0.00 0.00000 ... 0     0.0000000  0      25.06000 0.00  \n",
       "574  0.00000000   0.00 0.00000 ... 0     0.0000000  0      20.92000 0.00  \n",
       "3581 0.00000000   0.00 0.00000 ... 0     0.0000000  0      73.50000 0.00  \n",
       "1356 0.00000000   0.00 0.00000 ... 0     0.0000000  0      54.00000 0.00  \n",
       "3431 0.00000000   0.00 0.00000 ... 0     0.0000000  0      58.32000 0.00  \n",
       "1390 0.00000000   0.00 0.00000 ... 0     0.0000000  0      36.44000 0.00  \n",
       "4512 0.00000000   0.00 0.00000 ... 0     0.0000000  0      64.36000 0.00  \n",
       "3556 0.00000000   7.94 0.00000 ... 0     0.0000000  0      57.73000 0.00  \n",
       "228  0.00000000   0.00 0.00000 ... 0     0.0000000  0      33.33000 0.00  \n",
       "1708 0.00000000   0.00 0.00000 ... 0     0.0000000  0      72.50000 0.00  \n",
       "7048 0.00998829   0.00 0.00000 ... 0     0.4994144  0      48.58703 0.00  \n",
       "4969 0.00000000   0.00 0.00000 ... 0     0.0000000  0      55.40000 0.00  \n",
       "3294 0.00000000   0.00 0.00000 ... 0     0.0000000  0      69.60000 0.00  \n",
       "487  0.00000000   0.00 0.00000 ... 0     0.0000000  0      48.99000 0.00  \n",
       "2875 0.00000000   0.00 0.00000 ... 0     0.0000000  0      51.90000 0.00  \n",
       "6067 0.00000000   0.00 0.00000 ... 0     0.0000000  0      56.48000 0.09  \n",
       "1145 0.00000000   0.00 0.00000 ... 0     0.0000000  0      61.50000 0.00  \n",
       "6876 0.26900000   0.00 0.00000 ... 0     0.1790000  0      43.91000 0.00  \n",
       "6678 0.00000000   0.00 0.00000 ... 0     0.0000000  0      64.33000 0.24  \n",
       "6437 0.00000000   0.00 0.00000 ... 0     0.0000000  0      69.89000 0.00  \n",
       "...  ...         ...   ...         ...   ...        ...    ...      ...   \n",
       "1951  0.00000000  0.00  0      ...  0     0.0000000  0     49.80000  0.00 \n",
       "6506  0.00000000  0.00  0      ...  0     6.1400000  0     50.46000  0.21 \n",
       "7038  0.00996478  0.00  0      ...  0     0.4982388  0     52.58612  0.00 \n",
       "5146  0.00000000  0.00  0      ...  0     0.0000000  0     52.00000  0.00 \n",
       "782   0.00000000  0.00  0      ...  0     0.0000000  0     75.00000  0.00 \n",
       "5072  0.00000000  0.00  0      ...  0     0.0000000  0     66.80000  0.00 \n",
       "3277  0.00000000  0.00  0      ...  0     0.0000000  0     78.50000  0.00 \n",
       "6589  0.00000000  0.00  0      ...  0     0.0000000  0     71.91000  0.00 \n",
       "4693  0.00000000  0.00  0      ...  0     0.0000000  0     59.49000  0.00 \n",
       "3726  0.00000000  0.00  0      ...  0     0.0000000  0     55.40000  0.00 \n",
       "4695  0.00000000  0.00  0      ...  0     0.0000000  0     69.91000  0.00 \n",
       "6722  0.00000000  0.00  0      ...  0     0.0000000  0     63.46000  0.26 \n",
       "12    0.00000000  0.00  0      ...  0     0.0000000  0     55.91000  0.00 \n",
       "7175  0.20000000  0.00  0      ...  0     0.0000000  0     39.50000  0.00 \n",
       "1814  0.00000000  0.00  0      ...  0     0.0000000  0     66.50000  0.00 \n",
       "3599  0.00000000  0.00  0      ...  0     1.9200000  0     60.87000  0.00 \n",
       "3399  0.00000000  8.73  0      ...  0     0.0000000  0     41.19000  0.00 \n",
       "5160  0.00000000  0.00  0      ...  0     0.0000000  0     55.80000  0.20 \n",
       "1553  0.00000000  0.00  0      ...  0     0.0000000  0     57.85000  0.00 \n",
       "5098  0.00000000  0.00  0      ...  0     0.0000000  0     63.74000  0.00 \n",
       "5194  0.00000000  0.00  0      ...  0     0.0000000  0     66.06000  0.00 \n",
       "7169  0.06407003  0.00  0      ...  0     0.0000000  0     43.00174  0.00 \n",
       "490   0.00000000  0.00  0      ...  0     0.0000000  0     65.67000  0.00 \n",
       "6990  0.01000000  0.00  0      ...  0     0.5000015  0     51.73427  0.00 \n",
       "2028  0.00000000  0.00  0      ...  0     0.0000000  0     63.56000  0.00 \n",
       "3837  0.00000000  0.00  0      ...  0     0.0000000  0     66.10000  0.00 \n",
       "2800  0.00000000  0.00  0      ...  0     0.0000000  0     64.26000  0.00 \n",
       "6476  0.00000000  0.00  0      ...  0     0.0000000  0     54.03000  0.00 \n",
       "291  38.00000000 38.00 38      ... 38    38.0000000 38     38.00000 38.00 \n",
       "292  38.00000000 38.00 38      ... 38    38.0000000 38     38.00000 38.00 \n",
       "     X__115     X__117      X__133 X__138   autres   \n",
       "1561 0.0000000  10.000000   0.00   0.000000  3.00000 \n",
       "5446 0.0000000   1.990000   0.00   0.000000  1.10001 \n",
       "5206 0.0000000   0.000000   0.00   0.000000  2.60000 \n",
       "6035 0.0000000   0.000000   0.00   2.000000  2.40000 \n",
       "2179 0.0000000   0.000000   0.00   0.000000  0.51000 \n",
       "6790 0.0000000   0.000000   0.00   0.300000  0.00000 \n",
       "3247 0.0000000   4.000000   0.00   3.000000  0.00000 \n",
       "4991 0.0000000   4.300000   0.00   0.000000 10.20000 \n",
       "6484 0.2900000   0.160000   0.00   0.000000  0.04000 \n",
       "7180 0.0795146   9.891461   0.00   0.000000 15.31776 \n",
       "3130 0.0000000   0.000000   0.00   0.000000 67.97000 \n",
       "574  0.0000000   0.000000   0.00   0.000000 77.76000 \n",
       "3581 0.0000000   3.000000   0.00   0.000000  0.00000 \n",
       "1356 0.0000000   0.000000   0.00   0.000000  0.00000 \n",
       "3431 0.0000000   0.000000   0.00   0.000000  0.02000 \n",
       "1390 0.0000000   6.280000   0.00   0.000000  9.89000 \n",
       "4512 0.0000000   0.000000   0.00   5.080000  5.88000 \n",
       "3556 0.0000000   0.000000   0.00   0.000000  0.02000 \n",
       "228  0.0000000   0.000000   0.00   0.000000 66.67000 \n",
       "1708 0.0000000   0.000000   0.00   0.000000  0.00000 \n",
       "7048 0.0998829   1.487256   0.00   5.949024 12.58151 \n",
       "4969 0.2000000   5.000000   0.00   2.000000  0.00000 \n",
       "3294 0.0000000   0.000000   0.00   0.000000  0.00000 \n",
       "487  0.0000000   0.000000   0.00   0.700000  5.01000 \n",
       "2875 0.0000000   0.000000   0.00   0.000000 32.81000 \n",
       "6067 0.0000000   0.000000   0.00   3.990000  0.10000 \n",
       "1145 0.0000000   0.000000   0.00   0.000000 25.04000 \n",
       "6876 0.4930000   0.179000   0.09   8.340000  9.26800 \n",
       "6678 0.0000000   1.400000   0.00   0.030000  0.08000 \n",
       "6437 0.0000000   0.000000   0.00   0.000000  0.02000 \n",
       "...  ...        ...         ...    ...      ...      \n",
       "1951  0.0000000  0.00000000  0      0.00000 15.410000\n",
       "6506  0.0000000  0.00000000  0      0.00000  0.040000\n",
       "7038  0.0996478  0.00000000  0      0.00000 21.966837\n",
       "5146  0.0000000  5.00000000  0      0.00000  1.000000\n",
       "782   0.0000000  0.00000000  0      0.00000  0.000000\n",
       "5072  0.0000000  1.30000000  0      2.00000  0.000000\n",
       "3277  0.0000000  0.00000000  0      0.00000  0.000000\n",
       "6589  0.0000000  0.00000000  0      0.00000  0.010000\n",
       "4693  0.0000000 10.16000000  0      3.03000  4.630000\n",
       "3726  0.0000000  3.10000000  0      3.70000  0.000000\n",
       "4695  0.0000000 10.10000000  0      0.00000  4.630000\n",
       "6722  0.0000000  3.46000000  0      0.03000  0.100000\n",
       "12    0.0000000  0.00000000  0      0.00000 31.550000\n",
       "7175  0.0000000  0.20000000  0     10.00000  9.710000\n",
       "1814  0.0000000  0.00000000  0      0.00000  2.820000\n",
       "3599  0.0000000  0.00000000  0      0.00000  0.010000\n",
       "3399  0.0000000  0.00000000  0      0.00000  1.450000\n",
       "5160  0.0000000  5.00000000  0      0.00000  1.000000\n",
       "1553  0.0000000  9.64000000  0      0.00000  0.020000\n",
       "5098  0.0000000  0.00000000  0      0.00000  0.520000\n",
       "5194  0.0000000  0.00000000  0      0.00000  8.900000\n",
       "7169  0.1347415  0.02903782  0      3.36557 15.188103\n",
       "490   0.0000000  0.00000000  0      0.00000  0.010000\n",
       "6990  0.1000003  3.25251580  0      0.00000 16.919728\n",
       "2028  0.0000000  0.00000000  0      0.00000 13.610000\n",
       "3837  0.0000000  2.30000000  0      0.10000  0.000000\n",
       "2800  0.0000000  0.00000000  0      0.00000  0.010000\n",
       "6476  0.0000000  0.00000000  0      0.00000  2.180000\n",
       "291  38.0000000 38.00000000 38     38.00000  1.026722\n",
       "292  38.0000000 38.00000000 38     38.00000  1.001066"
      ]
     },
     "metadata": {},
     "output_type": "display_data"
    }
   ],
   "source": [
    "X "
   ]
  },
  {
   "cell_type": "code",
   "execution_count": null,
   "id": "9458ed3f",
   "metadata": {
    "vscode": {
     "languageId": "r"
    }
   },
   "outputs": [
    {
     "name": "stdout",
     "output_type": "stream",
     "text": [
      "[1] \"Starting...\"\n"
     ]
    }
   ],
   "source": [
    "# OPTIMISATION TMSE PROCESS\n",
    "\n",
    "# Some parameters\n",
    "d = 29  # data dimension\n",
    "n_init = 10*d   # initial number of data points\n",
    "n_points = nrow(data_lasso) # total number of data points\n",
    "n_adds = 2 # number of additional data points\n",
    "\n",
    "# Initialize randomly data by index\n",
    "index = sample(1:nrow(data_lasso),n_init)\n",
    "X = data_lasso[index, ]\n",
    "\n",
    "print(\"Starting...\")\n",
    "# Loop over additional data points\n",
    "for (i in 1:n_adds){\n",
    "    # Loop over all data points except the data that are already selected\n",
    "    print(i)\n",
    "    argmin = NULL\n",
    "    tmse = new_tmse(x_new = NULL, data = X)\n",
    "    for (k in setdiff(1:n_points, index)){\n",
    "        print(\"Loop at k = \", k)\n",
    "        new_tmse = new_tmse(x_new = data_lasso[k,], data = X, niter = 100)\n",
    "        if (new_tmse < tmse) argmin = k\n",
    "        \n",
    "    }\n",
    "    print(argmin)\n",
    "    X = rbind(X, data_lasso[argmin,])\n",
    "    index = c(index, argmin)\n",
    "}"
   ]
  },
  {
   "cell_type": "code",
   "execution_count": null,
   "id": "893f8db9",
   "metadata": {
    "vscode": {
     "languageId": "r"
    }
   },
   "outputs": [],
   "source": []
  },
  {
   "cell_type": "code",
   "execution_count": null,
   "metadata": {
    "vscode": {
     "languageId": "r"
    }
   },
   "outputs": [
    {
     "name": "stdout",
     "output_type": "stream",
     "text": [
      "[1] \"Starting...\"\n",
      "\n",
      "optimisation start\n",
      "------------------\n",
      "* estimation method   : MLE \n",
      "* optimisation method : BFGS \n",
      "* analytical gradient : used\n",
      "* trend model : ~1\n",
      "* covariance model : \n",
      "  - type :  matern5_2 \n",
      "  - nugget : NO\n",
      "  - parameters lower bounds :  1e-10 1e-10 1e-10 1e-10 1e-10 1e-10 1e-10 1e-10 1e-10 1e-10 1e-10 1e-10 1e-10 1e-10 1e-10 1e-10 1e-10 1e-10 1e-10 1e-10 1e-10 1e-10 1e-10 1e-10 1e-10 1e-10 1e-10 1e-10 1e-10 \n",
      "  - parameters upper bounds :  1.907611e+12 0.0001986403 80.00001 73.56002 90.00014 74.26018 89.48016 15.56011 0.5381778 115.2401 67.98002 1.760002 51.66008 77.48011 39.30007 39.5601 54.60006 0.0001982339 79.50011 0.0001978923 12.08003 4.280067 158.9799 3.4001 1.000123 59.80001 28.00015 19.20201 157.6199 \n",
      "  - best initial criterion value(s) :  -7314.788 \n",
      "\n",
      "N = 29, M = 5 machine precision = 2.22045e-16\n",
      "At X0, 0 variables are exactly at the bounds\n",
      "At iterate     0  f=       7314.8  |proj g|=       2.1492\n",
      "At iterate     1  f =       7106.4  |proj g|=        2.6348\n",
      "At iterate     2  f =       7080.1  |proj g|=        2.1685\n",
      "At iterate     3  f =       7047.4  |proj g|=         1.643\n",
      "At iterate     4  f =       7043.7  |proj g|=        1.5838\n",
      "At iterate     5  f =       7031.1  |proj g|=        1.3601\n",
      "At iterate     6  f =       7011.8  |proj g|=        1.0679\n",
      "At iterate     7  f =       6997.8  |proj g|=       0.88886\n",
      "At iterate     8  f =       6997.2  |proj g|=       0.88192\n",
      "At iterate     9  f =       6982.8  |proj g|=       0.81077\n",
      "At iterate    10  f =         6974  |proj g|=       0.77893\n",
      "At iterate    11  f =       6961.6  |proj g|=       0.72496\n",
      "At iterate    12  f =         6936  |proj g|=       0.57044\n",
      "At iterate    13  f =       6923.2  |proj g|=       0.50325\n",
      "At iterate    14  f =       6912.7  |proj g|=        0.4541\n",
      "At iterate    15  f =       6911.9  |proj g|=       0.45016\n",
      "At iterate    16  f =         6901  |proj g|=       0.37745\n",
      "At iterate    17  f =       6900.4  |proj g|=        0.3154\n",
      "At iterate    18  f =       6894.2  |proj g|=       0.28954\n",
      "At iterate    19  f =       6888.7  |proj g|=       0.26079\n",
      "At iterate    20  f =         6888  |proj g|=       0.25639\n",
      "At iterate    21  f =       6887.6  |proj g|=       0.25315\n",
      "At iterate    22  f =         6883  |proj g|=       0.21897\n",
      "At iterate    23  f =       6879.6  |proj g|=       0.19022\n",
      "At iterate    24  f =       6877.4  |proj g|=       0.17283\n",
      "At iterate    25  f =       6872.2  |proj g|=       0.13436\n",
      "At iterate    26  f =       6867.1  |proj g|=       0.10044\n",
      "At iterate    27  f =       6866.7  |proj g|=      0.092275\n",
      "At iterate    28  f =       6866.5  |proj g|=       0.04178\n",
      "At iterate    29  f =       6866.3  |proj g|=      0.037156\n",
      "At iterate    30  f =       6865.7  |proj g|=      0.018292\n",
      "At iterate    31  f =       6865.7  |proj g|=    3.5751e-11\n",
      "Bad direction in the line search;\n",
      "   refresh the lbfgs memory and restart the iteration.\n",
      "Derivative >= 0, backtracking line search impossible.final  value 6865.679704 \n",
      "stopped after 31 iterations\n"
     ]
    }
   ],
   "source": [
    "# OPTIMISATION TMSE PROCESS\n",
    "\n",
    "# Some parameters\n",
    "d = 29  # data dimension\n",
    "n_init = 10*d   # initial number of data points\n",
    "n_points = nrow(data_lasso) # total number of data points\n",
    "n_adds = 2 # number of additional data points\n",
    "\n",
    "# Initialize randomly data by index\n",
    "index = sample(1:nrow(data_lasso),n_init)\n",
    "X = data_lasso[index, ]\n",
    "\n",
    "print(\"Starting...\")\n",
    "\n",
    "# Loop over additional data points\n",
    "for (i in 1:n_adds){\n",
    "    # Loop over all data points except the data that are already selected\n",
    "    print(i)\n",
    "    argmin = NULL\n",
    "    tmse = new_tmse(x_new = NULL, data = X)\n",
    "    for (k in setdiff(1:n_points, index)){\n",
    "        print(\"Loop at k = \", k)\n",
    "        new_tmse = new_tmse(x_new = data_lasso[k,], data = X, niter = 100)\n",
    "        if (new_tmse < tmse) argmin = k\n",
    "        \n",
    "    }\n",
    "    print(argmin)\n",
    "    X = rbind(X, data_lasso[argmin,])\n",
    "    index = c(index, argmin)\n",
    "}"
   ]
  },
  {
   "cell_type": "code",
   "execution_count": null,
   "id": "1887f197",
   "metadata": {
    "vscode": {
     "languageId": "r"
    }
   },
   "outputs": [
    {
     "name": "stdout",
     "output_type": "stream",
     "text": [
      "[1] 1964788529\n"
     ]
    }
   ],
   "source": [
    "print(tmse)"
   ]
  },
  {
   "cell_type": "markdown",
   "id": "30c9a6f5",
   "metadata": {},
   "source": [
    "## Changement de variables"
   ]
  },
  {
   "cell_type": "markdown",
   "id": "3a18a75b",
   "metadata": {},
   "source": [
    "### En coordonnées sphériques"
   ]
  },
  {
   "cell_type": "code",
   "execution_count": 63,
   "id": "8e382d59",
   "metadata": {
    "vscode": {
     "languageId": "r"
    }
   },
   "outputs": [],
   "source": [
    "library(\"SphericalCubature\")"
   ]
  },
  {
   "cell_type": "code",
   "execution_count": 66,
   "id": "592b00c9",
   "metadata": {
    "vscode": {
     "languageId": "r"
    }
   },
   "outputs": [],
   "source": [
    "polar_AIC = rect2polar(data_AIC)\n",
    "polar_lasso = rect2polar(data_lasso)\n",
    "polar_full = rect2polar(data)"
   ]
  },
  {
   "cell_type": "markdown",
   "id": "72aec23b",
   "metadata": {},
   "source": [
    "### En coordonnées..."
   ]
  },
  {
   "cell_type": "code",
   "execution_count": null,
   "id": "e7b11e25",
   "metadata": {
    "vscode": {
     "languageId": "r"
    }
   },
   "outputs": [],
   "source": [
    "#CHANGEMENT DE VARIABLES POUR UN LIGNE\n",
    "\n",
    "change_line = function(x){\n",
    "    n = length(x)\n",
    "    lambda = numeric(n-1)\n",
    "}"
   ]
  }
 ],
 "metadata": {
  "kernelspec": {
   "display_name": "R",
   "language": "R",
   "name": "ir"
  },
  "language_info": {
   "codemirror_mode": "r",
   "file_extension": ".r",
   "mimetype": "text/x-r-source",
   "name": "R",
   "pygments_lexer": "r",
   "version": "4.0.3"
  }
 },
 "nbformat": 4,
 "nbformat_minor": 5
}
