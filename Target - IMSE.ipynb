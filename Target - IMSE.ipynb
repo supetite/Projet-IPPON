{
 "cells": [
  {
   "cell_type": "markdown",
   "id": "5b423049",
   "metadata": {},
   "source": [
    "## Importation de donnnes"
   ]
  },
  {
   "cell_type": "code",
   "execution_count": 2,
   "id": "b858cac7",
   "metadata": {
    "vscode": {
     "languageId": "r"
    }
   },
   "outputs": [],
   "source": [
    "data<-read.csv(\"data_visco.csv\")\n",
    "data_lasso <- read.csv(\"data_lasso.csv\")\n",
    "data_AIC <- read.csv(\"data_AIC.csv\")\n"
   ]
  },
  {
   "cell_type": "code",
   "execution_count": 3,
   "id": "707fdcdd",
   "metadata": {
    "vscode": {
     "languageId": "r"
    }
   },
   "outputs": [
    {
     "data": {
      "text/html": [
       "<style>\n",
       ".list-inline {list-style: none; margin:0; padding: 0}\n",
       ".list-inline>li {display: inline-block}\n",
       ".list-inline>li:not(:last-child)::after {content: \"\\00b7\"; padding: 0 .5ex}\n",
       "</style>\n",
       "<ol class=list-inline><li>7247</li><li>29</li></ol>\n"
      ],
      "text/latex": [
       "\\begin{enumerate*}\n",
       "\\item 7247\n",
       "\\item 29\n",
       "\\end{enumerate*}\n"
      ],
      "text/markdown": [
       "1. 7247\n",
       "2. 29\n",
       "\n",
       "\n"
      ],
      "text/plain": [
       "[1] 7247   29"
      ]
     },
     "metadata": {},
     "output_type": "display_data"
    },
    {
     "data": {
      "text/html": [
       "<style>\n",
       ".list-inline {list-style: none; margin:0; padding: 0}\n",
       ".list-inline>li {display: inline-block}\n",
       ".list-inline>li:not(:last-child)::after {content: \"\\00b7\"; padding: 0 .5ex}\n",
       "</style>\n",
       "<ol class=list-inline><li>7247</li><li>20</li></ol>\n"
      ],
      "text/latex": [
       "\\begin{enumerate*}\n",
       "\\item 7247\n",
       "\\item 20\n",
       "\\end{enumerate*}\n"
      ],
      "text/markdown": [
       "1. 7247\n",
       "2. 20\n",
       "\n",
       "\n"
      ],
      "text/plain": [
       "[1] 7247   20"
      ]
     },
     "metadata": {},
     "output_type": "display_data"
    }
   ],
   "source": [
    "dim(data_lasso)\n",
    "dim(data_AIC)"
   ]
  },
  {
   "cell_type": "markdown",
   "id": "df75296e",
   "metadata": {},
   "source": [
    "## t-IMSE standard"
   ]
  },
  {
   "cell_type": "code",
   "execution_count": 4,
   "id": "45b213b2",
   "metadata": {
    "vscode": {
     "languageId": "r"
    }
   },
   "outputs": [
    {
     "name": "stderr",
     "output_type": "stream",
     "text": [
      "Le chargement a nécessité le package : DiceKriging\n",
      "\n"
     ]
    }
   ],
   "source": [
    "# Charger la librairie\n",
    "library(\"KrigInv\") #Pour t-IMSE\n",
    "library(\"nloptr\") #Pour la fonction d'optimisation Cobyla"
   ]
  },
  {
   "cell_type": "code",
   "execution_count": 5,
   "id": "7a973b60",
   "metadata": {
    "vscode": {
     "languageId": "r"
    }
   },
   "outputs": [
    {
     "name": "stdout",
     "output_type": "stream",
     "text": [
      "\n",
      "optimisation start\n",
      "------------------\n",
      "* estimation method   : MLE \n",
      "* optimisation method : BFGS \n",
      "* analytical gradient : used\n",
      "* trend model : ~1\n",
      "* covariance model : \n",
      "  - type :  matern5_2 \n",
      "  - nugget : NO\n",
      "  - parameters lower bounds :  1e-10 1e-10 1e-10 1e-10 1e-10 1e-10 1e-10 1e-10 1e-10 1e-10 1e-10 1e-10 1e-10 1e-10 1e-10 1e-10 1e-10 1e-10 1e-10 1e-10 1e-10 1e-10 1e-10 1e-10 1e-10 1e-10 1e-10 1e-10 1e-10 1e-10 1e-10 1e-10 1e-10 1e-10 1e-10 1e-10 1e-10 1e-10 1e-10 1e-10 1e-10 1e-10 1e-10 1e-10 1e-10 1e-10 1e-10 1e-10 1e-10 1e-10 1e-10 1e-10 1e-10 1e-10 1e-10 1e-10 1e-10 1e-10 1e-10 1e-10 1e-10 1e-10 1e-10 1e-10 1e-10 1e-10 1e-10 1e-10 1e-10 1e-10 1e-10 1e-10 1e-10 1e-10 1e-10 1e-10 1e-10 1e-10 1e-10 1e-10 1e-10 1e-10 1e-10 1e-10 1e-10 1e-10 1e-10 1e-10 1e-10 1e-10 1e-10 1e-10 1e-10 1e-10 1e-10 1e-10 1e-10 1e-10 1e-10 1e-10 1e-10 1e-10 1e-10 1e-10 1e-10 1e-10 1e-10 1e-10 1e-10 1e-10 1e-10 1e-10 1e-10 1e-10 1e-10 1e-10 \n",
      "  - parameters upper bounds :  12076 0.78 1.980193e-08 44.86 1.991298e-08 1.991283e-08 1.976798e-08 43.4 1.990815e-08 0.92 1.941115e-08 1.970639e-08 1.959673e-08 1.994878e-08 1.985612e-08 21.2 1.975221e-08 7.3 1.956559e-08 4.88 1.987309e-08 1.14 1.98002e-08 1 1.991413e-08 0.6 1.909673e-08 1.936825e-08 1.931625e-08 1.95881e-08 1.958212e-08 1.942181e-08 6 1.974895e-08 1.972172e-08 25 1.972697e-08 1.989202e-08 1.947093e-08 1.969357e-08 4 0.8 1.965093e-08 1.939251e-08 1.974557e-08 1.95144e-08 24.16 1.969558e-08 1.945213e-08 1.976826e-08 1.978426e-08 1.995586e-08 8 16.82 1.956372e-08 1.993722e-08 3 3 1.981871e-08 11.36 1.934185e-08 1.984131e-08 1.965145e-08 110.54 1.99148e-08 4 1.982687e-08 1 1.972861e-08 1.991799e-08 1.990769e-08 2 1.991476e-08 62.98 1.974612e-08 1.933793e-08 1.976308e-08 1.982523e-08 1.976141e-08 1.979239e-08 1.956883e-08 1.924588e-08 1.2 1.969267e-08 1.932531e-08 1.998772e-08 1.966098e-08 1.985314e-08 1.975059e-08 1.997063e-08 86.38 1.96004e-08 1.985549e-08 1.991353e-08 1.995308e-08 1.991624e-08 0.62 1.971952e-08 1.920502e-08 1.961518e-08 1.992403e-08 1.975006e-08 1.949754e-08 0.08000001 1.969092e-08 1.997841e-08 1.96431e-08 1.925677e-08 1.981292e-08 1.919729e-08 1.956673e-08 1.960839e-08 1.975773e-08 1.888808e-08 7.28 10 \n",
      "  - best initial criterion value(s) :  -987.9143 \n",
      "\n",
      "N = 116, M = 5 machine precision = 2.22045e-16\n",
      "At X0, 0 variables are exactly at the bounds\n",
      "At iterate     0  f=       987.91  |proj g|=   1.8596e-08\n",
      "At iterate     1  f =       986.92  |proj g|=      0.028565\n",
      "At iterate     2  f =       986.92  |proj g|=      0.028565\n",
      "\n",
      "iterations 2\n",
      "function evaluations 11\n",
      "segments explored during Cauchy searches 86\n",
      "BFGS updates skipped 0\n",
      "active bounds at final generalized Cauchy point 0\n",
      "norm of the final projected gradient 0.0285654\n",
      "final function value 986.925\n",
      "\n",
      "F = 986.925\n",
      "final  value 986.924825 \n",
      "converged\n"
     ]
    },
    {
     "data": {
      "text/html": [
       "<style>\n",
       ".list-inline {list-style: none; margin:0; padding: 0}\n",
       ".list-inline>li {display: inline-block}\n",
       ".list-inline>li:not(:last-child)::after {content: \"\\00b7\"; padding: 0 .5ex}\n",
       "</style>\n",
       "<ol class=list-inline><li>361.858560001765</li><li>361.858560001765</li><li>361.858560001765</li><li>361.858560001765</li><li>361.858560001765</li><li>361.858560001765</li><li>361.858560001765</li><li>361.858560001765</li><li>361.858560001765</li><li>361.858560001765</li><li>361.858560001765</li><li>361.858560001765</li><li>361.858560001765</li><li>361.858560001765</li><li>361.858560001765</li><li>361.858560001765</li><li>361.858560001765</li><li>361.858560001765</li><li>361.858560001765</li><li>361.858560001765</li><li>361.858560001765</li><li>361.858560001765</li><li>361.858560001765</li><li>361.858560001765</li><li>361.858560001765</li><li>361.858560001765</li><li>361.858560001765</li><li>361.858560001765</li><li>361.858560001765</li><li>361.858560001765</li><li>361.858560001765</li><li>361.858560001765</li><li>361.858560001765</li><li>361.858560001765</li><li>361.858560001765</li><li>361.858560001765</li><li>361.858560001765</li><li>361.858560001765</li><li>361.858560001765</li><li>361.858560001765</li><li>361.858560001765</li><li>361.858560001765</li><li>361.858560001765</li><li>361.858560001765</li><li>361.858560001765</li><li>361.858560001765</li><li>361.858560001765</li><li>361.858560001765</li><li>361.858560001765</li><li>361.858560001765</li><li>361.858560001765</li><li>361.858560001765</li><li>361.858560001765</li><li>361.858560001765</li><li>361.858560001765</li><li>361.858560001765</li><li>361.858560001765</li><li>361.858560001765</li><li>361.858560001765</li><li>361.858560001765</li></ol>\n"
      ],
      "text/latex": [
       "\\begin{enumerate*}\n",
       "\\item 361.858560001765\n",
       "\\item 361.858560001765\n",
       "\\item 361.858560001765\n",
       "\\item 361.858560001765\n",
       "\\item 361.858560001765\n",
       "\\item 361.858560001765\n",
       "\\item 361.858560001765\n",
       "\\item 361.858560001765\n",
       "\\item 361.858560001765\n",
       "\\item 361.858560001765\n",
       "\\item 361.858560001765\n",
       "\\item 361.858560001765\n",
       "\\item 361.858560001765\n",
       "\\item 361.858560001765\n",
       "\\item 361.858560001765\n",
       "\\item 361.858560001765\n",
       "\\item 361.858560001765\n",
       "\\item 361.858560001765\n",
       "\\item 361.858560001765\n",
       "\\item 361.858560001765\n",
       "\\item 361.858560001765\n",
       "\\item 361.858560001765\n",
       "\\item 361.858560001765\n",
       "\\item 361.858560001765\n",
       "\\item 361.858560001765\n",
       "\\item 361.858560001765\n",
       "\\item 361.858560001765\n",
       "\\item 361.858560001765\n",
       "\\item 361.858560001765\n",
       "\\item 361.858560001765\n",
       "\\item 361.858560001765\n",
       "\\item 361.858560001765\n",
       "\\item 361.858560001765\n",
       "\\item 361.858560001765\n",
       "\\item 361.858560001765\n",
       "\\item 361.858560001765\n",
       "\\item 361.858560001765\n",
       "\\item 361.858560001765\n",
       "\\item 361.858560001765\n",
       "\\item 361.858560001765\n",
       "\\item 361.858560001765\n",
       "\\item 361.858560001765\n",
       "\\item 361.858560001765\n",
       "\\item 361.858560001765\n",
       "\\item 361.858560001765\n",
       "\\item 361.858560001765\n",
       "\\item 361.858560001765\n",
       "\\item 361.858560001765\n",
       "\\item 361.858560001765\n",
       "\\item 361.858560001765\n",
       "\\item 361.858560001765\n",
       "\\item 361.858560001765\n",
       "\\item 361.858560001765\n",
       "\\item 361.858560001765\n",
       "\\item 361.858560001765\n",
       "\\item 361.858560001765\n",
       "\\item 361.858560001765\n",
       "\\item 361.858560001765\n",
       "\\item 361.858560001765\n",
       "\\item 361.858560001765\n",
       "\\end{enumerate*}\n"
      ],
      "text/markdown": [
       "1. 361.858560001765\n",
       "2. 361.858560001765\n",
       "3. 361.858560001765\n",
       "4. 361.858560001765\n",
       "5. 361.858560001765\n",
       "6. 361.858560001765\n",
       "7. 361.858560001765\n",
       "8. 361.858560001765\n",
       "9. 361.858560001765\n",
       "10. 361.858560001765\n",
       "11. 361.858560001765\n",
       "12. 361.858560001765\n",
       "13. 361.858560001765\n",
       "14. 361.858560001765\n",
       "15. 361.858560001765\n",
       "16. 361.858560001765\n",
       "17. 361.858560001765\n",
       "18. 361.858560001765\n",
       "19. 361.858560001765\n",
       "20. 361.858560001765\n",
       "21. 361.858560001765\n",
       "22. 361.858560001765\n",
       "23. 361.858560001765\n",
       "24. 361.858560001765\n",
       "25. 361.858560001765\n",
       "26. 361.858560001765\n",
       "27. 361.858560001765\n",
       "28. 361.858560001765\n",
       "29. 361.858560001765\n",
       "30. 361.858560001765\n",
       "31. 361.858560001765\n",
       "32. 361.858560001765\n",
       "33. 361.858560001765\n",
       "34. 361.858560001765\n",
       "35. 361.858560001765\n",
       "36. 361.858560001765\n",
       "37. 361.858560001765\n",
       "38. 361.858560001765\n",
       "39. 361.858560001765\n",
       "40. 361.858560001765\n",
       "41. 361.858560001765\n",
       "42. 361.858560001765\n",
       "43. 361.858560001765\n",
       "44. 361.858560001765\n",
       "45. 361.858560001765\n",
       "46. 361.858560001765\n",
       "47. 361.858560001765\n",
       "48. 361.858560001765\n",
       "49. 361.858560001765\n",
       "50. 361.858560001765\n",
       "51. 361.858560001765\n",
       "52. 361.858560001765\n",
       "53. 361.858560001765\n",
       "54. 361.858560001765\n",
       "55. 361.858560001765\n",
       "56. 361.858560001765\n",
       "57. 361.858560001765\n",
       "58. 361.858560001765\n",
       "59. 361.858560001765\n",
       "60. 361.858560001765\n",
       "\n",
       "\n"
      ],
      "text/plain": [
       " [1] 361.8586 361.8586 361.8586 361.8586 361.8586 361.8586 361.8586 361.8586\n",
       " [9] 361.8586 361.8586 361.8586 361.8586 361.8586 361.8586 361.8586 361.8586\n",
       "[17] 361.8586 361.8586 361.8586 361.8586 361.8586 361.8586 361.8586 361.8586\n",
       "[25] 361.8586 361.8586 361.8586 361.8586 361.8586 361.8586 361.8586 361.8586\n",
       "[33] 361.8586 361.8586 361.8586 361.8586 361.8586 361.8586 361.8586 361.8586\n",
       "[41] 361.8586 361.8586 361.8586 361.8586 361.8586 361.8586 361.8586 361.8586\n",
       "[49] 361.8586 361.8586 361.8586 361.8586 361.8586 361.8586 361.8586 361.8586\n",
       "[57] 361.8586 361.8586 361.8586 361.8586"
      ]
     },
     "metadata": {},
     "output_type": "display_data"
    }
   ],
   "source": [
    "x = data[1:60,1:116]\n",
    "#x = matrix(sample(5:500, 116*30, replace=TRUE),nrow = 30)\n",
    "data_reduced = data[1:120,1:116]\n",
    "#des = data_reduced[c(-1)]\n",
    "shape = c(dim(data_reduced))\n",
    "noise = matrix(runif(prod(shape),min = 0.00000001,max = 0.00000002), nrow = 120)\n",
    "mod = km(formula = ~1, design = data_reduced + noise, response = data_reduced[1])\n",
    "tmse_optim(x, model = mod, T = 400)"
   ]
  },
  {
   "cell_type": "code",
   "execution_count": 6,
   "id": "2a272a9b",
   "metadata": {
    "vscode": {
     "languageId": "r"
    }
   },
   "outputs": [],
   "source": [
    "fn<-function(x){\n",
    "  tmse_optim(x, model = mod, T = 30)\n",
    "}\n",
    "contr<-function(x){\n",
    "  h<-numeric(2)\n",
    "  h[1]<- 100-2*x #g(x)>=0\n",
    "  h[2]<- x  #-g(x)>=0\n",
    "  return(h)\n",
    "}\n",
    "\n",
    "#cobyla(x[1,1:116],fn,hin=contr)"
   ]
  },
  {
   "cell_type": "markdown",
   "id": "b97b1f3b",
   "metadata": {},
   "source": [
    "## Adaptation t-IMSE à nos contraintes"
   ]
  },
  {
   "cell_type": "markdown",
   "id": "ab395923",
   "metadata": {},
   "source": [
    "Au lieu d'utiliser la fonction **tmse_optim** standard, il nous faut considerer les contraintes du simplex"
   ]
  },
  {
   "cell_type": "code",
   "execution_count": 7,
   "id": "572d2041",
   "metadata": {
    "vscode": {
     "languageId": "r"
    }
   },
   "outputs": [],
   "source": [
    "#simulation de x unifome sur [0,1] et la somme egale à 1\n",
    "simul <- function(d)\n",
    "{\n",
    "  # set.seed(18)\n",
    "  u = runif(n=d-1, min=0,max=1)\n",
    "  #replicate(n=5,u) si on doit tester avec plusieurs vecteurs diff\n",
    "  u = c(0,u,1)\n",
    "  u = sort(u)\n",
    "  x = u[2:(d+1)] - u[1:d]  \n",
    "  return(x)\n",
    "}"
   ]
  },
  {
   "cell_type": "code",
   "execution_count": 8,
   "id": "f494862d",
   "metadata": {
    "vscode": {
     "languageId": "r"
    }
   },
   "outputs": [],
   "source": [
    "g = function (x, model, T, method.param = NULL) \n",
    "{\n",
    "    y <- t(x)\n",
    "    if (ncol(y) == model@d) \n",
    "        z <- y\n",
    "    if (ncol(y) != model@d) \n",
    "        z <- x\n",
    "    krig <- predict_nobias_km(object = model, newdata = as.data.frame(z), \n",
    "        type = \"UK\", se.compute = TRUE)\n",
    "    mk <- krig$mean\n",
    "    sk <- krig$sd\n",
    "    if (is.null(method.param)) \n",
    "        method.param <- 0\n",
    "    epsilon <- method.param\n",
    "    if (length(T) == 1) {\n",
    "        W <- 1/sqrt(2 * pi * (sk^2 + epsilon^2)) * exp(-0.5 * \n",
    "            ((mk - T)/sqrt(sk^2 + epsilon^2))^2)\n",
    "    }\n",
    "    else {\n",
    "        W0 <- 1/sqrt(2 * pi * (sk^2 + epsilon^2))\n",
    "        W <- 0\n",
    "        for (i in 1:length(T)) {\n",
    "            Ti <- T[i]\n",
    "            W <- W + W0 * exp(-0.5 * ((mk - Ti)/sqrt(sk^2 + epsilon^2))^2)\n",
    "        }\n",
    "    }\n",
    "    g <- W * sk^2\n",
    "    return(g)\n",
    "}"
   ]
  },
  {
   "cell_type": "code",
   "execution_count": 9,
   "id": "84de0341",
   "metadata": {
    "vscode": {
     "languageId": "r"
    }
   },
   "outputs": [
    {
     "name": "stdout",
     "output_type": "stream",
     "text": [
      "tmse_optim               package:KrigInv               R Documentation\n",
      "\n",
      "_\bT_\ba_\br_\bg_\be_\bt_\be_\bd _\bM_\bS_\bE _\bc_\br_\bi_\bt_\be_\br_\bi_\bo_\bn\n",
      "\n",
      "_\bD_\be_\bs_\bc_\br_\bi_\bp_\bt_\bi_\bo_\bn:\n",
      "\n",
      "     Evaluation of the Targeted MSE criterion. To be used in\n",
      "     optimization routines, like in ‘max_infill_criterion’\n",
      "\n",
      "_\bU_\bs_\ba_\bg_\be:\n",
      "\n",
      "     tmse_optim(x, model, T, method.param = NULL)\n",
      "     \n",
      "_\bA_\br_\bg_\bu_\bm_\be_\bn_\bt_\bs:\n",
      "\n",
      "       x: Input vector at which one wants to evaluate the criterion.\n",
      "          This argument can be either a vector of size d (for an\n",
      "          evaluation at a single point) or a p*d matrix (for p\n",
      "          simultaneous evaluations of the criterion at p different\n",
      "          points).\n",
      "\n",
      "   model: An object of class ‘km’ (Kriging model).\n",
      "\n",
      "       T: Array containing one or several thresholds.\n",
      "\n",
      "method.param: Scalar tolerance around the targets T.\n",
      "\n",
      "_\bV_\ba_\bl_\bu_\be:\n",
      "\n",
      "     targeted MSE value. When the argument ‘x’ is a vector the function\n",
      "     returns a scalar. When the argument ‘x’ is a p*d matrix the\n",
      "     function returns a vector of size p.\n",
      "\n",
      "_\bA_\bu_\bt_\bh_\bo_\br(_\bs):\n",
      "\n",
      "     Victor Picheny (INRA, Toulouse, France)\n",
      "\n",
      "     David Ginsbourger (IDIAP Martigny and University of Bern,\n",
      "     Switzerland)\n",
      "\n",
      "     Clement Chevalier (University of Neuchatel, Switzerland)\n",
      "\n",
      "_\bR_\be_\bf_\be_\br_\be_\bn_\bc_\be_\bs:\n",
      "\n",
      "     Picheny V., Ginsbourger D., Roustant O., Haftka R.T., (2010)\n",
      "     _Adaptive designs of experiments for accurate approximation of a\n",
      "     target region_, J. Mech. Des. vol. 132(7)\n",
      "\n",
      "     Picheny V. (2009) _Improving accuracy and compensating for\n",
      "     uncertainty in surrogate modeling_, Ph.D. thesis, University of\n",
      "     Florida and Ecole Nationale Superieure des Mines de Saint-Etienne\n",
      "\n",
      "_\bS_\be_\be _\bA_\bl_\bs_\bo:\n",
      "\n",
      "     ‘EGI’, ‘max_infill_criterion’\n",
      "\n",
      "_\bE_\bx_\ba_\bm_\bp_\bl_\be_\bs:\n",
      "\n",
      "     #tmse_optim\n",
      "     \n",
      "     set.seed(9)\n",
      "     N <- 20 #number of observations\n",
      "     T <- c(40,80) #thresholds\n",
      "     testfun <- branin\n",
      "     \n",
      "     #a 20 points initial design\n",
      "     design <- data.frame( matrix(runif(2*N),ncol=2) )\n",
      "     response <- testfun(design)\n",
      "     \n",
      "     #km object with matern3_2 covariance\n",
      "     #params estimated by ML from the observations\n",
      "     model <- km(formula=~., design = design, \n",
      "             response = response,covtype=\"matern3_2\")\n",
      "     \n",
      "     x <- c(0.5,0.4)#one evaluation of the tmse criterion\n",
      "     tmse_optim(x=x,T=T,model=model)\n",
      "     \n",
      "     n.grid <- 20 #you can run it with 100\n",
      "     x.grid <- y.grid <- seq(0,1,length=n.grid)\n",
      "     x <- expand.grid(x.grid, y.grid)\n",
      "     tmse.grid <- tmse_optim(x=x,T=T,model=model)\n",
      "     z.grid <- matrix(tmse.grid, n.grid, n.grid)\n",
      "     \n",
      "     #plots: contour of the criterion, doe points and new point\n",
      "     image(x=x.grid,y=y.grid,z=z.grid,col=grey.colors(10))\n",
      "     contour(x=x.grid,y=y.grid,z=z.grid,25,add=TRUE)\n",
      "     points(design, col=\"black\", pch=17, lwd=4,cex=2)\n",
      "     \n",
      "     i.best <- which.max(tmse.grid)\n",
      "     points(x[i.best,], col=\"blue\", pch=17, lwd=4,cex=3)\n",
      "     \n",
      "     #plots the real (unknown in practice) curve f(x)=T\n",
      "     testfun.grid <- apply(x,1,testfun)\n",
      "     z.grid.2 <- matrix(testfun.grid, n.grid, n.grid)\n",
      "     contour(x.grid,y.grid,z.grid.2,levels=T,col=\"blue\",add=TRUE,lwd=5)\n",
      "     title(\"Contour lines of tmse criterion (black) and of f(x)=T (blue)\")\n",
      "     "
     ]
    }
   ],
   "source": [
    "help(tmse_optim)"
   ]
  },
  {
   "cell_type": "code",
   "execution_count": 10,
   "id": "d85e50ef",
   "metadata": {
    "vscode": {
     "languageId": "r"
    }
   },
   "outputs": [
    {
     "name": "stdout",
     "output_type": "stream",
     "text": [
      "\n",
      "optimisation start\n",
      "------------------\n",
      "* estimation method   : MLE \n",
      "* optimisation method : BFGS \n",
      "* analytical gradient : used\n",
      "* trend model : ~1\n",
      "* covariance model : \n",
      "  - type :  matern5_2 \n",
      "  - nugget : NO\n",
      "  - parameters lower bounds :  1e-10 1e-10 1e-10 1e-10 1e-10 1e-10 1e-10 1e-10 1e-10 1e-10 1e-10 1e-10 1e-10 1e-10 1e-10 1e-10 1e-10 1e-10 1e-10 1e-10 1e-10 1e-10 1e-10 1e-10 1e-10 1e-10 1e-10 1e-10 1e-10 \n",
      "  - parameters upper bounds :  476715169234 0.0001986321 44.86013 149.54 0.9201923 0.0001992104 22.92008 0.6001918 0.0001994919 0.0001995679 0.0001997994 0.08008101 105.1 0.0001965706 57.84002 16.82003 3.000009 0.0001991693 110.7201 0.0001981544 2.000198 0.0001990489 141.5999 0.0001981993 0.6201964 0.0001972447 0.0001987072 10.00017 157.62 \n",
      "  - best initial criterion value(s) :  -7129.772 \n",
      "\n",
      "N = 29, M = 5 machine precision = 2.22045e-16\n",
      "At X0, 0 variables are exactly at the bounds\n",
      "At iterate     0  f=       7129.8  |proj g|=        4.131\n",
      "At iterate     1  f =       6918.1  |proj g|=        1.5419\n",
      "At iterate     2  f =       6915.1  |proj g|=        1.1045\n",
      "At iterate     3  f =       6910.2  |proj g|=        1.0882\n",
      "At iterate     4  f =       6906.8  |proj g|=        1.0633\n",
      "At iterate     5  f =       6906.5  |proj g|=        1.0602\n",
      "At iterate     6  f =       6901.9  |proj g|=        1.0038\n",
      "At iterate     7  f =       6900.3  |proj g|=       0.98081\n",
      "At iterate     8  f =       6894.2  |proj g|=       0.88351\n",
      "At iterate     9  f =       6883.1  |proj g|=        0.7161\n",
      "At iterate    10  f =       6878.1  |proj g|=       0.62356\n",
      "At iterate    11  f =       6850.8  |proj g|=       0.28709\n",
      "At iterate    12  f =       6840.7  |proj g|=        0.2372\n",
      "At iterate    13  f =       6837.8  |proj g|=       0.22222\n",
      "At iterate    14  f =       6837.5  |proj g|=       0.21998\n",
      "At iterate    15  f =       6837.1  |proj g|=       0.21561\n",
      "At iterate    16  f =       6835.2  |proj g|=       0.19012\n",
      "At iterate    17  f =       6824.3  |proj g|=       0.07824\n",
      "At iterate    18  f =       6824.2  |proj g|=      0.072012\n",
      "At iterate    19  f =       6822.9  |proj g|=      0.061623\n",
      "At iterate    20  f =       6819.9  |proj g|=      0.037858\n",
      "At iterate    21  f =       6819.4  |proj g|=    1.0215e-11\n",
      "Bad direction in the line search;\n",
      "   refresh the lbfgs memory and restart the iteration.\n",
      "Derivative >= 0, backtracking line search impossible.final  value 6819.402277 \n",
      "stopped after 21 iterations\n"
     ]
    },
    {
     "data": {
      "text/html": [
       "<style>\n",
       ".list-inline {list-style: none; margin:0; padding: 0}\n",
       ".list-inline>li {display: inline-block}\n",
       ".list-inline>li:not(:last-child)::after {content: \"\\00b7\"; padding: 0 .5ex}\n",
       "</style>\n",
       "<ol class=list-inline><li>633884379.261345</li><li>633691380.498399</li><li>635185982.297235</li><li>621515150.057865</li><li>633719293.882425</li><li>633814253.572946</li><li>633707172.010902</li><li>633539577.805482</li><li>627414781.152236</li><li>634123992.646097</li><li>633562407.252724</li><li>634633169.078819</li><li>636067127.847305</li><li>620614036.168736</li><li>615181685.111607</li><li>632537871.473408</li><li>629452705.160089</li><li>634737625.69096</li><li>634862118.605412</li><li>631580529.262829</li><li>631580529.262829</li><li>630730081.949935</li><li>630730081.949935</li><li>630278450.874497</li><li>631378946.394241</li><li>630745669.153293</li><li>631019218.859704</li><li>631689676.880786</li><li>631144338.548373</li><li>630944834.804387</li><li>630944834.804387</li><li>632685334.936129</li><li>602779436.01749</li><li>613780548.713308</li><li>604982717.806803</li><li>599400896.788614</li><li>611526942.905426</li><li>608001154.303788</li><li>614436288.032571</li><li>606195155.348366</li><li>620673747.395904</li><li>605763242.176613</li><li>620989671.816535</li><li>619124793.735365</li><li>616569199.434978</li><li>630745669.139585</li><li>630018305.489552</li><li>631185911.99035</li><li>630934048.098091</li><li>630934048.098352</li></ol>\n"
      ],
      "text/latex": [
       "\\begin{enumerate*}\n",
       "\\item 633884379.261345\n",
       "\\item 633691380.498399\n",
       "\\item 635185982.297235\n",
       "\\item 621515150.057865\n",
       "\\item 633719293.882425\n",
       "\\item 633814253.572946\n",
       "\\item 633707172.010902\n",
       "\\item 633539577.805482\n",
       "\\item 627414781.152236\n",
       "\\item 634123992.646097\n",
       "\\item 633562407.252724\n",
       "\\item 634633169.078819\n",
       "\\item 636067127.847305\n",
       "\\item 620614036.168736\n",
       "\\item 615181685.111607\n",
       "\\item 632537871.473408\n",
       "\\item 629452705.160089\n",
       "\\item 634737625.69096\n",
       "\\item 634862118.605412\n",
       "\\item 631580529.262829\n",
       "\\item 631580529.262829\n",
       "\\item 630730081.949935\n",
       "\\item 630730081.949935\n",
       "\\item 630278450.874497\n",
       "\\item 631378946.394241\n",
       "\\item 630745669.153293\n",
       "\\item 631019218.859704\n",
       "\\item 631689676.880786\n",
       "\\item 631144338.548373\n",
       "\\item 630944834.804387\n",
       "\\item 630944834.804387\n",
       "\\item 632685334.936129\n",
       "\\item 602779436.01749\n",
       "\\item 613780548.713308\n",
       "\\item 604982717.806803\n",
       "\\item 599400896.788614\n",
       "\\item 611526942.905426\n",
       "\\item 608001154.303788\n",
       "\\item 614436288.032571\n",
       "\\item 606195155.348366\n",
       "\\item 620673747.395904\n",
       "\\item 605763242.176613\n",
       "\\item 620989671.816535\n",
       "\\item 619124793.735365\n",
       "\\item 616569199.434978\n",
       "\\item 630745669.139585\n",
       "\\item 630018305.489552\n",
       "\\item 631185911.99035\n",
       "\\item 630934048.098091\n",
       "\\item 630934048.098352\n",
       "\\end{enumerate*}\n"
      ],
      "text/markdown": [
       "1. 633884379.261345\n",
       "2. 633691380.498399\n",
       "3. 635185982.297235\n",
       "4. 621515150.057865\n",
       "5. 633719293.882425\n",
       "6. 633814253.572946\n",
       "7. 633707172.010902\n",
       "8. 633539577.805482\n",
       "9. 627414781.152236\n",
       "10. 634123992.646097\n",
       "11. 633562407.252724\n",
       "12. 634633169.078819\n",
       "13. 636067127.847305\n",
       "14. 620614036.168736\n",
       "15. 615181685.111607\n",
       "16. 632537871.473408\n",
       "17. 629452705.160089\n",
       "18. 634737625.69096\n",
       "19. 634862118.605412\n",
       "20. 631580529.262829\n",
       "21. 631580529.262829\n",
       "22. 630730081.949935\n",
       "23. 630730081.949935\n",
       "24. 630278450.874497\n",
       "25. 631378946.394241\n",
       "26. 630745669.153293\n",
       "27. 631019218.859704\n",
       "28. 631689676.880786\n",
       "29. 631144338.548373\n",
       "30. 630944834.804387\n",
       "31. 630944834.804387\n",
       "32. 632685334.936129\n",
       "33. 602779436.01749\n",
       "34. 613780548.713308\n",
       "35. 604982717.806803\n",
       "36. 599400896.788614\n",
       "37. 611526942.905426\n",
       "38. 608001154.303788\n",
       "39. 614436288.032571\n",
       "40. 606195155.348366\n",
       "41. 620673747.395904\n",
       "42. 605763242.176613\n",
       "43. 620989671.816535\n",
       "44. 619124793.735365\n",
       "45. 616569199.434978\n",
       "46. 630745669.139585\n",
       "47. 630018305.489552\n",
       "48. 631185911.99035\n",
       "49. 630934048.098091\n",
       "50. 630934048.098352\n",
       "\n",
       "\n"
      ],
      "text/plain": [
       " [1] 633884379 633691380 635185982 621515150 633719294 633814254 633707172\n",
       " [8] 633539578 627414781 634123993 633562407 634633169 636067128 620614036\n",
       "[15] 615181685 632537871 629452705 634737626 634862119 631580529 631580529\n",
       "[22] 630730082 630730082 630278451 631378946 630745669 631019219 631689677\n",
       "[29] 631144339 630944835 630944835 632685335 602779436 613780549 604982718\n",
       "[36] 599400897 611526943 608001154 614436288 606195155 620673747 605763242\n",
       "[43] 620989672 619124794 616569199 630745669 630018305 631185912 630934048\n",
       "[50] 630934048"
      ]
     },
     "metadata": {},
     "output_type": "display_data"
    }
   ],
   "source": [
    "d = 29\n",
    "N = 10*d\n",
    "s = 0\n",
    "data_Lasso_reduced = data_lasso[1:N,]\n",
    "shape = c(dim(data_Lasso_reduced))\n",
    "noise = matrix(runif(prod(shape),min = 0.0001,max = 0.0002), nrow = N)\n",
    "mod = km(formula = ~1, design = data_Lasso_reduced+noise, response = data_Lasso_reduced$vis)\n",
    "x = data_Lasso_reduced[1:50,]\n",
    "tmse_optim(x, model = mod, T = 400)\n"
   ]
  },
  {
   "cell_type": "code",
   "execution_count": 11,
   "id": "3bf543cf",
   "metadata": {
    "vscode": {
     "languageId": "r"
    }
   },
   "outputs": [],
   "source": [
    "tmse <- function(d,mod, T)\n",
    "{\n",
    "    s = 0\n",
    "    for(i in 1:1000){\n",
    "    x = simul(d) \n",
    "    s = s + g(x, model = mod,T)\n",
    "    }\n",
    "    tmse = s/1000\n",
    "    return(tmse)\n",
    "}\n",
    "    "
   ]
  },
  {
   "cell_type": "code",
   "execution_count": 12,
   "id": "ec41281d",
   "metadata": {
    "vscode": {
     "languageId": "r"
    }
   },
   "outputs": [
    {
     "name": "stdout",
     "output_type": "stream",
     "text": [
      "[1] 544921365\n"
     ]
    }
   ],
   "source": [
    "print(tmse(d,mod,T=400))"
   ]
  },
  {
   "cell_type": "code",
   "execution_count": 13,
   "id": "4af4bf08",
   "metadata": {
    "vscode": {
     "languageId": "r"
    }
   },
   "outputs": [
    {
     "name": "stdout",
     "output_type": "stream",
     "text": [
      "\n",
      "optimisation start\n",
      "------------------\n",
      "* estimation method   : MLE \n",
      "* optimisation method : BFGS \n",
      "* analytical gradient : used\n",
      "* trend model : ~1\n",
      "* covariance model : \n",
      "  - type :  matern5_2 \n",
      "  - nugget : NO\n",
      "  - parameters lower bounds :  1e-10 1e-10 1e-10 1e-10 1e-10 1e-10 1e-10 1e-10 1e-10 1e-10 1e-10 1e-10 1e-10 1e-10 1e-10 1e-10 1e-10 1e-10 1e-10 1e-10 1e-10 1e-10 1e-10 1e-10 1e-10 1e-10 1e-10 1e-10 1e-10 \n",
      "  - parameters upper bounds :  476715169234 0.0001989291 44.86019 149.5401 0.9201948 0.0001983654 22.92013 0.6001685 0.0001999801 0.0001993255 0.0001986367 0.08002562 105.1002 0.0001963732 57.8401 16.82002 3.000007 0.0001983948 110.7201 0.000198544 2.000194 0.0001973981 141.5998 0.0001953732 0.6201676 0.0001981253 0.00019705 10.00017 157.62 \n",
      "  - best initial criterion value(s) :  -7138.348 \n",
      "\n",
      "N = 29, M = 5 machine precision = 2.22045e-16\n",
      "At X0, 0 variables are exactly at the bounds\n",
      "At iterate     0  f=       7138.3  |proj g|=       1.5717\n",
      "At iterate     1  f =       6937.6  |proj g|=        3.6488\n",
      "At iterate     2  f =       6936.3  |proj g|=        3.3614\n",
      "At iterate     3  f =       6935.6  |proj g|=         3.182\n",
      "At iterate     4  f =       6933.5  |proj g|=         2.687\n",
      "At iterate     5  f =       6923.8  |proj g|=         1.589\n",
      "At iterate     6  f =       6916.7  |proj g|=         1.468\n",
      "At iterate     7  f =       6904.1  |proj g|=        1.1445\n",
      "At iterate     8  f =       6903.4  |proj g|=        1.1259\n",
      "At iterate     9  f =         6899  |proj g|=       0.99761\n",
      "At iterate    10  f =       6893.9  |proj g|=        0.8527\n",
      "At iterate    11  f =       6889.1  |proj g|=       0.70892\n",
      "At iterate    12  f =       6886.3  |proj g|=       0.61704\n",
      "At iterate    13  f =       6883.6  |proj g|=       0.53144\n",
      "At iterate    14  f =       6880.7  |proj g|=       0.45699\n",
      "At iterate    15  f =       6880.1  |proj g|=       0.44051\n",
      "At iterate    16  f =       6876.6  |proj g|=       0.35276\n",
      "At iterate    17  f =       6867.3  |proj g|=       0.20439\n",
      "At iterate    18  f =       6861.4  |proj g|=       0.17859\n",
      "At iterate    19  f =       6861.1  |proj g|=       0.17719\n",
      "At iterate    20  f =       6857.9  |proj g|=       0.15912\n",
      "At iterate    21  f =       6855.7  |proj g|=       0.13038\n",
      "At iterate    22  f =         6852  |proj g|=       0.10174\n",
      "At iterate    23  f =       6849.2  |proj g|=      0.080025\n",
      "At iterate    24  f =       6848.2  |proj g|=      0.070659\n",
      "At iterate    25  f =         6848  |proj g|=       0.06132\n",
      "At iterate    26  f =       6847.6  |proj g|=       0.05439\n",
      "At iterate    27  f =       6845.8  |proj g|=    4.9719e-10\n",
      "Bad direction in the line search;\n",
      "   refresh the lbfgs memory and restart the iteration.\n",
      "Derivative >= 0, backtracking line search impossible.final  value 6845.755725 \n",
      "stopped after 27 iterations\n"
     ]
    }
   ],
   "source": [
    "x = data_Lasso_reduced[1:50,]\n",
    "shape = c(dim(data_reduced))\n",
    "noise = matrix(runif(prod(shape),min = 0.0001,max = 0.0002), nrow = 120)\n",
    "mod = km(formula = ~1, design = data_Lasso_reduced + noise, response = data_Lasso_reduced[1])\n",
    "\n"
   ]
  },
  {
   "cell_type": "code",
   "execution_count": 14,
   "id": "4de1f741",
   "metadata": {
    "vscode": {
     "languageId": "r"
    }
   },
   "outputs": [],
   "source": [
    "new_tmse = function(x_new){\n",
    "    \n",
    "    \n",
    "    \n",
    "}"
   ]
  },
  {
   "cell_type": "code",
   "execution_count": 16,
   "id": "bbcdbdd2",
   "metadata": {
    "vscode": {
     "languageId": "r"
    }
   },
   "outputs": [],
   "source": [
    "# X = data_Lasso_reduced\n",
    "# nrow = nrow(X)\n",
    "# for (i in 1:10){\n",
    "#     # Loop for individual search\n",
    "#     noise = matrix(runif(prod(dim(X)),min = 0.0001,max = 0.0002), nrow = nrow)\n",
    "#     mod = km(formula = ~1, design = X + noise, response = X[1])\n",
    "#     x_new = cobyla()\n",
    "    \n",
    "# }"
   ]
  },
  {
   "cell_type": "code",
   "execution_count": 21,
   "id": "f708bba2",
   "metadata": {
    "vscode": {
     "languageId": "r"
    }
   },
   "outputs": [],
   "source": [
    "new_tmse = function(x_new, data, d = 29, niter = 1000){\n",
    "    # d: dimension, d = 29\n",
    "    s = 0\n",
    "    data_new = data.frame(data)\n",
    "    data_new = rbind(data, x_new)\n",
    "    noise = matrix(runif(prod(dim(data_new)),min = 0.0001,max = 0.0002), nrow = nrow(data_new))\n",
    "    mod = km(formula = ~1, design = data_new + noise, response = data_new[1])\n",
    "    \n",
    "    for(i in 1:niter){\n",
    "    x = simul(d)\n",
    "    s = s + g(x, model = mod, T = 400)\n",
    "    }\n",
    "    tmse = s/niter\n",
    "    return(tmse)    \n",
    "}"
   ]
  },
  {
   "cell_type": "code",
   "execution_count": 19,
   "id": "9458ed3f",
   "metadata": {
    "vscode": {
     "languageId": "r"
    }
   },
   "outputs": [
    {
     "name": "stdout",
     "output_type": "stream",
     "text": [
      "[1] \"Starting...\"\n"
     ]
    }
   ],
   "source": [
    "# OPTIMISATION TMSE PROCESS\n",
    "\n",
    "# Some parameters\n",
    "d = 29  # data dimension\n",
    "n_init = 10*d   # initial number of data points\n",
    "n_points = nrow(data_lasso) # total number of data points\n",
    "n_adds = 2 # number of additional data points\n",
    "\n",
    "# Initialize randomly data by index\n",
    "index = sample(1:nrow(data_lasso),n_init)\n",
    "X = data_lasso[index, ]\n",
    "\n",
    "print(\"Starting...\")\n",
    "# Loop over additional data points\n",
    "for (i in 1:n_adds){\n",
    "    # Loop over all data points except the data that are already selected\n",
    "    print(i)\n",
    "    argmin = NULL\n",
    "    tmse = new_tmse(x_new = NULL, data = X)\n",
    "    for (k in setdiff(1:n_points, index)){\n",
    "        print(\"Loop at k = \", k)\n",
    "        new_tmse = new_tmse(x_new = data_lasso[k,], data = X, niter = 100)\n",
    "        if (new_tmse < tmse) argmin = k\n",
    "        \n",
    "    }\n",
    "    print(argmin)\n",
    "    X = rbind(X, data_lasso[argmin,])\n",
    "    index = c(index, argmin)\n",
    "}"
   ]
  },
  {
   "cell_type": "code",
   "execution_count": 22,
   "metadata": {
    "vscode": {
     "languageId": "r"
    }
   },
   "outputs": [
    {
     "name": "stdout",
     "output_type": "stream",
     "text": [
      "[1] \"Starting...\"\n",
      "\n",
      "optimisation start\n",
      "------------------\n",
      "* estimation method   : MLE \n",
      "* optimisation method : BFGS \n",
      "* analytical gradient : used\n",
      "* trend model : ~1\n",
      "* covariance model : \n",
      "  - type :  matern5_2 \n",
      "  - nugget : NO\n",
      "  - parameters lower bounds :  1e-10 1e-10 1e-10 1e-10 1e-10 1e-10 1e-10 1e-10 1e-10 1e-10 1e-10 1e-10 1e-10 1e-10 1e-10 1e-10 1e-10 1e-10 1e-10 1e-10 1e-10 1e-10 1e-10 1e-10 1e-10 1e-10 1e-10 1e-10 1e-10 \n",
      "  - parameters upper bounds :  1.907611e+12 0.0001986403 80.00001 73.56002 90.00014 74.26018 89.48016 15.56011 0.5381778 115.2401 67.98002 1.760002 51.66008 77.48011 39.30007 39.5601 54.60006 0.0001982339 79.50011 0.0001978923 12.08003 4.280067 158.9799 3.4001 1.000123 59.80001 28.00015 19.20201 157.6199 \n",
      "  - best initial criterion value(s) :  -7314.788 \n",
      "\n",
      "N = 29, M = 5 machine precision = 2.22045e-16\n",
      "At X0, 0 variables are exactly at the bounds\n",
      "At iterate     0  f=       7314.8  |proj g|=       2.1492\n",
      "At iterate     1  f =       7106.4  |proj g|=        2.6348\n",
      "At iterate     2  f =       7080.1  |proj g|=        2.1685\n",
      "At iterate     3  f =       7047.4  |proj g|=         1.643\n",
      "At iterate     4  f =       7043.7  |proj g|=        1.5838\n",
      "At iterate     5  f =       7031.1  |proj g|=        1.3601\n",
      "At iterate     6  f =       7011.8  |proj g|=        1.0679\n",
      "At iterate     7  f =       6997.8  |proj g|=       0.88886\n",
      "At iterate     8  f =       6997.2  |proj g|=       0.88192\n",
      "At iterate     9  f =       6982.8  |proj g|=       0.81077\n",
      "At iterate    10  f =         6974  |proj g|=       0.77893\n",
      "At iterate    11  f =       6961.6  |proj g|=       0.72496\n",
      "At iterate    12  f =         6936  |proj g|=       0.57044\n",
      "At iterate    13  f =       6923.2  |proj g|=       0.50325\n",
      "At iterate    14  f =       6912.7  |proj g|=        0.4541\n",
      "At iterate    15  f =       6911.9  |proj g|=       0.45016\n",
      "At iterate    16  f =         6901  |proj g|=       0.37745\n",
      "At iterate    17  f =       6900.4  |proj g|=        0.3154\n",
      "At iterate    18  f =       6894.2  |proj g|=       0.28954\n",
      "At iterate    19  f =       6888.7  |proj g|=       0.26079\n",
      "At iterate    20  f =         6888  |proj g|=       0.25639\n",
      "At iterate    21  f =       6887.6  |proj g|=       0.25315\n",
      "At iterate    22  f =         6883  |proj g|=       0.21897\n",
      "At iterate    23  f =       6879.6  |proj g|=       0.19022\n",
      "At iterate    24  f =       6877.4  |proj g|=       0.17283\n",
      "At iterate    25  f =       6872.2  |proj g|=       0.13436\n",
      "At iterate    26  f =       6867.1  |proj g|=       0.10044\n",
      "At iterate    27  f =       6866.7  |proj g|=      0.092275\n",
      "At iterate    28  f =       6866.5  |proj g|=       0.04178\n",
      "At iterate    29  f =       6866.3  |proj g|=      0.037156\n",
      "At iterate    30  f =       6865.7  |proj g|=      0.018292\n",
      "At iterate    31  f =       6865.7  |proj g|=    3.5751e-11\n",
      "Bad direction in the line search;\n",
      "   refresh the lbfgs memory and restart the iteration.\n",
      "Derivative >= 0, backtracking line search impossible.final  value 6865.679704 \n",
      "stopped after 31 iterations\n"
     ]
    }
   ],
   "source": [
    "# OPTIMISATION TMSE PROCESS\n",
    "\n",
    "# Some parameters\n",
    "d = 29  # data dimension\n",
    "n_init = 10*d   # initial number of data points\n",
    "n_points = nrow(data_lasso) # total number of data points\n",
    "n_adds = 2 # number of additional data points\n",
    "\n",
    "# Initialize randomly data by index\n",
    "index = sample(1:nrow(data_lasso),n_init)\n",
    "X = data_lasso[index, ]\n",
    "\n",
    "print(\"Starting...\")\n",
    "\n",
    "argmin = NULL\n",
    "tmse = new_tmse(x_new = NULL, data = X)"
   ]
  },
  {
   "cell_type": "code",
   "execution_count": 23,
   "id": "1887f197",
   "metadata": {
    "vscode": {
     "languageId": "r"
    }
   },
   "outputs": [
    {
     "name": "stdout",
     "output_type": "stream",
     "text": [
      "[1] 1964788529\n"
     ]
    }
   ],
   "source": [
    "print(tmse)"
   ]
  }
 ],
 "metadata": {
  "kernelspec": {
   "display_name": "R",
   "language": "R",
   "name": "ir"
  },
  "language_info": {
   "codemirror_mode": "r",
   "file_extension": ".r",
   "mimetype": "text/x-r-source",
   "name": "R",
   "pygments_lexer": "r",
   "version": "4.1.3"
  }
 },
 "nbformat": 4,
 "nbformat_minor": 5
}
