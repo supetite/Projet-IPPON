{
 "cells": [
  {
   "cell_type": "markdown",
   "id": "5b423049",
   "metadata": {},
   "source": [
    "## Importation de donnnes"
   ]
  },
  {
   "cell_type": "code",
   "execution_count": 1,
   "id": "b858cac7",
   "metadata": {},
   "outputs": [],
   "source": [
    "data<-read.csv(\"data_visco.csv\")\n",
    "data_lasso <- read.csv(\"data_lasso.csv\")\n",
    "data_AIC <- read.csv(\"data_AIC.csv\")\n"
   ]
  },
  {
   "cell_type": "code",
   "execution_count": 2,
   "id": "707fdcdd",
   "metadata": {},
   "outputs": [
    {
     "data": {
      "text/html": [
       "<style>\n",
       ".list-inline {list-style: none; margin:0; padding: 0}\n",
       ".list-inline>li {display: inline-block}\n",
       ".list-inline>li:not(:last-child)::after {content: \"\\00b7\"; padding: 0 .5ex}\n",
       "</style>\n",
       "<ol class=list-inline><li>7247</li><li>29</li></ol>\n"
      ],
      "text/latex": [
       "\\begin{enumerate*}\n",
       "\\item 7247\n",
       "\\item 29\n",
       "\\end{enumerate*}\n"
      ],
      "text/markdown": [
       "1. 7247\n",
       "2. 29\n",
       "\n",
       "\n"
      ],
      "text/plain": [
       "[1] 7247   29"
      ]
     },
     "metadata": {},
     "output_type": "display_data"
    },
    {
     "data": {
      "text/html": [
       "<style>\n",
       ".list-inline {list-style: none; margin:0; padding: 0}\n",
       ".list-inline>li {display: inline-block}\n",
       ".list-inline>li:not(:last-child)::after {content: \"\\00b7\"; padding: 0 .5ex}\n",
       "</style>\n",
       "<ol class=list-inline><li>7247</li><li>20</li></ol>\n"
      ],
      "text/latex": [
       "\\begin{enumerate*}\n",
       "\\item 7247\n",
       "\\item 20\n",
       "\\end{enumerate*}\n"
      ],
      "text/markdown": [
       "1. 7247\n",
       "2. 20\n",
       "\n",
       "\n"
      ],
      "text/plain": [
       "[1] 7247   20"
      ]
     },
     "metadata": {},
     "output_type": "display_data"
    }
   ],
   "source": [
    "dim(data_lasso)\n",
    "dim(data_AIC)"
   ]
  },
  {
   "cell_type": "markdown",
   "id": "df75296e",
   "metadata": {},
   "source": [
    "## t-IMSE standard"
   ]
  },
  {
   "cell_type": "code",
   "execution_count": 3,
   "id": "45b213b2",
   "metadata": {},
   "outputs": [
    {
     "name": "stderr",
     "output_type": "stream",
     "text": [
      "Le chargement a nécessité le package : DiceKriging\n",
      "\n"
     ]
    }
   ],
   "source": [
    "# Charger la librairie\n",
    "library(\"KrigInv\") #Pour t-IMSE\n",
    "library(\"nloptr\") #Pour la fonction d'optimisation Cobyla"
   ]
  },
  {
   "cell_type": "code",
   "execution_count": 4,
   "id": "7a973b60",
   "metadata": {},
   "outputs": [
    {
     "name": "stdout",
     "output_type": "stream",
     "text": [
      "\n",
      "optimisation start\n",
      "------------------\n",
      "* estimation method   : MLE \n",
      "* optimisation method : BFGS \n",
      "* analytical gradient : used\n",
      "* trend model : ~1\n",
      "* covariance model : \n",
      "  - type :  matern5_2 \n",
      "  - nugget : NO\n",
      "  - parameters lower bounds :  1e-10 1e-10 1e-10 1e-10 1e-10 1e-10 1e-10 1e-10 1e-10 1e-10 1e-10 1e-10 1e-10 1e-10 1e-10 1e-10 1e-10 1e-10 1e-10 1e-10 1e-10 1e-10 1e-10 1e-10 1e-10 1e-10 1e-10 1e-10 1e-10 1e-10 1e-10 1e-10 1e-10 1e-10 1e-10 1e-10 1e-10 1e-10 1e-10 1e-10 1e-10 1e-10 1e-10 1e-10 1e-10 1e-10 1e-10 1e-10 1e-10 1e-10 1e-10 1e-10 1e-10 1e-10 1e-10 1e-10 1e-10 1e-10 1e-10 1e-10 1e-10 1e-10 1e-10 1e-10 1e-10 1e-10 1e-10 1e-10 1e-10 1e-10 1e-10 1e-10 1e-10 1e-10 1e-10 1e-10 1e-10 1e-10 1e-10 1e-10 1e-10 1e-10 1e-10 1e-10 1e-10 1e-10 1e-10 1e-10 1e-10 1e-10 1e-10 1e-10 1e-10 1e-10 1e-10 1e-10 1e-10 1e-10 1e-10 1e-10 1e-10 1e-10 1e-10 1e-10 1e-10 1e-10 1e-10 1e-10 1e-10 1e-10 1e-10 1e-10 1e-10 1e-10 1e-10 1e-10 \n",
      "  - parameters upper bounds :  12076 0.78 1.966423e-08 44.86 1.944887e-08 1.966003e-08 1.985922e-08 43.4 1.982955e-08 0.92 1.977569e-08 1.977979e-08 1.905525e-08 1.934874e-08 1.967935e-08 21.2 1.898162e-08 7.3 1.976076e-08 4.88 1.971109e-08 1.14 1.963615e-08 1 1.973229e-08 0.6 1.949461e-08 1.962471e-08 1.967799e-08 1.98787e-08 1.991077e-08 1.966955e-08 6 1.89739e-08 1.956624e-08 25 1.988936e-08 1.976531e-08 1.994239e-08 1.99313e-08 4 0.8 1.956222e-08 1.958103e-08 1.972338e-08 1.994571e-08 24.16 1.982617e-08 1.950061e-08 1.975536e-08 1.958075e-08 1.990355e-08 8 16.82 1.944119e-08 1.987675e-08 3 3 1.977538e-08 11.36 1.987633e-08 1.996952e-08 1.968427e-08 110.54 1.952927e-08 4 1.955409e-08 1 1.987553e-08 1.981704e-08 1.945221e-08 2 1.982104e-08 62.98 1.952111e-08 1.963725e-08 1.97805e-08 1.985458e-08 1.927756e-08 1.974658e-08 1.985647e-08 1.947495e-08 1.2 1.981533e-08 1.976021e-08 1.967904e-08 1.958058e-08 1.966062e-08 1.939464e-08 1.938169e-08 86.38 1.955252e-08 1.985915e-08 1.980832e-08 1.958577e-08 1.934732e-08 0.62 1.985594e-08 1.979576e-08 1.9766e-08 1.99772e-08 1.96675e-08 1.963972e-08 0.08000001 1.961401e-08 1.978849e-08 1.977577e-08 1.964203e-08 1.981679e-08 1.971878e-08 1.946069e-08 1.952614e-08 1.990629e-08 1.983834e-08 7.28 10 \n",
      "  - best initial criterion value(s) :  -987.9143 \n",
      "\n",
      "N = 116, M = 5 machine precision = 2.22045e-16\n",
      "At X0, 0 variables are exactly at the bounds\n",
      "At iterate     0  f=       987.91  |proj g|=   1.9397e-08\n",
      "At iterate     1  f =        987.9  |proj g|=    0.00046177\n",
      "At iterate     2  f =        987.9  |proj g|=    0.00046177\n",
      "\n",
      "iterations 2\n",
      "function evaluations 9\n",
      "segments explored during Cauchy searches 86\n",
      "BFGS updates skipped 0\n",
      "active bounds at final generalized Cauchy point 0\n",
      "norm of the final projected gradient 0.000461773\n",
      "final function value 987.897\n",
      "\n",
      "F = 987.897\n",
      "final  value 987.897005 \n",
      "converged\n"
     ]
    },
    {
     "data": {
      "text/html": [
       "<style>\n",
       ".list-inline {list-style: none; margin:0; padding: 0}\n",
       ".list-inline>li {display: inline-block}\n",
       ".list-inline>li:not(:last-child)::after {content: \"\\00b7\"; padding: 0 .5ex}\n",
       "</style>\n",
       "<ol class=list-inline><li>363.802127297506</li><li>363.802127297506</li><li>363.802127297506</li><li>363.802127297506</li><li>363.802127297506</li><li>363.802127297506</li><li>363.802127297506</li><li>363.802127297506</li><li>363.802127297506</li><li>363.802127297506</li><li>363.802127297506</li><li>363.802127297506</li><li>363.802127297506</li><li>363.802127297506</li><li>363.802127297506</li><li>363.802127297506</li><li>363.802127297506</li><li>363.802127297506</li><li>363.802127297506</li><li>363.802127297506</li><li>363.802127297506</li><li>363.802127297506</li><li>363.802127297506</li><li>363.802127297506</li><li>363.802127297506</li><li>363.802127297506</li><li>363.802127297506</li><li>363.802127297506</li><li>363.802127297506</li><li>363.802127297506</li><li>363.802127297506</li><li>363.802127297506</li><li>363.802127297506</li><li>363.802127297506</li><li>363.802127297506</li><li>363.802127297506</li><li>363.802127297506</li><li>363.802127297506</li><li>363.802127297506</li><li>363.802127297506</li><li>363.802127297506</li><li>363.802127297506</li><li>363.802127297506</li><li>363.802127297506</li><li>363.802127297506</li><li>363.802127297506</li><li>363.802127297506</li><li>363.802127297506</li><li>363.802127297506</li><li>363.802127297506</li><li>363.802127297506</li><li>363.802127297506</li><li>363.802127297506</li><li>363.802127297506</li><li>363.802127297506</li><li>363.802127297506</li><li>363.802127297506</li><li>363.802127297506</li><li>363.802127297506</li><li>363.802127297506</li></ol>\n"
      ],
      "text/latex": [
       "\\begin{enumerate*}\n",
       "\\item 363.802127297506\n",
       "\\item 363.802127297506\n",
       "\\item 363.802127297506\n",
       "\\item 363.802127297506\n",
       "\\item 363.802127297506\n",
       "\\item 363.802127297506\n",
       "\\item 363.802127297506\n",
       "\\item 363.802127297506\n",
       "\\item 363.802127297506\n",
       "\\item 363.802127297506\n",
       "\\item 363.802127297506\n",
       "\\item 363.802127297506\n",
       "\\item 363.802127297506\n",
       "\\item 363.802127297506\n",
       "\\item 363.802127297506\n",
       "\\item 363.802127297506\n",
       "\\item 363.802127297506\n",
       "\\item 363.802127297506\n",
       "\\item 363.802127297506\n",
       "\\item 363.802127297506\n",
       "\\item 363.802127297506\n",
       "\\item 363.802127297506\n",
       "\\item 363.802127297506\n",
       "\\item 363.802127297506\n",
       "\\item 363.802127297506\n",
       "\\item 363.802127297506\n",
       "\\item 363.802127297506\n",
       "\\item 363.802127297506\n",
       "\\item 363.802127297506\n",
       "\\item 363.802127297506\n",
       "\\item 363.802127297506\n",
       "\\item 363.802127297506\n",
       "\\item 363.802127297506\n",
       "\\item 363.802127297506\n",
       "\\item 363.802127297506\n",
       "\\item 363.802127297506\n",
       "\\item 363.802127297506\n",
       "\\item 363.802127297506\n",
       "\\item 363.802127297506\n",
       "\\item 363.802127297506\n",
       "\\item 363.802127297506\n",
       "\\item 363.802127297506\n",
       "\\item 363.802127297506\n",
       "\\item 363.802127297506\n",
       "\\item 363.802127297506\n",
       "\\item 363.802127297506\n",
       "\\item 363.802127297506\n",
       "\\item 363.802127297506\n",
       "\\item 363.802127297506\n",
       "\\item 363.802127297506\n",
       "\\item 363.802127297506\n",
       "\\item 363.802127297506\n",
       "\\item 363.802127297506\n",
       "\\item 363.802127297506\n",
       "\\item 363.802127297506\n",
       "\\item 363.802127297506\n",
       "\\item 363.802127297506\n",
       "\\item 363.802127297506\n",
       "\\item 363.802127297506\n",
       "\\item 363.802127297506\n",
       "\\end{enumerate*}\n"
      ],
      "text/markdown": [
       "1. 363.802127297506\n",
       "2. 363.802127297506\n",
       "3. 363.802127297506\n",
       "4. 363.802127297506\n",
       "5. 363.802127297506\n",
       "6. 363.802127297506\n",
       "7. 363.802127297506\n",
       "8. 363.802127297506\n",
       "9. 363.802127297506\n",
       "10. 363.802127297506\n",
       "11. 363.802127297506\n",
       "12. 363.802127297506\n",
       "13. 363.802127297506\n",
       "14. 363.802127297506\n",
       "15. 363.802127297506\n",
       "16. 363.802127297506\n",
       "17. 363.802127297506\n",
       "18. 363.802127297506\n",
       "19. 363.802127297506\n",
       "20. 363.802127297506\n",
       "21. 363.802127297506\n",
       "22. 363.802127297506\n",
       "23. 363.802127297506\n",
       "24. 363.802127297506\n",
       "25. 363.802127297506\n",
       "26. 363.802127297506\n",
       "27. 363.802127297506\n",
       "28. 363.802127297506\n",
       "29. 363.802127297506\n",
       "30. 363.802127297506\n",
       "31. 363.802127297506\n",
       "32. 363.802127297506\n",
       "33. 363.802127297506\n",
       "34. 363.802127297506\n",
       "35. 363.802127297506\n",
       "36. 363.802127297506\n",
       "37. 363.802127297506\n",
       "38. 363.802127297506\n",
       "39. 363.802127297506\n",
       "40. 363.802127297506\n",
       "41. 363.802127297506\n",
       "42. 363.802127297506\n",
       "43. 363.802127297506\n",
       "44. 363.802127297506\n",
       "45. 363.802127297506\n",
       "46. 363.802127297506\n",
       "47. 363.802127297506\n",
       "48. 363.802127297506\n",
       "49. 363.802127297506\n",
       "50. 363.802127297506\n",
       "51. 363.802127297506\n",
       "52. 363.802127297506\n",
       "53. 363.802127297506\n",
       "54. 363.802127297506\n",
       "55. 363.802127297506\n",
       "56. 363.802127297506\n",
       "57. 363.802127297506\n",
       "58. 363.802127297506\n",
       "59. 363.802127297506\n",
       "60. 363.802127297506\n",
       "\n",
       "\n"
      ],
      "text/plain": [
       " [1] 363.8021 363.8021 363.8021 363.8021 363.8021 363.8021 363.8021 363.8021\n",
       " [9] 363.8021 363.8021 363.8021 363.8021 363.8021 363.8021 363.8021 363.8021\n",
       "[17] 363.8021 363.8021 363.8021 363.8021 363.8021 363.8021 363.8021 363.8021\n",
       "[25] 363.8021 363.8021 363.8021 363.8021 363.8021 363.8021 363.8021 363.8021\n",
       "[33] 363.8021 363.8021 363.8021 363.8021 363.8021 363.8021 363.8021 363.8021\n",
       "[41] 363.8021 363.8021 363.8021 363.8021 363.8021 363.8021 363.8021 363.8021\n",
       "[49] 363.8021 363.8021 363.8021 363.8021 363.8021 363.8021 363.8021 363.8021\n",
       "[57] 363.8021 363.8021 363.8021 363.8021"
      ]
     },
     "metadata": {},
     "output_type": "display_data"
    }
   ],
   "source": [
    "x = data[1:60,1:116]\n",
    "#x = matrix(sample(5:500, 116*30, replace=TRUE),nrow = 30)\n",
    "data_reduced = data[1:120,1:116]\n",
    "#des = data_reduced[c(-1)]\n",
    "shape = c(dim(data_reduced))\n",
    "noise = matrix(runif(prod(shape),min = 0.00000001,max = 0.00000002), nrow = 120)\n",
    "mod = km(formula = ~1, design = data_reduced + noise, response = data_reduced[1])\n",
    "tmse_optim(x, model = mod, T = 400)"
   ]
  },
  {
   "cell_type": "code",
   "execution_count": 5,
   "id": "2a272a9b",
   "metadata": {},
   "outputs": [],
   "source": [
    "fn<-function(x){\n",
    "  tmse_optim(x, model = mod, T = 30)\n",
    "}\n",
    "contr<-function(x){\n",
    "  h<-numeric(2)\n",
    "  h[1]<- 100-2*x #g(x)>=0\n",
    "  h[2]<- x  #-g(x)>=0\n",
    "  return(h)\n",
    "}\n",
    "\n",
    "#cobyla(x[1,1:116],fn,hin=contr)"
   ]
  },
  {
   "cell_type": "markdown",
   "id": "b97b1f3b",
   "metadata": {},
   "source": [
    "## Adaptation t-IMSE à nos contraintes"
   ]
  },
  {
   "cell_type": "markdown",
   "id": "ab395923",
   "metadata": {},
   "source": [
    "Au lieu d'utiliser la fonction **tmse_optim** standard, il nous faut considerer les contraintes du simplex"
   ]
  },
  {
   "cell_type": "code",
   "execution_count": 6,
   "id": "572d2041",
   "metadata": {},
   "outputs": [],
   "source": [
    "#simulation de x unifome sur [0,1] et la somme egale à 1\n",
    "simul <- function(d)\n",
    "{\n",
    "  # set.seed(18)\n",
    "  u = runif(n=d-1, min=0,max=1)\n",
    "  #replicate(n=5,u) si on doit tester avec plusieurs vecteurs diff\n",
    "  u = c(0,u,1)\n",
    "  u = sort(u)\n",
    "  x = u[2:(d+1)] - u[1:d]  \n",
    "  return(x)\n",
    "}"
   ]
  },
  {
   "cell_type": "code",
   "execution_count": 7,
   "id": "f494862d",
   "metadata": {},
   "outputs": [],
   "source": [
    "g = function (x, model, T, method.param = NULL) \n",
    "{\n",
    "    y <- t(x)\n",
    "    if (ncol(y) == model@d) \n",
    "        z <- y\n",
    "    if (ncol(y) != model@d) \n",
    "        z <- x\n",
    "    krig <- predict_nobias_km(object = model, newdata = as.data.frame(z), \n",
    "        type = \"UK\", se.compute = TRUE)\n",
    "    mk <- krig$mean\n",
    "    sk <- krig$sd\n",
    "    if (is.null(method.param)) \n",
    "        method.param <- 0\n",
    "    epsilon <- method.param\n",
    "    if (length(T) == 1) {\n",
    "        W <- 1/sqrt(2 * pi * (sk^2 + epsilon^2)) * exp(-0.5 * \n",
    "            ((mk - T)/sqrt(sk^2 + epsilon^2))^2)\n",
    "    }\n",
    "    else {\n",
    "        W0 <- 1/sqrt(2 * pi * (sk^2 + epsilon^2))\n",
    "        W <- 0\n",
    "        for (i in 1:length(T)) {\n",
    "            Ti <- T[i]\n",
    "            W <- W + W0 * exp(-0.5 * ((mk - Ti)/sqrt(sk^2 + epsilon^2))^2)\n",
    "        }\n",
    "    }\n",
    "    g <- W * sk^2\n",
    "    return(g)\n",
    "}"
   ]
  },
  {
   "cell_type": "code",
   "execution_count": 23,
   "id": "84de0341",
   "metadata": {},
   "outputs": [],
   "source": [
    "help(tmse_optim)"
   ]
  },
  {
   "cell_type": "code",
   "execution_count": 8,
   "id": "d85e50ef",
   "metadata": {},
   "outputs": [
    {
     "name": "stdout",
     "output_type": "stream",
     "text": [
      "\n",
      "optimisation start\n",
      "------------------\n",
      "* estimation method   : MLE \n",
      "* optimisation method : BFGS \n",
      "* analytical gradient : used\n",
      "* trend model : ~1\n",
      "* covariance model : \n",
      "  - type :  matern5_2 \n",
      "  - nugget : NO\n",
      "  - parameters lower bounds :  1e-10 1e-10 1e-10 1e-10 1e-10 1e-10 1e-10 1e-10 1e-10 1e-10 1e-10 1e-10 1e-10 1e-10 1e-10 1e-10 1e-10 1e-10 1e-10 1e-10 1e-10 1e-10 1e-10 1e-10 1e-10 1e-10 1e-10 1e-10 1e-10 \n",
      "  - parameters upper bounds :  476715169234 0.0001988824 44.86005 149.54 0.9201889 0.0001993379 22.92012 0.600165 0.0001992147 0.0001987579 0.0001996667 0.08004232 105.1 0.0001994298 57.84015 16.82011 3.000137 0.0001985326 110.72 0.0001980098 2.000161 0.0001990028 141.6 0.0001987289 0.6201496 0.0001986333 0.0001987884 10.00019 157.62 \n",
      "  - best initial criterion value(s) :  -7124.476 \n",
      "\n",
      "N = 29, M = 5 machine precision = 2.22045e-16\n",
      "At X0, 0 variables are exactly at the bounds\n",
      "At iterate     0  f=       7124.5  |proj g|=       5.4831\n",
      "At iterate     1  f =         6975  |proj g|=        5.0593\n",
      "At iterate     2  f =         6963  |proj g|=        4.0561\n",
      "At iterate     3  f =       6929.6  |proj g|=        1.8831\n",
      "At iterate     4  f =       6911.1  |proj g|=        1.1479\n",
      "At iterate     5  f =       6894.5  |proj g|=       0.91981\n",
      "At iterate     6  f =       6882.5  |proj g|=       0.77343\n",
      "At iterate     7  f =       6871.5  |proj g|=       0.93562\n",
      "ys=-3.146e-04  -gs= 8.607e+00, BFGS update SKIPPED\n",
      "At iterate     8  f =       6868.4  |proj g|=       0.88805\n",
      "At iterate     9  f =         6864  |proj g|=       0.76317\n",
      "At iterate    10  f =       6861.2  |proj g|=       0.65987\n",
      "At iterate    11  f =       6860.3  |proj g|=       0.64416\n",
      "At iterate    12  f =       6858.7  |proj g|=       0.63173\n",
      "At iterate    13  f =       6854.7  |proj g|=       0.58754\n",
      "At iterate    14  f =       6852.7  |proj g|=       0.56459\n",
      "At iterate    15  f =       6847.9  |proj g|=       0.49936\n",
      "At iterate    16  f =       6838.6  |proj g|=        0.3738\n",
      "At iterate    17  f =       6831.1  |proj g|=       0.26002\n",
      "At iterate    18  f =       6825.8  |proj g|=       0.18931\n",
      "At iterate    19  f =       6821.8  |proj g|=       0.11231\n",
      "At iterate    20  f =       6820.3  |proj g|=      0.090125\n",
      "At iterate    21  f =       6819.6  |proj g|=      0.031424\n",
      "At iterate    22  f =       6819.5  |proj g|=      0.031098\n",
      "At iterate    23  f =       6819.4  |proj g|=    2.1751e-10\n",
      "Bad direction in the line search;\n",
      "   refresh the lbfgs memory and restart the iteration.\n",
      "Derivative >= 0, backtracking line search impossible.final  value 6819.361140 \n",
      "stopped after 23 iterations\n"
     ]
    },
    {
     "data": {
      "text/html": [
       "<style>\n",
       ".list-inline {list-style: none; margin:0; padding: 0}\n",
       ".list-inline>li {display: inline-block}\n",
       ".list-inline>li:not(:last-child)::after {content: \"\\00b7\"; padding: 0 .5ex}\n",
       "</style>\n",
       "<ol class=list-inline><li>1132375052.23499</li><li>1132272312.98015</li><li>1132383962.03199</li><li>1112014713.12389</li><li>1128295674.57569</li><li>1130983076.49251</li><li>1130114378.41875</li><li>1132167642.84668</li><li>1122328756.20314</li><li>1131584740.83717</li><li>1130561369.76175</li><li>1128813660.43153</li><li>1131349322.00549</li><li>1112534720.47313</li><li>1118744343.74709</li><li>1129979685.41212</li><li>1124909051.54656</li><li>1133591899.91392</li><li>1132404943.2873</li><li>1124241039.23305</li><li>1124241039.23305</li><li>1124542119.40695</li><li>1124542119.40695</li><li>1125174603.75971</li><li>1123798007.04794</li><li>1124165752.34358</li><li>1125050687.37646</li><li>1124970531.4123</li><li>1126261933.06763</li><li>1125655675.90487</li><li>1125655675.90487</li><li>1129162625.83347</li><li>1080986568.51221</li><li>1096891134.94063</li><li>1085893391.37026</li><li>1077001651.42098</li><li>1095288101.80783</li><li>1091024433.66011</li><li>1095773194.20409</li><li>1087139138.63605</li><li>1107194788.85183</li><li>1086904793.31721</li><li>1108212312.97222</li><li>1105844204.71047</li><li>1099206579.63113</li><li>1124165752.3245</li><li>1122516913.48739</li><li>1126618892.92811</li><li>1125943106.48039</li><li>1125943106.48075</li></ol>\n"
      ],
      "text/latex": [
       "\\begin{enumerate*}\n",
       "\\item 1132375052.23499\n",
       "\\item 1132272312.98015\n",
       "\\item 1132383962.03199\n",
       "\\item 1112014713.12389\n",
       "\\item 1128295674.57569\n",
       "\\item 1130983076.49251\n",
       "\\item 1130114378.41875\n",
       "\\item 1132167642.84668\n",
       "\\item 1122328756.20314\n",
       "\\item 1131584740.83717\n",
       "\\item 1130561369.76175\n",
       "\\item 1128813660.43153\n",
       "\\item 1131349322.00549\n",
       "\\item 1112534720.47313\n",
       "\\item 1118744343.74709\n",
       "\\item 1129979685.41212\n",
       "\\item 1124909051.54656\n",
       "\\item 1133591899.91392\n",
       "\\item 1132404943.2873\n",
       "\\item 1124241039.23305\n",
       "\\item 1124241039.23305\n",
       "\\item 1124542119.40695\n",
       "\\item 1124542119.40695\n",
       "\\item 1125174603.75971\n",
       "\\item 1123798007.04794\n",
       "\\item 1124165752.34358\n",
       "\\item 1125050687.37646\n",
       "\\item 1124970531.4123\n",
       "\\item 1126261933.06763\n",
       "\\item 1125655675.90487\n",
       "\\item 1125655675.90487\n",
       "\\item 1129162625.83347\n",
       "\\item 1080986568.51221\n",
       "\\item 1096891134.94063\n",
       "\\item 1085893391.37026\n",
       "\\item 1077001651.42098\n",
       "\\item 1095288101.80783\n",
       "\\item 1091024433.66011\n",
       "\\item 1095773194.20409\n",
       "\\item 1087139138.63605\n",
       "\\item 1107194788.85183\n",
       "\\item 1086904793.31721\n",
       "\\item 1108212312.97222\n",
       "\\item 1105844204.71047\n",
       "\\item 1099206579.63113\n",
       "\\item 1124165752.3245\n",
       "\\item 1122516913.48739\n",
       "\\item 1126618892.92811\n",
       "\\item 1125943106.48039\n",
       "\\item 1125943106.48075\n",
       "\\end{enumerate*}\n"
      ],
      "text/markdown": [
       "1. 1132375052.23499\n",
       "2. 1132272312.98015\n",
       "3. 1132383962.03199\n",
       "4. 1112014713.12389\n",
       "5. 1128295674.57569\n",
       "6. 1130983076.49251\n",
       "7. 1130114378.41875\n",
       "8. 1132167642.84668\n",
       "9. 1122328756.20314\n",
       "10. 1131584740.83717\n",
       "11. 1130561369.76175\n",
       "12. 1128813660.43153\n",
       "13. 1131349322.00549\n",
       "14. 1112534720.47313\n",
       "15. 1118744343.74709\n",
       "16. 1129979685.41212\n",
       "17. 1124909051.54656\n",
       "18. 1133591899.91392\n",
       "19. 1132404943.2873\n",
       "20. 1124241039.23305\n",
       "21. 1124241039.23305\n",
       "22. 1124542119.40695\n",
       "23. 1124542119.40695\n",
       "24. 1125174603.75971\n",
       "25. 1123798007.04794\n",
       "26. 1124165752.34358\n",
       "27. 1125050687.37646\n",
       "28. 1124970531.4123\n",
       "29. 1126261933.06763\n",
       "30. 1125655675.90487\n",
       "31. 1125655675.90487\n",
       "32. 1129162625.83347\n",
       "33. 1080986568.51221\n",
       "34. 1096891134.94063\n",
       "35. 1085893391.37026\n",
       "36. 1077001651.42098\n",
       "37. 1095288101.80783\n",
       "38. 1091024433.66011\n",
       "39. 1095773194.20409\n",
       "40. 1087139138.63605\n",
       "41. 1107194788.85183\n",
       "42. 1086904793.31721\n",
       "43. 1108212312.97222\n",
       "44. 1105844204.71047\n",
       "45. 1099206579.63113\n",
       "46. 1124165752.3245\n",
       "47. 1122516913.48739\n",
       "48. 1126618892.92811\n",
       "49. 1125943106.48039\n",
       "50. 1125943106.48075\n",
       "\n",
       "\n"
      ],
      "text/plain": [
       " [1] 1132375052 1132272313 1132383962 1112014713 1128295675 1130983076\n",
       " [7] 1130114378 1132167643 1122328756 1131584741 1130561370 1128813660\n",
       "[13] 1131349322 1112534720 1118744344 1129979685 1124909052 1133591900\n",
       "[19] 1132404943 1124241039 1124241039 1124542119 1124542119 1125174604\n",
       "[25] 1123798007 1124165752 1125050687 1124970531 1126261933 1125655676\n",
       "[31] 1125655676 1129162626 1080986569 1096891135 1085893391 1077001651\n",
       "[37] 1095288102 1091024434 1095773194 1087139139 1107194789 1086904793\n",
       "[43] 1108212313 1105844205 1099206580 1124165752 1122516913 1126618893\n",
       "[49] 1125943106 1125943106"
      ]
     },
     "metadata": {},
     "output_type": "display_data"
    }
   ],
   "source": [
    "d = 29\n",
    "N = 10*d\n",
    "s = 0\n",
    "data_Lasso_reduced = data_lasso[1:N,]\n",
    "shape = c(dim(data_Lasso_reduced))\n",
    "noise = matrix(runif(prod(shape),min = 0.0001,max = 0.0002), nrow = N)\n",
    "mod = km(formula = ~1, design = data_Lasso_reduced+noise, response = data_Lasso_reduced$vis)\n",
    "x = data_Lasso_reduced[1:50,]\n",
    "tmse_optim(x, model = mod, T = 400)\n"
   ]
  },
  {
   "cell_type": "code",
   "execution_count": 24,
   "id": "3bf543cf",
   "metadata": {},
   "outputs": [],
   "source": [
    "tmse <- function(d,mod, T)\n",
    "{\n",
    "    s = 0\n",
    "    for(i in 1:1000){\n",
    "    x = simul(d) \n",
    "    s = s + g(x, model = mod,T)\n",
    "    }\n",
    "    tmse = s/1000\n",
    "    return(tmse)\n",
    "}\n",
    "    "
   ]
  },
  {
   "cell_type": "code",
   "execution_count": 25,
   "id": "ec41281d",
   "metadata": {},
   "outputs": [
    {
     "name": "stdout",
     "output_type": "stream",
     "text": [
      "[1] 1018315751\n"
     ]
    }
   ],
   "source": [
    "print(tmse(d,mod,T=400))"
   ]
  },
  {
   "cell_type": "code",
   "execution_count": 29,
   "id": "4af4bf08",
   "metadata": {},
   "outputs": [
    {
     "name": "stdout",
     "output_type": "stream",
     "text": [
      "\n",
      "optimisation start\n",
      "------------------\n",
      "* estimation method   : MLE \n",
      "* optimisation method : BFGS \n",
      "* analytical gradient : used\n",
      "* trend model : ~1\n",
      "* covariance model : \n",
      "  - type :  matern5_2 \n",
      "  - nugget : NO\n",
      "  - parameters lower bounds :  1e-10 1e-10 1e-10 1e-10 1e-10 1e-10 1e-10 1e-10 1e-10 1e-10 1e-10 1e-10 1e-10 1e-10 1e-10 1e-10 1e-10 1e-10 1e-10 1e-10 1e-10 1e-10 1e-10 1e-10 1e-10 1e-10 1e-10 1e-10 1e-10 \n",
      "  - parameters upper bounds :  476715169234 0.0001991599 44.86012 149.5402 0.9201991 0.0001981762 22.92016 0.6001607 0.0001988523 0.0001992747 0.0001989236 0.08006877 105.1002 0.000196887 57.84017 16.82005 3.000145 0.0001972013 110.7201 0.0001979035 2.000194 0.0001997556 141.6 0.0001991835 0.6200441 0.0001980778 0.0001992986 10.00018 157.6201 \n",
      "  - best initial criterion value(s) :  -7159.889 \n",
      "\n",
      "N = 29, M = 5 machine precision = 2.22045e-16\n",
      "At X0, 0 variables are exactly at the bounds\n",
      "At iterate     0  f=       7159.9  |proj g|=      0.98367\n",
      "At iterate     1  f =       6907.7  |proj g|=         2.311\n",
      "At iterate     2  f =       6904.8  |proj g|=         1.848\n",
      "At iterate     3  f =       6895.5  |proj g|=       0.98481\n",
      "At iterate     4  f =       6892.9  |proj g|=       0.91609\n",
      "At iterate     5  f =         6889  |proj g|=       0.80852\n",
      "At iterate     6  f =       6885.8  |proj g|=       0.69864\n",
      "At iterate     7  f =       6884.8  |proj g|=       0.66247\n",
      "At iterate     8  f =         6880  |proj g|=        0.5849\n",
      "At iterate     9  f =         6876  |proj g|=       0.47491\n",
      "At iterate    10  f =       6874.9  |proj g|=       0.44714\n",
      "At iterate    11  f =       6874.2  |proj g|=       0.43124\n",
      "At iterate    12  f =       6870.4  |proj g|=       0.33998\n",
      "At iterate    13  f =       6856.2  |proj g|=       0.16816\n",
      "At iterate    14  f =       6854.6  |proj g|=       0.13841\n",
      "At iterate    15  f =       6854.4  |proj g|=       0.13806\n",
      "At iterate    16  f =       6853.9  |proj g|=       0.13309\n",
      "At iterate    17  f =       6852.9  |proj g|=       0.12345\n",
      "At iterate    18  f =       6847.4  |proj g|=       0.07223\n",
      "At iterate    19  f =       6846.8  |proj g|=      0.066628\n",
      "At iterate    20  f =       6845.7  |proj g|=      0.047408\n",
      "At iterate    21  f =       6844.7  |proj g|=    1.2895e-10\n",
      "Bad direction in the line search;\n",
      "   refresh the lbfgs memory and restart the iteration.\n",
      "Derivative >= 0, backtracking line search impossible.final  value 6844.716989 \n",
      "stopped after 21 iterations\n"
     ]
    }
   ],
   "source": [
    "x = data_Lasso_reduced[1:50,]\n",
    "shape = c(dim(data_reduced))\n",
    "noise = matrix(runif(prod(shape),min = 0.0001,max = 0.0002), nrow = 120)\n",
    "mod = km(formula = ~1, design = data_Lasso_reduced + noise, response = data_Lasso_reduced[1])\n",
    "\n"
   ]
  },
  {
   "cell_type": "code",
   "execution_count": null,
   "id": "4de1f741",
   "metadata": {},
   "outputs": [],
   "source": [
    "new_tmse = function(x_new){\n",
    "    \n",
    "    \n",
    "    \n",
    "}"
   ]
  },
  {
   "cell_type": "code",
   "execution_count": null,
   "id": "bbcdbdd2",
   "metadata": {},
   "outputs": [],
   "source": [
    "X = data_Lasso_reduced\n",
    "nrow = nrow(X)\n",
    "for (i in 1:10){\n",
    "    # Loop for individual search\n",
    "    noise = matrix(runif(prod(dim(X)),min = 0.0001,max = 0.0002), nrow = nrow)\n",
    "    mod = km(formula = ~1, design = X + noise, response = X[1])\n",
    "    x_new = cobyla()\n",
    "    \n",
    "}"
   ]
  }
 ],
 "metadata": {
  "kernelspec": {
   "display_name": "R",
   "language": "R",
   "name": "ir"
  },
  "language_info": {
   "codemirror_mode": "r",
   "file_extension": ".r",
   "mimetype": "text/x-r-source",
   "name": "R",
   "pygments_lexer": "r",
   "version": "4.1.3"
  }
 },
 "nbformat": 4,
 "nbformat_minor": 5
}
