{
 "cells": [
  {
   "cell_type": "code",
   "execution_count": 2,
   "id": "109ea06b",
   "metadata": {},
   "outputs": [
    {
     "data": {
      "text/html": [
       "<style>\n",
       ".list-inline {list-style: none; margin:0; padding: 0}\n",
       ".list-inline>li {display: inline-block}\n",
       ".list-inline>li:not(:last-child)::after {content: \"\\00b7\"; padding: 0 .5ex}\n",
       "</style>\n",
       "<ol class=list-inline><li>7247</li><li>20</li></ol>\n"
      ],
      "text/latex": [
       "\\begin{enumerate*}\n",
       "\\item 7247\n",
       "\\item 20\n",
       "\\end{enumerate*}\n"
      ],
      "text/markdown": [
       "1. 7247\n",
       "2. 20\n",
       "\n",
       "\n"
      ],
      "text/plain": [
       "[1] 7247   20"
      ]
     },
     "metadata": {},
     "output_type": "display_data"
    },
    {
     "data": {
      "text/html": [
       "<style>\n",
       ".list-inline {list-style: none; margin:0; padding: 0}\n",
       ".list-inline>li {display: inline-block}\n",
       ".list-inline>li:not(:last-child)::after {content: \"\\00b7\"; padding: 0 .5ex}\n",
       "</style>\n",
       "<ol class=list-inline><li>7247</li><li>29</li></ol>\n"
      ],
      "text/latex": [
       "\\begin{enumerate*}\n",
       "\\item 7247\n",
       "\\item 29\n",
       "\\end{enumerate*}\n"
      ],
      "text/markdown": [
       "1. 7247\n",
       "2. 29\n",
       "\n",
       "\n"
      ],
      "text/plain": [
       "[1] 7247   29"
      ]
     },
     "metadata": {},
     "output_type": "display_data"
    }
   ],
   "source": [
    "\n",
    "data<-read.csv(\"data_visco.csv\")\n",
    "data_lasso <- read.csv(\"data_lasso.csv\")\n",
    "data_AIC <- read.csv(\"data_AIC.csv\")\n",
    "dim(data_AIC)\n",
    "dim(data_lasso)"
   ]
  },
  {
   "cell_type": "code",
   "execution_count": 3,
   "id": "3920ba1e",
   "metadata": {},
   "outputs": [
    {
     "name": "stderr",
     "output_type": "stream",
     "text": [
      "Warning message:\n",
      "\"le package 'KrigInv' a été compilé avec la version R 4.1.3\"\n",
      "Le chargement a nécessité le package : DiceKriging\n",
      "\n",
      "Warning message:\n",
      "\"le package 'DiceKriging' a été compilé avec la version R 4.1.2\"\n",
      "Warning message:\n",
      "\"le package 'nloptr' a été compilé avec la version R 4.1.2\"\n"
     ]
    }
   ],
   "source": [
    "# Charger la librairie\n",
    "library(\"KrigInv\") #Pour t-IMSE\n",
    "library(\"nloptr\") #Pour la fonction d'optimisation Cobyla\n"
   ]
  },
  {
   "cell_type": "code",
   "execution_count": 4,
   "id": "8d575eaa",
   "metadata": {},
   "outputs": [
    {
     "name": "stderr",
     "output_type": "stream",
     "text": [
      "Warning message:\n",
      "\"le package 'kernlab' a été compilé avec la version R 4.1.3\"\n",
      "Warning message:\n",
      "\"le package 'MASS' a été compilé avec la version R 4.1.1\"\n"
     ]
    }
   ],
   "source": [
    "#install.packages(\"MASS\")\n",
    "#install.packages(\"kernlab\")\n",
    "library(\"kernlab\")\n",
    "library(\"MASS\")\n",
    "library(\"nnet\")\n",
    "help(gausspr)"
   ]
  },
  {
   "cell_type": "code",
   "execution_count": 5,
   "id": "775d2b8c",
   "metadata": {},
   "outputs": [],
   "source": [
    "set.seed(177) # initialisation du générateur\n",
    "# Extraction des échantillons\n",
    "test.ratio <- .2   # part de l'échantillon test\n",
    "npop <- nrow(data) # nombre de lignes dans les données\n",
    "nvar <- ncol(data) # nombre de colonnes\n",
    "# taille de l'échantillon test\n",
    "ntest <- ceiling(npop * test.ratio) \n",
    "# indices de l'échantillon test\n",
    "testi <- sample(1:npop, ntest)\n",
    "# indices de l'échantillon d'apprentissage\n",
    "appri <- setdiff(1:npop, testi) "
   ]
  },
  {
   "cell_type": "code",
   "execution_count": 6,
   "id": "3bea3e77",
   "metadata": {},
   "outputs": [
    {
     "name": "stdout",
     "output_type": "stream",
     "text": [
      "'data.frame':\t5797 obs. of  116 variables:\n",
      " $ vis   : num  4433 25 17 21 64 ...\n",
      " $ X__2  : num  0 0.39 0 0 0 0 0 0 0 0 ...\n",
      " $ X__3  : num  0 0 0 0 0 0 0 0 0 0 ...\n",
      " $ X__4  : num  9.42 3.58 3.33 3.81 0 ...\n",
      " $ X__5  : num  0 0 0 0 0 0 0 0 0 0 ...\n",
      " $ X__6  : num  0 0 0 0 0 0 0 0 0 0 ...\n",
      " $ X__7  : num  0 0 0 0 0 0 0 0 0 0 ...\n",
      " $ X__8  : num  8.53 14.25 14.84 14.08 0 ...\n",
      " $ X__9  : num  0 0 0 0 0 0 0 0 0 0 ...\n",
      " $ X__10 : num  0 0 0 0 0 0 0 0 0 0 ...\n",
      " $ X__11 : num  0 0 0 0 0 0 0 0 0 0 ...\n",
      " $ X__12 : num  0 0 0 0 0 0 0 0 0 0 ...\n",
      " $ X__13 : num  0 0 0 0 0 0 0 0 0 0 ...\n",
      " $ X__16 : num  0 0 0 0 0 0 0 0 0 0 ...\n",
      " $ X__17 : num  0 0 0 0 0 0 0 0 0 0 ...\n",
      " $ X__18 : num  0 1.88 3.51 3.3 0 2 10.6 0 0.15 5.9 ...\n",
      " $ X__19 : num  0 0 0 0 0 0 0 0 0 0 ...\n",
      " $ X__20 : num  0 0.68 3.65 0.67 0 0 0 0 0 0 ...\n",
      " $ X__21 : num  0 0 0 0 0 0 0 0 0 0 ...\n",
      " $ X__22 : num  0 0 0 0 0 0 0 0 0 0 ...\n",
      " $ X__23 : num  0 0 0 0 0 0 0 0 0 0 ...\n",
      " $ X__24 : num  0 0.46 0 0 0 0 0 0 0 0 ...\n",
      " $ X__25 : num  0 0 0 0 0 0 0 0 0 0 ...\n",
      " $ X__26 : num  0 0 0 0 0 0 0 0 0 0 ...\n",
      " $ X__27 : num  0 0 0 0 0 0 0 0 0 0 ...\n",
      " $ X__29 : num  0 0 0.16 0.09 0 0 0 0 0 0 ...\n",
      " $ X__30 : num  0 0 0 0 0 0 0 0 0 0 ...\n",
      " $ X__31 : num  0 0 0 0 0 0 0 0 0 0 ...\n",
      " $ X__32 : num  0 0 0 0 0 0 0 0 0 0 ...\n",
      " $ X__33 : num  0 0 0 0 0 0 0 0 0 0 ...\n",
      " $ X__34 : num  0 0 0 0 0 0 0 0 0 0 ...\n",
      " $ X__35 : num  0 0 0 0 0 0 0 0 0 0 ...\n",
      " $ X__36 : num  0 0.08 0 2.36 0 0 0 0 0 0 ...\n",
      " $ X__37 : num  0 0 0 0 0 0 0 0 0 0 ...\n",
      " $ X__38 : num  0 0 0 0 0 0 0 0 0 0 ...\n",
      " $ X__39 : num  0 9.22 9.91 9.28 0 3 0 0 0.01 0.12 ...\n",
      " $ X__40 : num  0 0 0 0 0 0 0 0 0 0 ...\n",
      " $ X__43 : num  0 0 0 0 0 0 0 0 0 0 ...\n",
      " $ X__44 : num  0 0 0 0 0 0 0 0 0 0 ...\n",
      " $ X__45 : num  0 0 0 0 0 0 0 0 0 0 ...\n",
      " $ X__46 : num  0 0.8 0 0 0 0 0 0 0 0 ...\n",
      " $ X__47 : num  0 0 0 0 0 0 0 0 0 0 ...\n",
      " $ X__48 : num  0 0 0 0 0 0 0 0 0 0 ...\n",
      " $ X__49 : num  0 0 0 0 0 0 0 0 0 0 ...\n",
      " $ X__50 : num  0 0 0 0 0 0 0 0 0 0 ...\n",
      " $ X__51 : num  0 0 0 0 0 0 0 0 0 0 ...\n",
      " $ X__53 : num  0 0.08 0 0 0 ...\n",
      " $ X__54 : num  0 0 0 0 0 0 0 0 0 0 ...\n",
      " $ X__55 : num  0 0 0 0 0 0 0 0 0 0 ...\n",
      " $ X__56 : num  0 0 0 0 0 0 0 0 0 0 ...\n",
      " $ X__57 : num  0 0 0 0 0 0 0 0 0 0 ...\n",
      " $ X__58 : num  0 0 0 0 0 0 0 0 0 0 ...\n",
      " $ X__59 : num  0 1.78 2.47 1.66 0 2 0 0 0 0 ...\n",
      " $ X__64 : num  0 2.29 0.04 0 0 0 0 0 0 8.41 ...\n",
      " $ X__65 : num  0 0 0 0 0 0 0 0 0 0 ...\n",
      " $ X__66 : num  0 0 0 0 0 0 0 0 0 0 ...\n",
      " $ X__67 : num  0 0 0 0 0 0 0 0 0 0.00501 ...\n",
      " $ X__68 : num  0 0 0 0 0 0 0 0 0 0 ...\n",
      " $ X__69 : num  0 0 0 0 0 0 0 0 0 0 ...\n",
      " $ X__70 : num  0 0 0 0 0 0 0 0 0 0 ...\n",
      " $ X__71 : num  0 0 0 0 0 0 0 0 0 0 ...\n",
      " $ X__72 : num  0 0 0 0 0 0 0 0 0 0 ...\n",
      " $ X__73 : num  0 0 0 0 0 0 0 0 0 0 ...\n",
      " $ X__74 : num  11.7 12.8 13.1 13.3 33.5 ...\n",
      " $ X__75 : num  0 0 0 0 0 0 0 0 0 0 ...\n",
      " $ X__76 : num  0 1.41 1.26 1.25 0 2 0 0 0 0 ...\n",
      " $ X__78 : num  0 0 0 0 0 0 0 0 0 0 ...\n",
      " $ X__81 : num  0 0 0 0 0 0 0 0 0 0 ...\n",
      " $ X__82 : num  0 0 0 0 0 0 0 0 0 0 ...\n",
      " $ X__83 : num  0 0 0 0 0 0 0 0 0 0 ...\n",
      " $ X__84 : num  0 0 0 0 0 0 0 0 0 0 ...\n",
      " $ X__86 : num  0 0 0 0 0 0 0 0 0 0 ...\n",
      " $ X__87 : num  0 0 0 0 0 0 0 0 0 0 ...\n",
      " $ X__88 : num  0 0 0 0 0 ...\n",
      " $ X__89 : num  0 0 0 0 0 0 0 0 0 0 ...\n",
      " $ X__90 : num  0 0 0 0 0 0 0 0 0 0 ...\n",
      " $ X__91 : num  0 0 0 0 0 0 0 0 0 0 ...\n",
      " $ X__92 : num  0 0 0 0 0 0 0 0 0 0 ...\n",
      " $ X__93 : num  0 0 0 0 0 0 0 0 0 0 ...\n",
      " $ X__94 : num  0 0 0 0 0 0 0 0 0 0 ...\n",
      " $ X__95 : num  0 0 0 0 0 0 0 0 0 0 ...\n",
      " $ X__96 : num  0 0 0 0 0 0 0 0 0 0 ...\n",
      " $ X__98 : num  0 0 0 0 0 0 0 0 0 0 ...\n",
      " $ X__99 : num  0 0 0 0 0 0 0 0 0 0 ...\n",
      " $ X__100: num  0 0 0 0 0 0 0 0 0 0 ...\n",
      " $ X__101: num  0 0 0 0 0 0 0 0 0 0 ...\n",
      " $ X__103: num  0 0 0 0 0 0 0 0 0 0 ...\n",
      " $ X__104: num  0 0 0 0 0 0 0 0 0 0 ...\n",
      " $ X__106: num  0 0 0 0 0 0 0 0 0 0 ...\n",
      " $ X__108: num  0 0 0 0 0 0 0 0 0 0 ...\n",
      " $ X__109: num  70.3 45.4 46.2 45.5 66.5 ...\n",
      " $ X__110: num  0 0 0 0 0 0 0 0 0 0 ...\n",
      " $ X__111: num  0 0 0 0 0 0 0 0 0 0 ...\n",
      " $ X__112: num  0 0 0 0 0 0 0 0 0 0 ...\n",
      " $ X__113: num  0 0 0 0 0 0 0 0 0 0 ...\n",
      " $ X__114: num  0 0 0 0 0 0 0 0 0 0 ...\n",
      " $ X__115: num  0 0 0.31 0.08 0 0 0 0 0 0 ...\n",
      " $ X__116: num  0 0 0 0 0 0 0 0 0 0 ...\n",
      " $ X__117: num  0 0 0 0 0 0 0 0 0 0 ...\n",
      "  [list output truncated]\n",
      "'data.frame':\t1450 obs. of  116 variables:\n",
      " $ vis   : num  756 126 1292 115186 118 ...\n",
      " $ X__2  : num  0 0 0 0 0 0 0 0 0 0 ...\n",
      " $ X__3  : num  0 0 0 0 0 0 0 0 0 0 ...\n",
      " $ X__4  : num  2.2 3.99 6.46 15.89 0.2 ...\n",
      " $ X__5  : num  0 0 0 0.99 0 0 0.5 0 0 0 ...\n",
      " $ X__6  : num  0 0 0 0 0 0 0 0 0 0 ...\n",
      " $ X__7  : num  0 0 0 0 0 0 0 0 0 0 ...\n",
      " $ X__8  : num  3.7 0 11.2 11.2 0 ...\n",
      " $ X__9  : num  0 0 0 0 0 0 0 0 0 0 ...\n",
      " $ X__10 : num  0.5 0 26.8 0 0 ...\n",
      " $ X__11 : num  0 0 0 0 0 0 0 0 0 0 ...\n",
      " $ X__12 : num  0 0 0 0 0 0 0 0 0 0 ...\n",
      " $ X__13 : num  0 0 0 0 0 0 0 0 0 0 ...\n",
      " $ X__16 : num  0 0 0 0 0 0 0 0 0 0 ...\n",
      " $ X__17 : num  0 0 0 0 0 0 0 0 0 0 ...\n",
      " $ X__18 : num  4.9 2.29 0 8.27 16.5 6 0 2.95 7 0 ...\n",
      " $ X__19 : num  0 0 0 0 0 0 0 0 0 0 ...\n",
      " $ X__20 : num  0 0 0 0 0 ...\n",
      " $ X__21 : num  0 0 0 0 0 0 0 0 0 0 ...\n",
      " $ X__22 : num  0 0 0 0 0 0 0 0 0 0 ...\n",
      " $ X__23 : num  0 0 0 0 0 ...\n",
      " $ X__24 : num  0 0 0 0 0 0 0 0 0 0 ...\n",
      " $ X__25 : num  0 0 0 0 0 0 0 0 0 0 ...\n",
      " $ X__26 : num  0 0 0 0 0 0 0 0 0 0 ...\n",
      " $ X__27 : num  0 0 0 0 0 0 0 0 0 0 ...\n",
      " $ X__29 : num  0 0 0 0 0 0 0 0 0.056 0 ...\n",
      " $ X__30 : num  0 0 0 0 0 ...\n",
      " $ X__31 : num  0 0 0 0 0 0 0 0 0 0 ...\n",
      " $ X__32 : num  0 0 0 0 0 ...\n",
      " $ X__33 : num  0 0 0 0 0 0 0 0 0 0 ...\n",
      " $ X__34 : num  0 0 0 0 0 0 0 0 0 0 ...\n",
      " $ X__35 : num  0 0 0 0 0 0 0 0 0 0 ...\n",
      " $ X__36 : num  0 0 0 0 0 ...\n",
      " $ X__37 : num  0 0 0 0 0 0 0 0 0 0 ...\n",
      " $ X__38 : num  0 0 0 0 0 0 0 0 0 0 ...\n",
      " $ X__39 : num  0.1 0 0 0 0 0.01 0 0 4.5 0 ...\n",
      " $ X__40 : num  0 0 0 0 0 0 0 0 0 0 ...\n",
      " $ X__43 : num  0 0 0 0 0 0 0 0 0 0 ...\n",
      " $ X__44 : num  0 0 0 0 0 0 0 0 0 0 ...\n",
      " $ X__45 : num  0 0 0 0 0 0 0 0 0 0 ...\n",
      " $ X__46 : num  0 0 0 0 0 0 0 0 0 0 ...\n",
      " $ X__47 : num  0 0 0 0 0 0 0 0 0 0 ...\n",
      " $ X__48 : num  0 0 0 0 0 0 0 0 0 0 ...\n",
      " $ X__49 : num  0 0 0 0 0 0 0 0 0 0 ...\n",
      " $ X__50 : num  0 0 0 0 0 0 0 0 0 0 ...\n",
      " $ X__51 : num  0 0 0 0 0 0 0 0 0 0 ...\n",
      " $ X__53 : num  2.9 0.29 5.97 0 0.7 0 5.46 2.75 0 4.06 ...\n",
      " $ X__54 : num  0 0 0 0 0 0 0 0 0 0 ...\n",
      " $ X__55 : num  0 0 0 0 0 0 0 0 0 0 ...\n",
      " $ X__56 : num  0 0 0 0 0 0 0 0 0 0 ...\n",
      " $ X__57 : num  0 0 0 0 0 ...\n",
      " $ X__58 : num  0 0 0 0 0 0 0 0 0 0 ...\n",
      " $ X__59 : num  0 15 0 0 0 ...\n",
      " $ X__64 : num  3.1 3.99 0 0.09 3.2 0.5 0 1.9 1 0 ...\n",
      " $ X__65 : num  0 0 0 0 0 0 0 0 0 0 ...\n",
      " $ X__66 : num  0 0 0 0 0 0 0 0 0 0 ...\n",
      " $ X__67 : num  0 0 0 0 0 0 0 0 0 0 ...\n",
      " $ X__68 : num  0 0 0 0 0 ...\n",
      " $ X__69 : num  0 0 0 0 0 0 0 0 0 0 ...\n",
      " $ X__70 : num  0 0 0 0 0 ...\n",
      " $ X__71 : num  0 0 0 0 0 0 0 0 0 0 ...\n",
      " $ X__72 : num  0 0 0 0 0 0 0 0 0 0 ...\n",
      " $ X__73 : num  0 0 0 0 0 0 0 0 0 0 ...\n",
      " $ X__74 : num  10.8 13 0 0 15.4 ...\n",
      " $ X__75 : num  0 0 0 0 0 0 0 0 0 0 ...\n",
      " $ X__76 : num  0 0 0 0 0 ...\n",
      " $ X__78 : num  0 0 0 0 0 0 0 0 0 0 ...\n",
      " $ X__81 : num  0 0 0 0 0 ...\n",
      " $ X__82 : num  0 0 0 0 0 0 0 0 0 0 ...\n",
      " $ X__83 : num  0 0 0 0 0 0 0 0 0 0 ...\n",
      " $ X__84 : num  0 0 0 0 0 0 0 0 0 0 ...\n",
      " $ X__86 : num  0 0 0 0 3.3 ...\n",
      " $ X__87 : num  0 0 0 0 0 0 0 0 0 0 ...\n",
      " $ X__88 : num  0 0 0 0 0 ...\n",
      " $ X__89 : num  0 0 0 0 0 0 0 0 0 0 ...\n",
      " $ X__90 : num  0 0 0 0 0 0 0 0 0.0225 0 ...\n",
      " $ X__91 : num  0 0 0 0 0 0 0 0 0 0 ...\n",
      " $ X__92 : num  0 0 0 0 0 ...\n",
      " $ X__93 : num  0 0 0 0 0 0 0 0 0.0225 0 ...\n",
      " $ X__94 : num  0 0 0 0 0 0 0 0 0 0 ...\n",
      " $ X__95 : num  0 0 0 0 0 0 0 0 0 0 ...\n",
      " $ X__96 : num  0 0 0 0 0 0 0 0 0.0225 0 ...\n",
      " $ X__98 : num  0 0 0 0 0 ...\n",
      " $ X__99 : num  0 0 0 0 0 0 0 0 0 0 ...\n",
      " $ X__100: num  0 0 0 0 0 0 0.25 0 0 0 ...\n",
      " $ X__101: num  0 0 0 0 0 0 0 0 0 0 ...\n",
      " $ X__103: num  0 0 0 0 0 0 0 0 0 0 ...\n",
      " $ X__104: num  0 0 0 0 0 0 0 0 0 0 ...\n",
      " $ X__106: num  0 0 0 0 0 0 0 0 0 0 ...\n",
      " $ X__108: num  0 0 0 0 0 0 0 0 0 0 ...\n",
      " $ X__109: num  68.6 61.4 48.9 63.5 60.7 ...\n",
      " $ X__110: num  0 0 0 0 0 0 0 0 0.0225 0 ...\n",
      " $ X__111: num  0 0 0 0 0 0 0 0 0 0 ...\n",
      " $ X__112: num  0 0 0 0 0 0 0 0 0 0 ...\n",
      " $ X__113: num  0 0 0.19 0.04 0 0.3 0 0 0 0 ...\n",
      " $ X__114: num  0 0 0 0 0 0 0 0 0 0 ...\n",
      " $ X__115: num  0.1 0 0 0 0 ...\n",
      " $ X__116: num  0 0 0 0 0 0 0 0 0 0 ...\n",
      " $ X__117: num  2.6 0 0.37 0 0 ...\n",
      "  [list output truncated]\n"
     ]
    }
   ],
   "source": [
    "# construction de l'échantillon d'apprentissage\n",
    "datappr <- data[appri,]\n",
    "# construction de l'échantillon test\n",
    "datestr <- data[testi,]\n",
    "# vérification\n",
    "str(datappr)\n",
    "str(datestr)\n",
    "#summary(datappr) "
   ]
  },
  {
   "cell_type": "code",
   "execution_count": 7,
   "id": "638b393b",
   "metadata": {},
   "outputs": [
    {
     "name": "stderr",
     "output_type": "stream",
     "text": [
      "Warning message in .local(x, ...):\n",
      "\"Variable(s) `' constant. Cannot scale data.\"\n"
     ]
    },
    {
     "name": "stdout",
     "output_type": "stream",
     "text": [
      "Using automatic sigma estimation (sigest) for RBF or laplace kernel \n"
     ]
    }
   ],
   "source": [
    "gp=gausspr(log(vis)~.,data=datappr) "
   ]
  },
  {
   "cell_type": "code",
   "execution_count": 8,
   "id": "9afca7d6",
   "metadata": {},
   "outputs": [
    {
     "data": {
      "text/html": [
       "0.90176320332125"
      ],
      "text/latex": [
       "0.90176320332125"
      ],
      "text/markdown": [
       "0.90176320332125"
      ],
      "text/plain": [
       "[1] 0.9017632"
      ]
     },
     "metadata": {},
     "output_type": "display_data"
    }
   ],
   "source": [
    "# Calcul des prévisions\n",
    "pred.gausspr=predict(gp,newdata=datestr)\n",
    "# Erreur quadratique moyenne de prévision\n",
    "sum((pred.gausspr-log(datestr[,\"vis\"]))^2)/nrow(datestr)\n",
    "\n",
    "\n",
    "# qd on garde vis on a l'erreur = 7.37460195902897e+23"
   ]
  },
  {
   "cell_type": "code",
   "execution_count": 9,
   "id": "a330cc73",
   "metadata": {},
   "outputs": [
    {
     "name": "stderr",
     "output_type": "stream",
     "text": [
      "Warning message:\n",
      "\"le package 'e1071' a été compilé avec la version R 4.1.1\"\n"
     ]
    },
    {
     "data": {
      "text/plain": [
       "\n",
       "Parameter tuning of 'nnet':\n",
       "\n",
       "- sampling method: 10-fold cross validation \n",
       "\n",
       "- best parameters:\n",
       " size decay\n",
       "    1 1e-06\n",
       "\n",
       "- best performance: 50.33517 \n"
      ]
     },
     "metadata": {},
     "output_type": "display_data"
    },
    {
     "data": {
      "image/png": "[encoded data removed]",
      "text/plain": [
       "Plot with title \"Performance of `nnet'\""
      ]
     },
     "metadata": {
      "image/png": {
       "height": 420,
       "width": 420
      }
     },
     "output_type": "display_data"
    }
   ],
   "source": [
    "library(\"e1071\")\n",
    "tune.model.vis = tune.nnet(log(vis)~., data = datappr, size = c (1, 3, 5),decay = c (0.1, 0.001, 0.000001))\n",
    "plot(tune.model.vis)\n",
    "tune.model.vis"
   ]
  },
  {
   "cell_type": "code",
   "execution_count": 10,
   "id": "a35995d2",
   "metadata": {},
   "outputs": [
    {
     "name": "stdout",
     "output_type": "stream",
     "text": [
      "# weights:  118\n",
      "initial  value 332658.681469 \n",
      "final  value 292174.016296 \n",
      "converged\n"
     ]
    },
    {
     "name": "stderr",
     "output_type": "stream",
     "text": [
      "Warning message in plot.window(...):\n",
      "\"\"titre\" n'est pas un paramètre graphique\"\n",
      "Warning message in plot.xy(xy, type, ...):\n",
      "\"\"titre\" n'est pas un paramètre graphique\"\n",
      "Warning message in axis(side = side, at = at, labels = labels, ...):\n",
      "\"\"titre\" n'est pas un paramètre graphique\"\n",
      "Warning message in axis(side = side, at = at, labels = labels, ...):\n",
      "\"\"titre\" n'est pas un paramètre graphique\"\n",
      "Warning message in box(...):\n",
      "\"\"titre\" n'est pas un paramètre graphique\"\n",
      "Warning message in title(...):\n",
      "\"\"titre\" n'est pas un paramètre graphique\"\n"
     ]
    },
    {
     "data": {
      "image/png": "[encoded data removed]",
      "text/plain": [
       "plot without title"
      ]
     },
     "metadata": {
      "image/png": {
       "height": 420,
       "width": 420
      }
     },
     "output_type": "display_data"
    }
   ],
   "source": [
    "nnet.reg=nnet(log(vis)~.,data=datappr,size=1, decay=1e-6,maxit=500)\n",
    "# calcul et graphe des résidus\n",
    "fit.nnetr=predict(nnet.reg,data=datappr)\n",
    "res.nnetr=fit.nnetr-log(datappr[,\"vis\"])\n",
    "plot(fit.nnetr,res.nnetr,titre=\"\",xlim=c(0,5),ylim=c(-15,15)) "
   ]
  },
  {
   "cell_type": "code",
   "execution_count": 11,
   "id": "541522c0",
   "metadata": {},
   "outputs": [
    {
     "data": {
      "text/html": [
       "48.6809189989814"
      ],
      "text/latex": [
       "48.6809189989814"
      ],
      "text/markdown": [
       "48.6809189989814"
      ],
      "text/plain": [
       "[1] 48.68092"
      ]
     },
     "metadata": {},
     "output_type": "display_data"
    }
   ],
   "source": [
    "# Calcul des prévisions\n",
    "pred.nnetr=predict(nnet.reg,newdata=datestr)\n",
    "# Erreur quadratique moyenne de prévision\n",
    "sum((pred.nnetr-log(datestr[,\"vis\"]))^2)/nrow(datestr)\n",
    "\n",
    "# qd on grade vis au lieu de log vis on a l'erreur 9.98444881698066e+22"
   ]
  },
  {
   "cell_type": "code",
   "execution_count": 12,
   "id": "5408beae",
   "metadata": {},
   "outputs": [],
   "source": [
    "fjouet.test<-function(x1, x2){\n",
    "    return((x1-0.5)**2+(x2-0.5)**2)\n",
    "}"
   ]
  },
  {
   "cell_type": "code",
   "execution_count": 13,
   "id": "35a71e06",
   "metadata": {},
   "outputs": [
    {
     "data": {
      "image/png": "[encoded data removed]",
      "text/plain": [
       "plot without title"
      ]
     },
     "metadata": {
      "image/png": {
       "height": 420,
       "width": 420
      }
     },
     "output_type": "display_data"
    },
    {
     "data": {
      "image/png": "[encoded data removed]",
      "text/plain": [
       "plot without title"
      ]
     },
     "metadata": {
      "image/png": {
       "height": 420,
       "width": 420
      }
     },
     "output_type": "display_data"
    }
   ],
   "source": [
    "#x = c(0.1,0.2,0.3,0.4,0.5, 0.6, 0.7, 0.8, 0.9) \n",
    "#y=1-x\n",
    "\n",
    "x <- seq(0,1,length.out=100)\n",
    "y <- sort(1-x)\n",
    "z <- outer((x-0.5)^2,(y-0.5)^2,`+`)\n",
    "\n",
    "persp(x,y,z, col='blue')\n",
    "contour(x,y,z)\n",
    "lines(x, 1-x, pch=18, col=\"blue\", type=\"b\", lty=2)"
   ]
  },
  {
   "cell_type": "code",
   "execution_count": 14,
   "id": "f852cef0",
   "metadata": {},
   "outputs": [
    {
     "data": {
      "text/html": [
       "<table class=\"dataframe\">\n",
       "<caption>A data.frame: 100 × 3</caption>\n",
       "<thead>\n",
       "\t<tr><th scope=col>resp</th><th scope=col>x.donne</th><th scope=col>y.donne</th></tr>\n",
       "\t<tr><th scope=col>&lt;dbl&gt;</th><th scope=col>&lt;dbl&gt;</th><th scope=col>&lt;dbl&gt;</th></tr>\n",
       "</thead>\n",
       "<tbody>\n",
       "\t<tr><td>0.5000000</td><td>0.000000000</td><td>1.0000000</td></tr>\n",
       "\t<tr><td>0.4849760</td><td>0.005050505</td><td>0.9898990</td></tr>\n",
       "\t<tr><td>0.4702071</td><td>0.010101010</td><td>0.9797980</td></tr>\n",
       "\t<tr><td>0.4556933</td><td>0.015151515</td><td>0.9696970</td></tr>\n",
       "\t<tr><td>0.4414345</td><td>0.020202020</td><td>0.9595960</td></tr>\n",
       "\t<tr><td>0.4274309</td><td>0.025252525</td><td>0.9494949</td></tr>\n",
       "\t<tr><td>0.4136823</td><td>0.030303030</td><td>0.9393939</td></tr>\n",
       "\t<tr><td>0.4001888</td><td>0.035353535</td><td>0.9292929</td></tr>\n",
       "\t<tr><td>0.3869503</td><td>0.040404040</td><td>0.9191919</td></tr>\n",
       "\t<tr><td>0.3739669</td><td>0.045454545</td><td>0.9090909</td></tr>\n",
       "\t<tr><td>0.3612386</td><td>0.050505051</td><td>0.8989899</td></tr>\n",
       "\t<tr><td>0.3487654</td><td>0.055555556</td><td>0.8888889</td></tr>\n",
       "\t<tr><td>0.3365473</td><td>0.060606061</td><td>0.8787879</td></tr>\n",
       "\t<tr><td>0.3245842</td><td>0.065656566</td><td>0.8686869</td></tr>\n",
       "\t<tr><td>0.3128762</td><td>0.070707071</td><td>0.8585859</td></tr>\n",
       "\t<tr><td>0.3014233</td><td>0.075757576</td><td>0.8484848</td></tr>\n",
       "\t<tr><td>0.2902255</td><td>0.080808081</td><td>0.8383838</td></tr>\n",
       "\t<tr><td>0.2792827</td><td>0.085858586</td><td>0.8282828</td></tr>\n",
       "\t<tr><td>0.2685950</td><td>0.090909091</td><td>0.8181818</td></tr>\n",
       "\t<tr><td>0.2581624</td><td>0.095959596</td><td>0.8080808</td></tr>\n",
       "\t<tr><td>0.2479849</td><td>0.101010101</td><td>0.7979798</td></tr>\n",
       "\t<tr><td>0.2380624</td><td>0.106060606</td><td>0.7878788</td></tr>\n",
       "\t<tr><td>0.2283951</td><td>0.111111111</td><td>0.7777778</td></tr>\n",
       "\t<tr><td>0.2189828</td><td>0.116161616</td><td>0.7676768</td></tr>\n",
       "\t<tr><td>0.2098255</td><td>0.121212121</td><td>0.7575758</td></tr>\n",
       "\t<tr><td>0.2009234</td><td>0.126262626</td><td>0.7474747</td></tr>\n",
       "\t<tr><td>0.1922763</td><td>0.131313131</td><td>0.7373737</td></tr>\n",
       "\t<tr><td>0.1838843</td><td>0.136363636</td><td>0.7272727</td></tr>\n",
       "\t<tr><td>0.1757474</td><td>0.141414141</td><td>0.7171717</td></tr>\n",
       "\t<tr><td>0.1678655</td><td>0.146464646</td><td>0.7070707</td></tr>\n",
       "\t<tr><td>...</td><td>...</td><td>...</td></tr>\n",
       "\t<tr><td>0.06433017</td><td>0.3535354</td><td>0.29292929</td></tr>\n",
       "\t<tr><td>0.06716151</td><td>0.3585859</td><td>0.28282828</td></tr>\n",
       "\t<tr><td>0.07024793</td><td>0.3636364</td><td>0.27272727</td></tr>\n",
       "\t<tr><td>0.07358943</td><td>0.3686869</td><td>0.26262626</td></tr>\n",
       "\t<tr><td>0.07718600</td><td>0.3737374</td><td>0.25252525</td></tr>\n",
       "\t<tr><td>0.08103765</td><td>0.3787879</td><td>0.24242424</td></tr>\n",
       "\t<tr><td>0.08514437</td><td>0.3838384</td><td>0.23232323</td></tr>\n",
       "\t<tr><td>0.08950617</td><td>0.3888889</td><td>0.22222222</td></tr>\n",
       "\t<tr><td>0.09412305</td><td>0.3939394</td><td>0.21212121</td></tr>\n",
       "\t<tr><td>0.09899500</td><td>0.3989899</td><td>0.20202020</td></tr>\n",
       "\t<tr><td>0.10412203</td><td>0.4040404</td><td>0.19191919</td></tr>\n",
       "\t<tr><td>0.10950413</td><td>0.4090909</td><td>0.18181818</td></tr>\n",
       "\t<tr><td>0.11514131</td><td>0.4141414</td><td>0.17171717</td></tr>\n",
       "\t<tr><td>0.12103357</td><td>0.4191919</td><td>0.16161616</td></tr>\n",
       "\t<tr><td>0.12718090</td><td>0.4242424</td><td>0.15151515</td></tr>\n",
       "\t<tr><td>0.13358331</td><td>0.4292929</td><td>0.14141414</td></tr>\n",
       "\t<tr><td>0.14024079</td><td>0.4343434</td><td>0.13131313</td></tr>\n",
       "\t<tr><td>0.14715335</td><td>0.4393939</td><td>0.12121212</td></tr>\n",
       "\t<tr><td>0.15432099</td><td>0.4444444</td><td>0.11111111</td></tr>\n",
       "\t<tr><td>0.16174370</td><td>0.4494949</td><td>0.10101010</td></tr>\n",
       "\t<tr><td>0.16942149</td><td>0.4545455</td><td>0.09090909</td></tr>\n",
       "\t<tr><td>0.17735435</td><td>0.4595960</td><td>0.08080808</td></tr>\n",
       "\t<tr><td>0.18554229</td><td>0.4646465</td><td>0.07070707</td></tr>\n",
       "\t<tr><td>0.19398531</td><td>0.4696970</td><td>0.06060606</td></tr>\n",
       "\t<tr><td>0.20268340</td><td>0.4747475</td><td>0.05050505</td></tr>\n",
       "\t<tr><td>0.21163657</td><td>0.4797980</td><td>0.04040404</td></tr>\n",
       "\t<tr><td>0.22084481</td><td>0.4848485</td><td>0.03030303</td></tr>\n",
       "\t<tr><td>0.23030813</td><td>0.4898990</td><td>0.02020202</td></tr>\n",
       "\t<tr><td>0.24002653</td><td>0.4949495</td><td>0.01010101</td></tr>\n",
       "\t<tr><td>0.25000000</td><td>0.5000000</td><td>0.00000000</td></tr>\n",
       "</tbody>\n",
       "</table>\n"
      ],
      "text/latex": [
       "A data.frame: 100 × 3\n",
       "\\begin{tabular}{lll}\n",
       " resp & x.donne & y.donne\\\\\n",
       " <dbl> & <dbl> & <dbl>\\\\\n",
       "\\hline\n",
       "\t 0.5000000 & 0.000000000 & 1.0000000\\\\\n",
       "\t 0.4849760 & 0.005050505 & 0.9898990\\\\\n",
       "\t 0.4702071 & 0.010101010 & 0.9797980\\\\\n",
       "\t 0.4556933 & 0.015151515 & 0.9696970\\\\\n",
       "\t 0.4414345 & 0.020202020 & 0.9595960\\\\\n",
       "\t 0.4274309 & 0.025252525 & 0.9494949\\\\\n",
       "\t 0.4136823 & 0.030303030 & 0.9393939\\\\\n",
       "\t 0.4001888 & 0.035353535 & 0.9292929\\\\\n",
       "\t 0.3869503 & 0.040404040 & 0.9191919\\\\\n",
       "\t 0.3739669 & 0.045454545 & 0.9090909\\\\\n",
       "\t 0.3612386 & 0.050505051 & 0.8989899\\\\\n",
       "\t 0.3487654 & 0.055555556 & 0.8888889\\\\\n",
       "\t 0.3365473 & 0.060606061 & 0.8787879\\\\\n",
       "\t 0.3245842 & 0.065656566 & 0.8686869\\\\\n",
       "\t 0.3128762 & 0.070707071 & 0.8585859\\\\\n",
       "\t 0.3014233 & 0.075757576 & 0.8484848\\\\\n",
       "\t 0.2902255 & 0.080808081 & 0.8383838\\\\\n",
       "\t 0.2792827 & 0.085858586 & 0.8282828\\\\\n",
       "\t 0.2685950 & 0.090909091 & 0.8181818\\\\\n",
       "\t 0.2581624 & 0.095959596 & 0.8080808\\\\\n",
       "\t 0.2479849 & 0.101010101 & 0.7979798\\\\\n",
       "\t 0.2380624 & 0.106060606 & 0.7878788\\\\\n",
       "\t 0.2283951 & 0.111111111 & 0.7777778\\\\\n",
       "\t 0.2189828 & 0.116161616 & 0.7676768\\\\\n",
       "\t 0.2098255 & 0.121212121 & 0.7575758\\\\\n",
       "\t 0.2009234 & 0.126262626 & 0.7474747\\\\\n",
       "\t 0.1922763 & 0.131313131 & 0.7373737\\\\\n",
       "\t 0.1838843 & 0.136363636 & 0.7272727\\\\\n",
       "\t 0.1757474 & 0.141414141 & 0.7171717\\\\\n",
       "\t 0.1678655 & 0.146464646 & 0.7070707\\\\\n",
       "\t ... & ... & ...\\\\\n",
       "\t 0.06433017 & 0.3535354 & 0.29292929\\\\\n",
       "\t 0.06716151 & 0.3585859 & 0.28282828\\\\\n",
       "\t 0.07024793 & 0.3636364 & 0.27272727\\\\\n",
       "\t 0.07358943 & 0.3686869 & 0.26262626\\\\\n",
       "\t 0.07718600 & 0.3737374 & 0.25252525\\\\\n",
       "\t 0.08103765 & 0.3787879 & 0.24242424\\\\\n",
       "\t 0.08514437 & 0.3838384 & 0.23232323\\\\\n",
       "\t 0.08950617 & 0.3888889 & 0.22222222\\\\\n",
       "\t 0.09412305 & 0.3939394 & 0.21212121\\\\\n",
       "\t 0.09899500 & 0.3989899 & 0.20202020\\\\\n",
       "\t 0.10412203 & 0.4040404 & 0.19191919\\\\\n",
       "\t 0.10950413 & 0.4090909 & 0.18181818\\\\\n",
       "\t 0.11514131 & 0.4141414 & 0.17171717\\\\\n",
       "\t 0.12103357 & 0.4191919 & 0.16161616\\\\\n",
       "\t 0.12718090 & 0.4242424 & 0.15151515\\\\\n",
       "\t 0.13358331 & 0.4292929 & 0.14141414\\\\\n",
       "\t 0.14024079 & 0.4343434 & 0.13131313\\\\\n",
       "\t 0.14715335 & 0.4393939 & 0.12121212\\\\\n",
       "\t 0.15432099 & 0.4444444 & 0.11111111\\\\\n",
       "\t 0.16174370 & 0.4494949 & 0.10101010\\\\\n",
       "\t 0.16942149 & 0.4545455 & 0.09090909\\\\\n",
       "\t 0.17735435 & 0.4595960 & 0.08080808\\\\\n",
       "\t 0.18554229 & 0.4646465 & 0.07070707\\\\\n",
       "\t 0.19398531 & 0.4696970 & 0.06060606\\\\\n",
       "\t 0.20268340 & 0.4747475 & 0.05050505\\\\\n",
       "\t 0.21163657 & 0.4797980 & 0.04040404\\\\\n",
       "\t 0.22084481 & 0.4848485 & 0.03030303\\\\\n",
       "\t 0.23030813 & 0.4898990 & 0.02020202\\\\\n",
       "\t 0.24002653 & 0.4949495 & 0.01010101\\\\\n",
       "\t 0.25000000 & 0.5000000 & 0.00000000\\\\\n",
       "\\end{tabular}\n"
      ],
      "text/markdown": [
       "\n",
       "A data.frame: 100 × 3\n",
       "\n",
       "| resp &lt;dbl&gt; | x.donne &lt;dbl&gt; | y.donne &lt;dbl&gt; |\n",
       "|---|---|---|\n",
       "| 0.5000000 | 0.000000000 | 1.0000000 |\n",
       "| 0.4849760 | 0.005050505 | 0.9898990 |\n",
       "| 0.4702071 | 0.010101010 | 0.9797980 |\n",
       "| 0.4556933 | 0.015151515 | 0.9696970 |\n",
       "| 0.4414345 | 0.020202020 | 0.9595960 |\n",
       "| 0.4274309 | 0.025252525 | 0.9494949 |\n",
       "| 0.4136823 | 0.030303030 | 0.9393939 |\n",
       "| 0.4001888 | 0.035353535 | 0.9292929 |\n",
       "| 0.3869503 | 0.040404040 | 0.9191919 |\n",
       "| 0.3739669 | 0.045454545 | 0.9090909 |\n",
       "| 0.3612386 | 0.050505051 | 0.8989899 |\n",
       "| 0.3487654 | 0.055555556 | 0.8888889 |\n",
       "| 0.3365473 | 0.060606061 | 0.8787879 |\n",
       "| 0.3245842 | 0.065656566 | 0.8686869 |\n",
       "| 0.3128762 | 0.070707071 | 0.8585859 |\n",
       "| 0.3014233 | 0.075757576 | 0.8484848 |\n",
       "| 0.2902255 | 0.080808081 | 0.8383838 |\n",
       "| 0.2792827 | 0.085858586 | 0.8282828 |\n",
       "| 0.2685950 | 0.090909091 | 0.8181818 |\n",
       "| 0.2581624 | 0.095959596 | 0.8080808 |\n",
       "| 0.2479849 | 0.101010101 | 0.7979798 |\n",
       "| 0.2380624 | 0.106060606 | 0.7878788 |\n",
       "| 0.2283951 | 0.111111111 | 0.7777778 |\n",
       "| 0.2189828 | 0.116161616 | 0.7676768 |\n",
       "| 0.2098255 | 0.121212121 | 0.7575758 |\n",
       "| 0.2009234 | 0.126262626 | 0.7474747 |\n",
       "| 0.1922763 | 0.131313131 | 0.7373737 |\n",
       "| 0.1838843 | 0.136363636 | 0.7272727 |\n",
       "| 0.1757474 | 0.141414141 | 0.7171717 |\n",
       "| 0.1678655 | 0.146464646 | 0.7070707 |\n",
       "| ... | ... | ... |\n",
       "| 0.06433017 | 0.3535354 | 0.29292929 |\n",
       "| 0.06716151 | 0.3585859 | 0.28282828 |\n",
       "| 0.07024793 | 0.3636364 | 0.27272727 |\n",
       "| 0.07358943 | 0.3686869 | 0.26262626 |\n",
       "| 0.07718600 | 0.3737374 | 0.25252525 |\n",
       "| 0.08103765 | 0.3787879 | 0.24242424 |\n",
       "| 0.08514437 | 0.3838384 | 0.23232323 |\n",
       "| 0.08950617 | 0.3888889 | 0.22222222 |\n",
       "| 0.09412305 | 0.3939394 | 0.21212121 |\n",
       "| 0.09899500 | 0.3989899 | 0.20202020 |\n",
       "| 0.10412203 | 0.4040404 | 0.19191919 |\n",
       "| 0.10950413 | 0.4090909 | 0.18181818 |\n",
       "| 0.11514131 | 0.4141414 | 0.17171717 |\n",
       "| 0.12103357 | 0.4191919 | 0.16161616 |\n",
       "| 0.12718090 | 0.4242424 | 0.15151515 |\n",
       "| 0.13358331 | 0.4292929 | 0.14141414 |\n",
       "| 0.14024079 | 0.4343434 | 0.13131313 |\n",
       "| 0.14715335 | 0.4393939 | 0.12121212 |\n",
       "| 0.15432099 | 0.4444444 | 0.11111111 |\n",
       "| 0.16174370 | 0.4494949 | 0.10101010 |\n",
       "| 0.16942149 | 0.4545455 | 0.09090909 |\n",
       "| 0.17735435 | 0.4595960 | 0.08080808 |\n",
       "| 0.18554229 | 0.4646465 | 0.07070707 |\n",
       "| 0.19398531 | 0.4696970 | 0.06060606 |\n",
       "| 0.20268340 | 0.4747475 | 0.05050505 |\n",
       "| 0.21163657 | 0.4797980 | 0.04040404 |\n",
       "| 0.22084481 | 0.4848485 | 0.03030303 |\n",
       "| 0.23030813 | 0.4898990 | 0.02020202 |\n",
       "| 0.24002653 | 0.4949495 | 0.01010101 |\n",
       "| 0.25000000 | 0.5000000 | 0.00000000 |\n",
       "\n"
      ],
      "text/plain": [
       "    resp       x.donne     y.donne   \n",
       "1   0.5000000  0.000000000 1.0000000 \n",
       "2   0.4849760  0.005050505 0.9898990 \n",
       "3   0.4702071  0.010101010 0.9797980 \n",
       "4   0.4556933  0.015151515 0.9696970 \n",
       "5   0.4414345  0.020202020 0.9595960 \n",
       "6   0.4274309  0.025252525 0.9494949 \n",
       "7   0.4136823  0.030303030 0.9393939 \n",
       "8   0.4001888  0.035353535 0.9292929 \n",
       "9   0.3869503  0.040404040 0.9191919 \n",
       "10  0.3739669  0.045454545 0.9090909 \n",
       "11  0.3612386  0.050505051 0.8989899 \n",
       "12  0.3487654  0.055555556 0.8888889 \n",
       "13  0.3365473  0.060606061 0.8787879 \n",
       "14  0.3245842  0.065656566 0.8686869 \n",
       "15  0.3128762  0.070707071 0.8585859 \n",
       "16  0.3014233  0.075757576 0.8484848 \n",
       "17  0.2902255  0.080808081 0.8383838 \n",
       "18  0.2792827  0.085858586 0.8282828 \n",
       "19  0.2685950  0.090909091 0.8181818 \n",
       "20  0.2581624  0.095959596 0.8080808 \n",
       "21  0.2479849  0.101010101 0.7979798 \n",
       "22  0.2380624  0.106060606 0.7878788 \n",
       "23  0.2283951  0.111111111 0.7777778 \n",
       "24  0.2189828  0.116161616 0.7676768 \n",
       "25  0.2098255  0.121212121 0.7575758 \n",
       "26  0.2009234  0.126262626 0.7474747 \n",
       "27  0.1922763  0.131313131 0.7373737 \n",
       "28  0.1838843  0.136363636 0.7272727 \n",
       "29  0.1757474  0.141414141 0.7171717 \n",
       "30  0.1678655  0.146464646 0.7070707 \n",
       "... ...        ...         ...       \n",
       "71  0.06433017 0.3535354   0.29292929\n",
       "72  0.06716151 0.3585859   0.28282828\n",
       "73  0.07024793 0.3636364   0.27272727\n",
       "74  0.07358943 0.3686869   0.26262626\n",
       "75  0.07718600 0.3737374   0.25252525\n",
       "76  0.08103765 0.3787879   0.24242424\n",
       "77  0.08514437 0.3838384   0.23232323\n",
       "78  0.08950617 0.3888889   0.22222222\n",
       "79  0.09412305 0.3939394   0.21212121\n",
       "80  0.09899500 0.3989899   0.20202020\n",
       "81  0.10412203 0.4040404   0.19191919\n",
       "82  0.10950413 0.4090909   0.18181818\n",
       "83  0.11514131 0.4141414   0.17171717\n",
       "84  0.12103357 0.4191919   0.16161616\n",
       "85  0.12718090 0.4242424   0.15151515\n",
       "86  0.13358331 0.4292929   0.14141414\n",
       "87  0.14024079 0.4343434   0.13131313\n",
       "88  0.14715335 0.4393939   0.12121212\n",
       "89  0.15432099 0.4444444   0.11111111\n",
       "90  0.16174370 0.4494949   0.10101010\n",
       "91  0.16942149 0.4545455   0.09090909\n",
       "92  0.17735435 0.4595960   0.08080808\n",
       "93  0.18554229 0.4646465   0.07070707\n",
       "94  0.19398531 0.4696970   0.06060606\n",
       "95  0.20268340 0.4747475   0.05050505\n",
       "96  0.21163657 0.4797980   0.04040404\n",
       "97  0.22084481 0.4848485   0.03030303\n",
       "98  0.23030813 0.4898990   0.02020202\n",
       "99  0.24002653 0.4949495   0.01010101\n",
       "100 0.25000000 0.5000000   0.00000000"
      ]
     },
     "metadata": {},
     "output_type": "display_data"
    }
   ],
   "source": [
    "x.donne <- seq(0,0.5,length.out=100)  #on ne prend des valeurs que entre 0 et 1/2 pour la fonctino jouet car \n",
    "#en deux dimensions entre 0 et 1/2 et entre 1/2 et 1 l'algo va apprendre deux fois la même chose avec x=1-y\n",
    "y.donne <- 1-x\n",
    "\n",
    "donne <- cbind(x.donne,y.donne)\n",
    "resp<- fjouet.test(donne[,1], donne[,2])\n",
    "mat.donne<-as.data.frame(cbind(resp, donne))\n",
    "\n",
    "mat.donne"
   ]
  },
  {
   "cell_type": "code",
   "execution_count": 15,
   "id": "a27b9c14",
   "metadata": {},
   "outputs": [],
   "source": [
    "set.seed(177) # initialisation du générateur\n",
    "# Extraction des échantillons\n",
    "test.ratio <- .2   # part de l'échantillon test\n",
    "npop <- nrow(mat.donne) # nombre de lignes dans les données\n",
    "nvar <- ncol(mat.donne) # nombre de colonnes\n",
    "# taille de l'échantillon test\n",
    "ntest <- ceiling(npop * test.ratio) \n",
    "# indices de l'échantillon test\n",
    "testi <- sample(1:npop, ntest)\n",
    "# indices de l'échantillon d'apprentissage\n",
    "appri <- setdiff(1:npop, testi) "
   ]
  },
  {
   "cell_type": "code",
   "execution_count": 16,
   "id": "89ce36a4",
   "metadata": {},
   "outputs": [
    {
     "name": "stdout",
     "output_type": "stream",
     "text": [
      "'data.frame':\t80 obs. of  3 variables:\n",
      " $ resp   : num  0.5 0.485 0.456 0.441 0.427 ...\n",
      " $ x.donne: num  0 0.00505 0.01515 0.0202 0.02525 ...\n",
      " $ y.donne: num  1 0.99 0.97 0.96 0.949 ...\n",
      "'data.frame':\t20 obs. of  3 variables:\n",
      " $ resp   : num  0.1855 0.219 0.114 0.0941 0.0932 ...\n",
      " $ x.donne: num  0.465 0.116 0.187 0.394 0.207 ...\n",
      " $ y.donne: num  0.0707 0.7677 0.6263 0.2121 0.5859 ...\n"
     ]
    }
   ],
   "source": [
    "# construction de l'échantillon d'apprentissage\n",
    "mat.donne.appr <- mat.donne[appri,]\n",
    "# construction de l'échantillon test\n",
    "mat.donne.test <- mat.donne[testi,]\n",
    "# vérification\n",
    "str(mat.donne.appr)\n",
    "str(mat.donne.test)\n",
    "#summary(datappr) "
   ]
  },
  {
   "cell_type": "code",
   "execution_count": 17,
   "id": "e77437e1",
   "metadata": {},
   "outputs": [
    {
     "name": "stdout",
     "output_type": "stream",
     "text": [
      "Using automatic sigma estimation (sigest) for RBF or laplace kernel \n"
     ]
    }
   ],
   "source": [
    "gp.test <- gausspr(mat.donne.appr[,1]~.,data=mat.donne.appr) \n",
    "#kernelf(gp.test)"
   ]
  },
  {
   "cell_type": "code",
   "execution_count": 18,
   "id": "51923d02",
   "metadata": {},
   "outputs": [
    {
     "data": {
      "text/html": [
       "2.87618627015662e-05"
      ],
      "text/latex": [
       "2.87618627015662e-05"
      ],
      "text/markdown": [
       "2.87618627015662e-05"
      ],
      "text/plain": [
       "[1] 2.876186e-05"
      ]
     },
     "metadata": {},
     "output_type": "display_data"
    }
   ],
   "source": [
    "# Calcul des prévisions\n",
    "pred.gausspr=predict(gp.test,newdata=mat.donne.test)\n",
    "# Erreur quadratique moyenne de prévision\n",
    "sum((pred.gausspr-mat.donne.test[,1])^2)/npop"
   ]
  },
  {
   "cell_type": "code",
   "execution_count": 26,
   "metadata": {},
   "outputs": [
    {
     "data": {
      "image/png": "[encoded data removed]",
      "text/plain": [
       "plot without title"
      ]
     },
     "metadata": {
      "image/png": {
       "height": 420,
       "width": 420
      }
     },
     "output_type": "display_data"
    }
   ],
   "source": [
    "contour(x,sort(y),z)\n",
    "points(mat.donne.test[,2], mat.donne.test[,1], col=\"red\", pch = 17)  #points en rouges sont les vrais points pour la matrice de\n",
    "#test que l'on est censé retrouver\n",
    "points(mat.donne.test[,2],pred.gausspr, col=\"blue\")  #points en bleus sont les points prédits avec les processus gaussien\n"
   ]
  },
  {
   "cell_type": "code",
   "execution_count": 19,
   "id": "f4b75b88",
   "metadata": {},
   "outputs": [
    {
     "name": "stdout",
     "output_type": "stream",
     "text": [
      "Using automatic sigma estimation (sigest) for RBF or laplace kernel \n",
      " Setting default kernel parameters  \n",
      " Setting default kernel parameters  \n",
      " Setting default kernel parameters  \n",
      "Using automatic sigma estimation (sigest) for RBF or laplace kernel \n",
      " Setting default kernel parameters  \n",
      " Setting default kernel parameters  \n"
     ]
    }
   ],
   "source": [
    "gp.test1 <- gausspr(mat.donne.appr[,1]~.,data=mat.donne.appr,kernel=\"rbfdot\") \n",
    "gp.test2 <- gausspr(mat.donne.appr[,1]~.,data=mat.donne.appr,kernel=\"polydot\") \n",
    "gp.test3 <- gausspr(mat.donne.appr[,1]~.,data=mat.donne.appr,kernel=\"vanilladot\") \n",
    "gp.test4 <- gausspr(mat.donne.appr[,1]~.,data=mat.donne.appr,kernel=\"tanhdot\") \n",
    "gp.test5 <- gausspr(mat.donne.appr[,1]~.,data=mat.donne.appr,kernel=\"laplacedot\") \n",
    "gp.test6 <- gausspr(mat.donne.appr[,1]~.,data=mat.donne.appr,kernel=\"anovadot\") \n",
    "gp.test7 <- gausspr(mat.donne.appr[,1]~.,data=mat.donne.appr,kernel=\"splinedot\") "
   ]
  },
  {
   "cell_type": "code",
   "execution_count": 20,
   "metadata": {},
   "outputs": [
    {
     "data": {
      "text/html": [
       "2.80790988717578e-05"
      ],
      "text/latex": [
       "2.80790988717578e-05"
      ],
      "text/markdown": [
       "2.80790988717578e-05"
      ],
      "text/plain": [
       "[1] 2.80791e-05"
      ]
     },
     "metadata": {},
     "output_type": "display_data"
    },
    {
     "data": {
      "text/html": [
       "7.26094667940691e-07"
      ],
      "text/latex": [
       "7.26094667940691e-07"
      ],
      "text/markdown": [
       "7.26094667940691e-07"
      ],
      "text/plain": [
       "[1] 7.260947e-07"
      ]
     },
     "metadata": {},
     "output_type": "display_data"
    },
    {
     "data": {
      "text/html": [
       "7.26094667940811e-07"
      ],
      "text/latex": [
       "7.26094667940811e-07"
      ],
      "text/markdown": [
       "7.26094667940811e-07"
      ],
      "text/plain": [
       "[1] 7.260947e-07"
      ]
     },
     "metadata": {},
     "output_type": "display_data"
    },
    {
     "data": {
      "text/html": [
       "0.00824192333155054"
      ],
      "text/latex": [
       "0.00824192333155054"
      ],
      "text/markdown": [
       "0.00824192333155054"
      ],
      "text/plain": [
       "[1] 0.008241923"
      ]
     },
     "metadata": {},
     "output_type": "display_data"
    },
    {
     "data": {
      "text/html": [
       "0.000117153607116084"
      ],
      "text/latex": [
       "0.000117153607116084"
      ],
      "text/markdown": [
       "0.000117153607116084"
      ],
      "text/plain": [
       "[1] 0.0001171536"
      ]
     },
     "metadata": {},
     "output_type": "display_data"
    },
    {
     "data": {
      "text/html": [
       "6.33839357699262e-06"
      ],
      "text/latex": [
       "6.33839357699262e-06"
      ],
      "text/markdown": [
       "6.33839357699262e-06"
      ],
      "text/plain": [
       "[1] 6.338394e-06"
      ]
     },
     "metadata": {},
     "output_type": "display_data"
    },
    {
     "data": {
      "text/html": [
       "2.84152161119848e-06"
      ],
      "text/latex": [
       "2.84152161119848e-06"
      ],
      "text/markdown": [
       "2.84152161119848e-06"
      ],
      "text/plain": [
       "[1] 2.841522e-06"
      ]
     },
     "metadata": {},
     "output_type": "display_data"
    }
   ],
   "source": [
    "pred.gausspr=predict(gp.test1,newdata=mat.donne.test)\n",
    "# Erreur quadratique moyenne de prévision\n",
    "sum((pred.gausspr-mat.donne.test[,1])^2)/npop\n",
    "pred.gausspr=predict(gp.test2,newdata=mat.donne.test)\n",
    "# Erreur quadratique moyenne de prévision\n",
    "sum((pred.gausspr-mat.donne.test[,1])^2)/npop\n",
    "pred.gausspr=predict(gp.test3,newdata=mat.donne.test)\n",
    "# Erreur quadratique moyenne de prévision\n",
    "sum((pred.gausspr-mat.donne.test[,1])^2)/npop\n",
    "pred.gausspr=predict(gp.test4,newdata=mat.donne.test)\n",
    "# Erreur quadratique moyenne de prévision\n",
    "sum((pred.gausspr-mat.donne.test[,1])^2)/npop\n",
    "pred.gausspr=predict(gp.test5,newdata=mat.donne.test)\n",
    "# Erreur quadratique moyenne de prévision\n",
    "sum((pred.gausspr-mat.donne.test[,1])^2)/npop\n",
    "pred.gausspr=predict(gp.test6,newdata=mat.donne.test)\n",
    "# Erreur quadratique moyenne de prévision\n",
    "sum((pred.gausspr-mat.donne.test[,1])^2)/npop\n",
    "pred.gausspr=predict(gp.test7,newdata=mat.donne.test)\n",
    "# Erreur quadratique moyenne de prévision\n",
    "sum((pred.gausspr-mat.donne.test[,1])^2)/npop"
   ]
  },
  {
   "cell_type": "code",
   "execution_count": 21,
   "id": "2492f882",
   "metadata": {},
   "outputs": [
    {
     "data": {
      "text/html": [
       "0.0154610408213222"
      ],
      "text/latex": [
       "0.0154610408213222"
      ],
      "text/markdown": [
       "0.0154610408213222"
      ],
      "text/plain": [
       "[1] 0.01546104"
      ]
     },
     "metadata": {},
     "output_type": "display_data"
    },
    {
     "data": {
      "text/html": [
       "0.000241690965341166"
      ],
      "text/latex": [
       "0.000241690965341166"
      ],
      "text/markdown": [
       "0.000241690965341166"
      ],
      "text/plain": [
       "[1] 0.000241691"
      ]
     },
     "metadata": {},
     "output_type": "display_data"
    },
    {
     "data": {
      "text/html": [
       "0.0002416909653412"
      ],
      "text/latex": [
       "0.0002416909653412"
      ],
      "text/markdown": [
       "0.0002416909653412"
      ],
      "text/plain": [
       "[1] 0.000241691"
      ]
     },
     "metadata": {},
     "output_type": "display_data"
    },
    {
     "data": {
      "text/html": [
       "2.52122780614122"
      ],
      "text/latex": [
       "2.52122780614122"
      ],
      "text/markdown": [
       "2.52122780614122"
      ],
      "text/plain": [
       "[1] 2.521228"
      ]
     },
     "metadata": {},
     "output_type": "display_data"
    },
    {
     "data": {
      "text/html": [
       "0.0305184894157187"
      ],
      "text/latex": [
       "0.0305184894157187"
      ],
      "text/markdown": [
       "0.0305184894157187"
      ],
      "text/plain": [
       "[1] 0.03051849"
      ]
     },
     "metadata": {},
     "output_type": "display_data"
    },
    {
     "data": {
      "text/html": [
       "0.00441434825967213"
      ],
      "text/latex": [
       "0.00441434825967213"
      ],
      "text/markdown": [
       "0.00441434825967213"
      ],
      "text/plain": [
       "[1] 0.004414348"
      ]
     },
     "metadata": {},
     "output_type": "display_data"
    },
    {
     "data": {
      "text/html": [
       "0.00109824514329274"
      ],
      "text/latex": [
       "0.00109824514329274"
      ],
      "text/markdown": [
       "0.00109824514329274"
      ],
      "text/plain": [
       "[1] 0.001098245"
      ]
     },
     "metadata": {},
     "output_type": "display_data"
    }
   ],
   "source": [
    "error(gp.test1)\n",
    "error(gp.test2)\n",
    "error(gp.test3)\n",
    "error(gp.test4)\n",
    "error(gp.test5)\n",
    "error(gp.test6)\n",
    "error(gp.test7)"
   ]
  },
  {
   "cell_type": "code",
   "execution_count": 27,
   "id": "12d97f2a",
   "metadata": {},
   "outputs": [
    {
     "name": "stdout",
     "output_type": "stream",
     "text": [
      " Setting default kernel parameters  \n"
     ]
    }
   ],
   "source": [
    "gp.test.poly<- gausspr(mat.donne.appr[,1]~.,data=mat.donne.appr,kernel=\"polydot\",cross=5)\n",
    "# ici les parametres sont à 1 par defaut \n",
    "#If the offset in the Polynomial kernel is set to $0$, we obtain homogeneous polynomial kernels, for\n",
    "#positive values, we have inhomogeneous kernels. Note that for negative values the kernel does not\n",
    "#satisfy Mercer’s condition and thus the optimizers may fail"
   ]
  },
  {
   "cell_type": "code",
   "execution_count": 23,
   "id": "66622bf9",
   "metadata": {},
   "outputs": [
    {
     "name": "stdout",
     "output_type": "stream",
     "text": [
      "Using automatic sigma estimation (sigest) for RBF or laplace kernel \n"
     ]
    },
    {
     "ename": "ERROR",
     "evalue": "Error in UseMethod(\"predict\"): pas de méthode pour 'predict' applicable pour un objet de classe \"c('gausspr', 'vm')\"\n",
     "output_type": "error",
     "traceback": [
      "Error in UseMethod(\"predict\"): pas de méthode pour 'predict' applicable pour un objet de classe \"c('gausspr', 'vm')\"\nTraceback:\n",
      "1. tune(gausspr, mat.donne.appr[, 1] ~ ., data = mat.donne.appr)",
      "2. predict.func(model, if (!is.null(validation.x)) validation.x else if (useFormula) data[-train.ind[[sample]], \n .     , drop = FALSE] else if (inherits(train.x, \"matrix.csr\")) train.x[-train.ind[[sample]], \n .     ] else train.x[-train.ind[[sample]], , drop = FALSE])"
     ]
    }
   ],
   "source": [
    "#gp.poly.tune <- tune(gausspr,mat.donne.appr[,1]~.,data=mat.donne.appr)"
   ]
  },
  {
   "cell_type": "code",
   "execution_count": 30,
   "metadata": {},
   "outputs": [
    {
     "data": {
      "text/html": [
       "7.26094667940691e-07"
      ],
      "text/latex": [
       "7.26094667940691e-07"
      ],
      "text/markdown": [
       "7.26094667940691e-07"
      ],
      "text/plain": [
       "[1] 7.260947e-07"
      ]
     },
     "metadata": {},
     "output_type": "display_data"
    }
   ],
   "source": [
    "# Calcul des prévisions\n",
    "pred.gausspr.poly=predict(gp.test.poly,newdata=mat.donne.test)\n",
    "# Erreur quadratique moyenne de prévision\n",
    "sum((pred.gausspr.poly-mat.donne.test[,1])^2)/npop"
   ]
  },
  {
   "cell_type": "code",
   "execution_count": 31,
   "id": "d854064b",
   "metadata": {},
   "outputs": [
    {
     "data": {
      "image/png": "[encoded data removed]",
      "text/plain": [
       "plot without title"
      ]
     },
     "metadata": {
      "image/png": {
       "height": 420,
       "width": 420
      }
     },
     "output_type": "display_data"
    }
   ],
   "source": [
    "contour(x,sort(y),z)\n",
    "points(mat.donne.test[,2], mat.donne.test[,1], col=\"red\", pch = 17)  #points en rouges sont les vrais points pour la matrice de\n",
    "#test que l'on est censé retrouver\n",
    "points(mat.donne.test[,2],pred.gausspr.poly, col=\"blue\")  #points en bleus sont les points prédits avec les processus gaussien\n"
   ]
  },
  {
   "cell_type": "code",
   "execution_count": 32,
   "id": "b57fab47",
   "metadata": {},
   "outputs": [
    {
     "data": {
      "text/plain": [
       "\n",
       "Parameter tuning of 'nnet':\n",
       "\n",
       "- sampling method: 10-fold cross validation \n",
       "\n",
       "- best parameters:\n",
       " size decay\n",
       "    5 0.001\n",
       "\n",
       "- best performance: 0.0007849693 \n"
      ]
     },
     "metadata": {},
     "output_type": "display_data"
    },
    {
     "data": {
      "image/png": "[encoded data removed]",
      "text/plain": [
       "Plot with title \"Performance of `nnet'\""
      ]
     },
     "metadata": {
      "image/png": {
       "height": 420,
       "width": 420
      }
     },
     "output_type": "display_data"
    }
   ],
   "source": [
    "library(\"e1071\")\n",
    "tune.model = tune.nnet(resp~., data = mat.donne.appr, size = c (1, 3, 5),decay = c (0.1, 0.001, 0.000001))\n",
    "plot(tune.model)\n",
    "tune.model"
   ]
  },
  {
   "cell_type": "code",
   "execution_count": 33,
   "id": "d702cb64",
   "metadata": {},
   "outputs": [
    {
     "name": "stdout",
     "output_type": "stream",
     "text": [
      "# weights:  26\n",
      "initial  value 17.105612 \n",
      "iter  10 value 3.310730\n",
      "iter  20 value 3.303126\n",
      "iter  30 value 3.285262\n",
      "iter  40 value 3.135071\n",
      "iter  50 value 0.475513\n",
      "iter  60 value 0.104362\n",
      "iter  70 value 0.081382\n",
      "iter  80 value 0.078504\n",
      "iter  90 value 0.077681\n",
      "iter 100 value 0.077388\n",
      "iter 110 value 0.077203\n",
      "iter 120 value 0.076621\n",
      "iter 130 value 0.075694\n",
      "iter 140 value 0.075270\n",
      "iter 150 value 0.074624\n",
      "iter 160 value 0.074081\n",
      "iter 170 value 0.073491\n",
      "iter 180 value 0.072205\n",
      "iter 190 value 0.071591\n",
      "iter 200 value 0.071283\n",
      "iter 210 value 0.071202\n",
      "iter 220 value 0.071151\n",
      "iter 230 value 0.071116\n",
      "iter 240 value 0.071088\n",
      "iter 250 value 0.071075\n",
      "iter 260 value 0.071064\n",
      "iter 270 value 0.071060\n",
      "iter 280 value 0.071053\n",
      "iter 290 value 0.071050\n",
      "iter 300 value 0.071047\n",
      "iter 310 value 0.071043\n",
      "iter 320 value 0.071042\n",
      "iter 330 value 0.071042\n",
      "iter 340 value 0.071042\n",
      "iter 350 value 0.071040\n",
      "iter 360 value 0.071039\n",
      "final  value 0.071039 \n",
      "converged\n"
     ]
    },
    {
     "data": {
      "text/plain": [
       "a 3-5-1 network with 26 weights\n",
       "inputs: resp x.donne y.donne \n",
       "output(s): mat.donne.appr[, 1] \n",
       "options were - decay=0.001"
      ]
     },
     "metadata": {},
     "output_type": "display_data"
    }
   ],
   "source": [
    "nnet.reg.test=nnet(mat.donne.appr[,1]~.,data=mat.donne.appr,size=5, decay=0.001,maxit=500)\n",
    "# calcul et graphe des résidus\n",
    "nnet.reg.test"
   ]
  },
  {
   "cell_type": "code",
   "execution_count": 34,
   "id": "c0aabde5",
   "metadata": {},
   "outputs": [
    {
     "data": {
      "text/html": [
       "2.95473826458667e-05"
      ],
      "text/latex": [
       "2.95473826458667e-05"
      ],
      "text/markdown": [
       "2.95473826458667e-05"
      ],
      "text/plain": [
       "[1] 2.954738e-05"
      ]
     },
     "metadata": {},
     "output_type": "display_data"
    }
   ],
   "source": [
    "# Calcul des prévisions\n",
    "pred.nnetr.test=predict(nnet.reg.test,newdata=mat.donne.test)\n",
    "# Erreur quadratique moyenne de prévision\n",
    "sum((pred.nnetr.test-mat.donne.test[,1])^2)/npop\n",
    "\n",
    "# qd on grade vis au lieu de log vis on a l'erreur 9.98444881698066e+22"
   ]
  },
  {
   "cell_type": "code",
   "execution_count": 35,
   "id": "f24e2911",
   "metadata": {},
   "outputs": [
    {
     "data": {
      "image/png": "[encoded data removed]",
      "text/plain": [
       "plot without title"
      ]
     },
     "metadata": {
      "image/png": {
       "height": 420,
       "width": 420
      }
     },
     "output_type": "display_data"
    }
   ],
   "source": [
    "contour(x,sort(y),z)\n",
    "points(mat.donne.test[,2], mat.donne.test[,1], col=\"red\", pch = 17)  #points en rouges sont les vrais points pour la matrice de\n",
    "#test que l'on est censé retrouver\n",
    "points(mat.donne.test[,2],pred.nnetr.test, col=\"blue\")  #points en bleus sont les points prédits avec les processus gaussien\n"
   ]
  },
  {
   "cell_type": "code",
   "execution_count": null,
   "id": "b8998991",
   "metadata": {},
   "outputs": [],
   "source": [
    "pred.nnetr.test"
   ]
  },
  {
   "cell_type": "code",
   "execution_count": null,
   "id": "c0049f7c",
   "metadata": {},
   "outputs": [],
   "source": []
  }
 ],
 "metadata": {
  "kernelspec": {
   "display_name": "R",
   "language": "R",
   "name": "ir"
  },
  "language_info": {
   "codemirror_mode": "r",
   "file_extension": ".r",
   "mimetype": "text/x-r-source",
   "name": "R",
   "pygments_lexer": "r",
   "version": "4.1.0"
  }
 },
 "nbformat": 4,
 "nbformat_minor": 5
}
