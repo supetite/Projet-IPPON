{
 "cells": [
  {
   "cell_type": "code",
   "execution_count": 1,
   "id": "109ea06b",
   "metadata": {},
   "outputs": [
    {
     "data": {
      "text/html": [
       "<style>\n",
       ".list-inline {list-style: none; margin:0; padding: 0}\n",
       ".list-inline>li {display: inline-block}\n",
       ".list-inline>li:not(:last-child)::after {content: \"\\00b7\"; padding: 0 .5ex}\n",
       "</style>\n",
       "<ol class=list-inline><li>7247</li><li>20</li></ol>\n"
      ],
      "text/latex": [
       "\\begin{enumerate*}\n",
       "\\item 7247\n",
       "\\item 20\n",
       "\\end{enumerate*}\n"
      ],
      "text/markdown": [
       "1. 7247\n",
       "2. 20\n",
       "\n",
       "\n"
      ],
      "text/plain": [
       "[1] 7247   20"
      ]
     },
     "metadata": {},
     "output_type": "display_data"
    },
    {
     "data": {
      "text/html": [
       "<style>\n",
       ".list-inline {list-style: none; margin:0; padding: 0}\n",
       ".list-inline>li {display: inline-block}\n",
       ".list-inline>li:not(:last-child)::after {content: \"\\00b7\"; padding: 0 .5ex}\n",
       "</style>\n",
       "<ol class=list-inline><li>7247</li><li>29</li></ol>\n"
      ],
      "text/latex": [
       "\\begin{enumerate*}\n",
       "\\item 7247\n",
       "\\item 29\n",
       "\\end{enumerate*}\n"
      ],
      "text/markdown": [
       "1. 7247\n",
       "2. 29\n",
       "\n",
       "\n"
      ],
      "text/plain": [
       "[1] 7247   29"
      ]
     },
     "metadata": {},
     "output_type": "display_data"
    }
   ],
   "source": [
    "\n",
    "data<-read.csv(\"data_visco.csv\")\n",
    "data_lasso <- read.csv(\"data_lasso.csv\")\n",
    "data_AIC <- read.csv(\"data_AIC.csv\")\n",
    "dim(data_AIC)\n",
    "dim(data_lasso)"
   ]
  },
  {
   "cell_type": "code",
   "execution_count": 2,
   "id": "3920ba1e",
   "metadata": {},
   "outputs": [
    {
     "name": "stderr",
     "output_type": "stream",
     "text": [
      "Warning message:\n",
      "\"le package 'KrigInv' a été compilé avec la version R 4.1.3\"\n",
      "Le chargement a nécessité le package : DiceKriging\n",
      "\n",
      "Warning message:\n",
      "\"le package 'DiceKriging' a été compilé avec la version R 4.1.2\"\n",
      "Warning message:\n",
      "\"le package 'nloptr' a été compilé avec la version R 4.1.2\"\n"
     ]
    }
   ],
   "source": [
    "# Charger la librairie\n",
    "library(\"KrigInv\") #Pour t-IMSE\n",
    "library(\"nloptr\") #Pour la fonction d'optimisation Cobyla\n"
   ]
  },
  {
   "cell_type": "code",
   "execution_count": 3,
   "id": "8d575eaa",
   "metadata": {},
   "outputs": [
    {
     "name": "stderr",
     "output_type": "stream",
     "text": [
      "Warning message:\n",
      "\"le package 'kernlab' a été compilé avec la version R 4.1.3\"\n",
      "Warning message:\n",
      "\"le package 'MASS' a été compilé avec la version R 4.1.1\"\n"
     ]
    }
   ],
   "source": [
    "#install.packages(\"MASS\")\n",
    "#install.packages(\"kernlab\")\n",
    "library(\"kernlab\")\n",
    "library(\"MASS\")\n",
    "library(\"nnet\")\n",
    "help(gausspr)"
   ]
  },
  {
   "cell_type": "code",
   "execution_count": 4,
   "id": "775d2b8c",
   "metadata": {},
   "outputs": [],
   "source": [
    "set.seed(177) # initialisation du générateur\n",
    "# Extraction des échantillons\n",
    "test.ratio <- .2   # part de l'échantillon test\n",
    "npop <- nrow(data) # nombre de lignes dans les données\n",
    "nvar <- ncol(data) # nombre de colonnes\n",
    "# taille de l'échantillon test\n",
    "ntest <- ceiling(npop * test.ratio) \n",
    "# indices de l'échantillon test\n",
    "testi <- sample(1:npop, ntest)\n",
    "# indices de l'échantillon d'apprentissage\n",
    "appri <- setdiff(1:npop, testi) "
   ]
  },
  {
   "cell_type": "code",
   "execution_count": 5,
   "id": "3bea3e77",
   "metadata": {},
   "outputs": [
    {
     "name": "stdout",
     "output_type": "stream",
     "text": [
      "'data.frame':\t5797 obs. of  116 variables:\n",
      " $ vis   : num  4433 25 17 21 64 ...\n",
      " $ X__2  : num  0 0.39 0 0 0 0 0 0 0 0 ...\n",
      " $ X__3  : num  0 0 0 0 0 0 0 0 0 0 ...\n",
      " $ X__4  : num  9.42 3.58 3.33 3.81 0 ...\n",
      " $ X__5  : num  0 0 0 0 0 0 0 0 0 0 ...\n",
      " $ X__6  : num  0 0 0 0 0 0 0 0 0 0 ...\n",
      " $ X__7  : num  0 0 0 0 0 0 0 0 0 0 ...\n",
      " $ X__8  : num  8.53 14.25 14.84 14.08 0 ...\n",
      " $ X__9  : num  0 0 0 0 0 0 0 0 0 0 ...\n",
      " $ X__10 : num  0 0 0 0 0 0 0 0 0 0 ...\n",
      " $ X__11 : num  0 0 0 0 0 0 0 0 0 0 ...\n",
      " $ X__12 : num  0 0 0 0 0 0 0 0 0 0 ...\n",
      " $ X__13 : num  0 0 0 0 0 0 0 0 0 0 ...\n",
      " $ X__16 : num  0 0 0 0 0 0 0 0 0 0 ...\n",
      " $ X__17 : num  0 0 0 0 0 0 0 0 0 0 ...\n",
      " $ X__18 : num  0 1.88 3.51 3.3 0 2 10.6 0 0.15 5.9 ...\n",
      " $ X__19 : num  0 0 0 0 0 0 0 0 0 0 ...\n",
      " $ X__20 : num  0 0.68 3.65 0.67 0 0 0 0 0 0 ...\n",
      " $ X__21 : num  0 0 0 0 0 0 0 0 0 0 ...\n",
      " $ X__22 : num  0 0 0 0 0 0 0 0 0 0 ...\n",
      " $ X__23 : num  0 0 0 0 0 0 0 0 0 0 ...\n",
      " $ X__24 : num  0 0.46 0 0 0 0 0 0 0 0 ...\n",
      " $ X__25 : num  0 0 0 0 0 0 0 0 0 0 ...\n",
      " $ X__26 : num  0 0 0 0 0 0 0 0 0 0 ...\n",
      " $ X__27 : num  0 0 0 0 0 0 0 0 0 0 ...\n",
      " $ X__29 : num  0 0 0.16 0.09 0 0 0 0 0 0 ...\n",
      " $ X__30 : num  0 0 0 0 0 0 0 0 0 0 ...\n",
      " $ X__31 : num  0 0 0 0 0 0 0 0 0 0 ...\n",
      " $ X__32 : num  0 0 0 0 0 0 0 0 0 0 ...\n",
      " $ X__33 : num  0 0 0 0 0 0 0 0 0 0 ...\n",
      " $ X__34 : num  0 0 0 0 0 0 0 0 0 0 ...\n",
      " $ X__35 : num  0 0 0 0 0 0 0 0 0 0 ...\n",
      " $ X__36 : num  0 0.08 0 2.36 0 0 0 0 0 0 ...\n",
      " $ X__37 : num  0 0 0 0 0 0 0 0 0 0 ...\n",
      " $ X__38 : num  0 0 0 0 0 0 0 0 0 0 ...\n",
      " $ X__39 : num  0 9.22 9.91 9.28 0 3 0 0 0.01 0.12 ...\n",
      " $ X__40 : num  0 0 0 0 0 0 0 0 0 0 ...\n",
      " $ X__43 : num  0 0 0 0 0 0 0 0 0 0 ...\n",
      " $ X__44 : num  0 0 0 0 0 0 0 0 0 0 ...\n",
      " $ X__45 : num  0 0 0 0 0 0 0 0 0 0 ...\n",
      " $ X__46 : num  0 0.8 0 0 0 0 0 0 0 0 ...\n",
      " $ X__47 : num  0 0 0 0 0 0 0 0 0 0 ...\n",
      " $ X__48 : num  0 0 0 0 0 0 0 0 0 0 ...\n",
      " $ X__49 : num  0 0 0 0 0 0 0 0 0 0 ...\n",
      " $ X__50 : num  0 0 0 0 0 0 0 0 0 0 ...\n",
      " $ X__51 : num  0 0 0 0 0 0 0 0 0 0 ...\n",
      " $ X__53 : num  0 0.08 0 0 0 ...\n",
      " $ X__54 : num  0 0 0 0 0 0 0 0 0 0 ...\n",
      " $ X__55 : num  0 0 0 0 0 0 0 0 0 0 ...\n",
      " $ X__56 : num  0 0 0 0 0 0 0 0 0 0 ...\n",
      " $ X__57 : num  0 0 0 0 0 0 0 0 0 0 ...\n",
      " $ X__58 : num  0 0 0 0 0 0 0 0 0 0 ...\n",
      " $ X__59 : num  0 1.78 2.47 1.66 0 2 0 0 0 0 ...\n",
      " $ X__64 : num  0 2.29 0.04 0 0 0 0 0 0 8.41 ...\n",
      " $ X__65 : num  0 0 0 0 0 0 0 0 0 0 ...\n",
      " $ X__66 : num  0 0 0 0 0 0 0 0 0 0 ...\n",
      " $ X__67 : num  0 0 0 0 0 0 0 0 0 0.00501 ...\n",
      " $ X__68 : num  0 0 0 0 0 0 0 0 0 0 ...\n",
      " $ X__69 : num  0 0 0 0 0 0 0 0 0 0 ...\n",
      " $ X__70 : num  0 0 0 0 0 0 0 0 0 0 ...\n",
      " $ X__71 : num  0 0 0 0 0 0 0 0 0 0 ...\n",
      " $ X__72 : num  0 0 0 0 0 0 0 0 0 0 ...\n",
      " $ X__73 : num  0 0 0 0 0 0 0 0 0 0 ...\n",
      " $ X__74 : num  11.7 12.8 13.1 13.3 33.5 ...\n",
      " $ X__75 : num  0 0 0 0 0 0 0 0 0 0 ...\n",
      " $ X__76 : num  0 1.41 1.26 1.25 0 2 0 0 0 0 ...\n",
      " $ X__78 : num  0 0 0 0 0 0 0 0 0 0 ...\n",
      " $ X__81 : num  0 0 0 0 0 0 0 0 0 0 ...\n",
      " $ X__82 : num  0 0 0 0 0 0 0 0 0 0 ...\n",
      " $ X__83 : num  0 0 0 0 0 0 0 0 0 0 ...\n",
      " $ X__84 : num  0 0 0 0 0 0 0 0 0 0 ...\n",
      " $ X__86 : num  0 0 0 0 0 0 0 0 0 0 ...\n",
      " $ X__87 : num  0 0 0 0 0 0 0 0 0 0 ...\n",
      " $ X__88 : num  0 0 0 0 0 ...\n",
      " $ X__89 : num  0 0 0 0 0 0 0 0 0 0 ...\n",
      " $ X__90 : num  0 0 0 0 0 0 0 0 0 0 ...\n",
      " $ X__91 : num  0 0 0 0 0 0 0 0 0 0 ...\n",
      " $ X__92 : num  0 0 0 0 0 0 0 0 0 0 ...\n",
      " $ X__93 : num  0 0 0 0 0 0 0 0 0 0 ...\n",
      " $ X__94 : num  0 0 0 0 0 0 0 0 0 0 ...\n",
      " $ X__95 : num  0 0 0 0 0 0 0 0 0 0 ...\n",
      " $ X__96 : num  0 0 0 0 0 0 0 0 0 0 ...\n",
      " $ X__98 : num  0 0 0 0 0 0 0 0 0 0 ...\n",
      " $ X__99 : num  0 0 0 0 0 0 0 0 0 0 ...\n",
      " $ X__100: num  0 0 0 0 0 0 0 0 0 0 ...\n",
      " $ X__101: num  0 0 0 0 0 0 0 0 0 0 ...\n",
      " $ X__103: num  0 0 0 0 0 0 0 0 0 0 ...\n",
      " $ X__104: num  0 0 0 0 0 0 0 0 0 0 ...\n",
      " $ X__106: num  0 0 0 0 0 0 0 0 0 0 ...\n",
      " $ X__108: num  0 0 0 0 0 0 0 0 0 0 ...\n",
      " $ X__109: num  70.3 45.4 46.2 45.5 66.5 ...\n",
      " $ X__110: num  0 0 0 0 0 0 0 0 0 0 ...\n",
      " $ X__111: num  0 0 0 0 0 0 0 0 0 0 ...\n",
      " $ X__112: num  0 0 0 0 0 0 0 0 0 0 ...\n",
      " $ X__113: num  0 0 0 0 0 0 0 0 0 0 ...\n",
      " $ X__114: num  0 0 0 0 0 0 0 0 0 0 ...\n",
      " $ X__115: num  0 0 0.31 0.08 0 0 0 0 0 0 ...\n",
      " $ X__116: num  0 0 0 0 0 0 0 0 0 0 ...\n",
      " $ X__117: num  0 0 0 0 0 0 0 0 0 0 ...\n",
      "  [list output truncated]\n",
      "'data.frame':\t1450 obs. of  116 variables:\n",
      " $ vis   : num  756 126 1292 115186 118 ...\n",
      " $ X__2  : num  0 0 0 0 0 0 0 0 0 0 ...\n",
      " $ X__3  : num  0 0 0 0 0 0 0 0 0 0 ...\n",
      " $ X__4  : num  2.2 3.99 6.46 15.89 0.2 ...\n",
      " $ X__5  : num  0 0 0 0.99 0 0 0.5 0 0 0 ...\n",
      " $ X__6  : num  0 0 0 0 0 0 0 0 0 0 ...\n",
      " $ X__7  : num  0 0 0 0 0 0 0 0 0 0 ...\n",
      " $ X__8  : num  3.7 0 11.2 11.2 0 ...\n",
      " $ X__9  : num  0 0 0 0 0 0 0 0 0 0 ...\n",
      " $ X__10 : num  0.5 0 26.8 0 0 ...\n",
      " $ X__11 : num  0 0 0 0 0 0 0 0 0 0 ...\n",
      " $ X__12 : num  0 0 0 0 0 0 0 0 0 0 ...\n",
      " $ X__13 : num  0 0 0 0 0 0 0 0 0 0 ...\n",
      " $ X__16 : num  0 0 0 0 0 0 0 0 0 0 ...\n",
      " $ X__17 : num  0 0 0 0 0 0 0 0 0 0 ...\n",
      " $ X__18 : num  4.9 2.29 0 8.27 16.5 6 0 2.95 7 0 ...\n",
      " $ X__19 : num  0 0 0 0 0 0 0 0 0 0 ...\n",
      " $ X__20 : num  0 0 0 0 0 ...\n",
      " $ X__21 : num  0 0 0 0 0 0 0 0 0 0 ...\n",
      " $ X__22 : num  0 0 0 0 0 0 0 0 0 0 ...\n",
      " $ X__23 : num  0 0 0 0 0 ...\n",
      " $ X__24 : num  0 0 0 0 0 0 0 0 0 0 ...\n",
      " $ X__25 : num  0 0 0 0 0 0 0 0 0 0 ...\n",
      " $ X__26 : num  0 0 0 0 0 0 0 0 0 0 ...\n",
      " $ X__27 : num  0 0 0 0 0 0 0 0 0 0 ...\n",
      " $ X__29 : num  0 0 0 0 0 0 0 0 0.056 0 ...\n",
      " $ X__30 : num  0 0 0 0 0 ...\n",
      " $ X__31 : num  0 0 0 0 0 0 0 0 0 0 ...\n",
      " $ X__32 : num  0 0 0 0 0 ...\n",
      " $ X__33 : num  0 0 0 0 0 0 0 0 0 0 ...\n",
      " $ X__34 : num  0 0 0 0 0 0 0 0 0 0 ...\n",
      " $ X__35 : num  0 0 0 0 0 0 0 0 0 0 ...\n",
      " $ X__36 : num  0 0 0 0 0 ...\n",
      " $ X__37 : num  0 0 0 0 0 0 0 0 0 0 ...\n",
      " $ X__38 : num  0 0 0 0 0 0 0 0 0 0 ...\n",
      " $ X__39 : num  0.1 0 0 0 0 0.01 0 0 4.5 0 ...\n",
      " $ X__40 : num  0 0 0 0 0 0 0 0 0 0 ...\n",
      " $ X__43 : num  0 0 0 0 0 0 0 0 0 0 ...\n",
      " $ X__44 : num  0 0 0 0 0 0 0 0 0 0 ...\n",
      " $ X__45 : num  0 0 0 0 0 0 0 0 0 0 ...\n",
      " $ X__46 : num  0 0 0 0 0 0 0 0 0 0 ...\n",
      " $ X__47 : num  0 0 0 0 0 0 0 0 0 0 ...\n",
      " $ X__48 : num  0 0 0 0 0 0 0 0 0 0 ...\n",
      " $ X__49 : num  0 0 0 0 0 0 0 0 0 0 ...\n",
      " $ X__50 : num  0 0 0 0 0 0 0 0 0 0 ...\n",
      " $ X__51 : num  0 0 0 0 0 0 0 0 0 0 ...\n",
      " $ X__53 : num  2.9 0.29 5.97 0 0.7 0 5.46 2.75 0 4.06 ...\n",
      " $ X__54 : num  0 0 0 0 0 0 0 0 0 0 ...\n",
      " $ X__55 : num  0 0 0 0 0 0 0 0 0 0 ...\n",
      " $ X__56 : num  0 0 0 0 0 0 0 0 0 0 ...\n",
      " $ X__57 : num  0 0 0 0 0 ...\n",
      " $ X__58 : num  0 0 0 0 0 0 0 0 0 0 ...\n",
      " $ X__59 : num  0 15 0 0 0 ...\n",
      " $ X__64 : num  3.1 3.99 0 0.09 3.2 0.5 0 1.9 1 0 ...\n",
      " $ X__65 : num  0 0 0 0 0 0 0 0 0 0 ...\n",
      " $ X__66 : num  0 0 0 0 0 0 0 0 0 0 ...\n",
      " $ X__67 : num  0 0 0 0 0 0 0 0 0 0 ...\n",
      " $ X__68 : num  0 0 0 0 0 ...\n",
      " $ X__69 : num  0 0 0 0 0 0 0 0 0 0 ...\n",
      " $ X__70 : num  0 0 0 0 0 ...\n",
      " $ X__71 : num  0 0 0 0 0 0 0 0 0 0 ...\n",
      " $ X__72 : num  0 0 0 0 0 0 0 0 0 0 ...\n",
      " $ X__73 : num  0 0 0 0 0 0 0 0 0 0 ...\n",
      " $ X__74 : num  10.8 13 0 0 15.4 ...\n",
      " $ X__75 : num  0 0 0 0 0 0 0 0 0 0 ...\n",
      " $ X__76 : num  0 0 0 0 0 ...\n",
      " $ X__78 : num  0 0 0 0 0 0 0 0 0 0 ...\n",
      " $ X__81 : num  0 0 0 0 0 ...\n",
      " $ X__82 : num  0 0 0 0 0 0 0 0 0 0 ...\n",
      " $ X__83 : num  0 0 0 0 0 0 0 0 0 0 ...\n",
      " $ X__84 : num  0 0 0 0 0 0 0 0 0 0 ...\n",
      " $ X__86 : num  0 0 0 0 3.3 ...\n",
      " $ X__87 : num  0 0 0 0 0 0 0 0 0 0 ...\n",
      " $ X__88 : num  0 0 0 0 0 ...\n",
      " $ X__89 : num  0 0 0 0 0 0 0 0 0 0 ...\n",
      " $ X__90 : num  0 0 0 0 0 0 0 0 0.0225 0 ...\n",
      " $ X__91 : num  0 0 0 0 0 0 0 0 0 0 ...\n",
      " $ X__92 : num  0 0 0 0 0 ...\n",
      " $ X__93 : num  0 0 0 0 0 0 0 0 0.0225 0 ...\n",
      " $ X__94 : num  0 0 0 0 0 0 0 0 0 0 ...\n",
      " $ X__95 : num  0 0 0 0 0 0 0 0 0 0 ...\n",
      " $ X__96 : num  0 0 0 0 0 0 0 0 0.0225 0 ...\n",
      " $ X__98 : num  0 0 0 0 0 ...\n",
      " $ X__99 : num  0 0 0 0 0 0 0 0 0 0 ...\n",
      " $ X__100: num  0 0 0 0 0 0 0.25 0 0 0 ...\n",
      " $ X__101: num  0 0 0 0 0 0 0 0 0 0 ...\n",
      " $ X__103: num  0 0 0 0 0 0 0 0 0 0 ...\n",
      " $ X__104: num  0 0 0 0 0 0 0 0 0 0 ...\n",
      " $ X__106: num  0 0 0 0 0 0 0 0 0 0 ...\n",
      " $ X__108: num  0 0 0 0 0 0 0 0 0 0 ...\n",
      " $ X__109: num  68.6 61.4 48.9 63.5 60.7 ...\n",
      " $ X__110: num  0 0 0 0 0 0 0 0 0.0225 0 ...\n",
      " $ X__111: num  0 0 0 0 0 0 0 0 0 0 ...\n",
      " $ X__112: num  0 0 0 0 0 0 0 0 0 0 ...\n",
      " $ X__113: num  0 0 0.19 0.04 0 0.3 0 0 0 0 ...\n",
      " $ X__114: num  0 0 0 0 0 0 0 0 0 0 ...\n",
      " $ X__115: num  0.1 0 0 0 0 ...\n",
      " $ X__116: num  0 0 0 0 0 0 0 0 0 0 ...\n",
      " $ X__117: num  2.6 0 0.37 0 0 ...\n",
      "  [list output truncated]\n"
     ]
    }
   ],
   "source": [
    "# construction de l'échantillon d'apprentissage\n",
    "datappr <- data[appri,]\n",
    "# construction de l'échantillon test\n",
    "datestr <- data[testi,]\n",
    "# vérification\n",
    "str(datappr)\n",
    "str(datestr)\n",
    "#summary(datappr) "
   ]
  },
  {
   "cell_type": "code",
   "execution_count": null,
   "id": "638b393b",
   "metadata": {},
   "outputs": [
    {
     "name": "stderr",
     "output_type": "stream",
     "text": [
      "Warning message in .local(x, ...):\n",
      "\"Variable(s) `' constant. Cannot scale data.\"\n"
     ]
    }
   ],
   "source": [
    "gp=gausspr(vis~.,data=datappr) "
   ]
  },
  {
   "cell_type": "code",
   "execution_count": null,
   "id": "9afca7d6",
   "metadata": {},
   "outputs": [],
   "source": [
    "# Calcul des prévisions\n",
    "pred.gausspr=predict(gp,newdata=datestr)\n",
    "# Erreur quadratique moyenne de prévision\n",
    "sum((pred.gausspr-log(datestr[,\"vis\"]))^2)/nrow(y)\n",
    "\n",
    "\n",
    "# qd on garde vis on a l'erreur = 7.37460195902897e+23"
   ]
  },
  {
   "cell_type": "code",
   "execution_count": null,
   "id": "a35995d2",
   "metadata": {},
   "outputs": [],
   "source": [
    "nnet.reg=nnet(log(vis)~.,data=datappr,size=4,maxit=500)\n",
    "# calcul et graphe des résidus\n",
    "fit.nnetr=predict(nnet.reg,data=datappr)\n",
    "res.nnetr=fit.nnetr-log(datappr[,\"vis\"])\n",
    "plot(fit.nnetr,res.nnetr,titre=\"\",xlim=c(0,5),ylim=c(-15,15)) "
   ]
  },
  {
   "cell_type": "code",
   "execution_count": null,
   "id": "541522c0",
   "metadata": {},
   "outputs": [],
   "source": [
    "# Calcul des prévisions\n",
    "pred.nnetr=predict(nnet.reg,newdata=datestr)\n",
    "# Erreur quadratique moyenne de prévision\n",
    "sum((pred.nnetr-log(datestr[,\"vis\"]))^2)/nrow(datestr)\n",
    "\n",
    "# qd on grade vis au lieu de log vis on a l'erreur 9.98444881698066e+22"
   ]
  }
 ],
 "metadata": {
  "kernelspec": {
   "display_name": "R",
   "language": "R",
   "name": "ir"
  },
  "language_info": {
   "codemirror_mode": "r",
   "file_extension": ".r",
   "mimetype": "text/x-r-source",
   "name": "R",
   "pygments_lexer": "r",
   "version": "4.1.0"
  }
 },
 "nbformat": 4,
 "nbformat_minor": 5
}
